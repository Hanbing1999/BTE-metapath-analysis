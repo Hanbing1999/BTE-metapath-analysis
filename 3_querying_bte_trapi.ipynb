{
 "cells": [
  {
   "cell_type": "markdown",
   "metadata": {},
   "source": [
    "# Query Biothings Explorer's TRAPI endpoint for DrugMechDB concepts"
   ]
  },
  {
   "cell_type": "code",
   "execution_count": 3,
   "metadata": {},
   "outputs": [
    {
     "name": "stderr",
     "output_type": "stream",
     "text": [
      "/Users/hanbing/opt/anaconda3/lib/python3.9/site-packages/data_tools/df_processing.py:4: TqdmExperimentalWarning: Using `tqdm.autonotebook.tqdm` in notebook mode. Use `tqdm.tqdm` instead to force console mode (e.g. in jupyter console)\n",
      "  from tqdm.autonotebook import tqdm\n"
     ]
    }
   ],
   "source": [
    "# Builtin\n",
    "import time\n",
    "from pathlib import Path\n",
    "from itertools import chain\n",
    "from collections import defaultdict\n",
    "\n",
    "# PIP\n",
    "import demjson\n",
    "import requests\n",
    "import pandas as pd\n",
    "import networkx as nx\n",
    "from tqdm import tqdm\n",
    "from matplotlib import pyplot as plt\n",
    "\n",
    "# Github\n",
    "from data_tools.plotting import venn2_pretty as venn2"
   ]
  },
  {
   "cell_type": "code",
   "execution_count": 4,
   "metadata": {},
   "outputs": [],
   "source": [
    "this_name = '3_querying_bte_trapi'\n",
    "out_dir = Path('../2_pipeline').joinpath(this_name, 'out').resolve()\n",
    "out_dir.mkdir(exist_ok=True, parents=True)\n",
    "\n",
    "data_dir = Path('../0_data/external').resolve()"
   ]
  },
  {
   "cell_type": "code",
   "execution_count": 7,
   "metadata": {},
   "outputs": [],
   "source": [
    "import yaml\n",
    "with open(data_dir.joinpath('indication_paths.yaml'), 'r') as fh:\n",
    "        ind = yaml.load(fh, Loader=yaml.Loader)\n",
    "        \n",
    "dmdb_nodes = defaultdict(list)\n",
    "for p in ind:\n",
    "    for n in p['nodes']:\n",
    "        for k in ['id', 'name', 'label']:\n",
    "            # some strings have a unicode Byte order mark\n",
    "            # let's just strip it for functionality\n",
    "            dmdb_nodes[k].append(n[k].replace('\\ufeff', ''))\n",
    "dmdb_nodes = pd.DataFrame(dmdb_nodes)"
   ]
  },
  {
   "cell_type": "markdown",
   "metadata": {},
   "source": [
    "## Compare metanodes in Biothings Explorer TRAPI to DMDB"
   ]
  },
  {
   "cell_type": "code",
   "execution_count": 10,
   "metadata": {},
   "outputs": [],
   "source": [
    "dmdb_mn = set(dmdb_nodes['label'].unique())"
   ]
  },
  {
   "cell_type": "code",
   "execution_count": 13,
   "metadata": {},
   "outputs": [],
   "source": [
    "# r = requests.get(\"https://api.bte.ncats.io/v1/predicates\")\n",
    "r = requests.get(\"https://api.bte.ncats.io/v1/meta_knowledge_graph\")\n",
    "metagraph = r.json()\n",
    "bte_mn =  set([k.split(':')[-1] for k in metagraph.keys()])"
   ]
  },
  {
   "cell_type": "code",
   "execution_count": 14,
   "metadata": {},
   "outputs": [
    {
     "data": {
      "image/png": "[encoded data removed]",
      "text/plain": [
       "<Figure size 432x288 with 1 Axes>"
      ]
     },
     "metadata": {},
     "output_type": "display_data"
    }
   ],
   "source": [
    "venn2([dmdb_mn, bte_mn], ('DrugMechDB', 'Biothings Explorer'))\n",
    "plt.title('Checking metanode Differnces betweeh DrugMechDB and BTE');"
   ]
  },
  {
   "cell_type": "markdown",
   "metadata": {},
   "source": [
    "A perfect Subset"
   ]
  },
  {
   "cell_type": "code",
   "execution_count": 16,
   "metadata": {},
   "outputs": [],
   "source": [
    "def process_bte_result(result, hops=1):\n",
    "    out = defaultdict(list)\n",
    "    for res in result.json()['message']['results']:\n",
    "        out['n0'].append(res['node_bindings']['n0'][0]['id'])\n",
    "        for i in range(1, hops+1):\n",
    "            out['e{0}{1}'.format(i-1, i)].append(res['edge_bindings']['e{0}{1}'.format(i-1, i)][0]['id'].split('-')[1])\n",
    "            out['n{}'.format(i)].append(res['node_bindings']['n{}'.format(i)][0]['id'])\n",
    "    return pd.DataFrame(out)"
   ]
  },
  {
   "cell_type": "code",
   "execution_count": 17,
   "metadata": {},
   "outputs": [],
   "source": [
    "def get_response_ids(result):\n",
    "    out_map = defaultdict(list)\n",
    "    for k, v in r.json()['message']['knowledge_graph']['nodes'].items():\n",
    "        for elem in v['attributes']:\n",
    "            if elem.get('name') == 'equivalent_identifiers':\n",
    "                for e in elem.get('value'):\n",
    "                    out_map['bte_id'].append(k)\n",
    "                    out_map['eqiv_id'].append(e)\n",
    "    return pd.DataFrame(out_map)"
   ]
  },
  {
   "cell_type": "code",
   "execution_count": 18,
   "metadata": {},
   "outputs": [],
   "source": [
    "# Taken from https://github.com/kevinxin90/biomedical_id_resolver.js/blob/master/src/config.ts\n",
    "text = \"\"\"\n",
    "{\n",
    "  Gene: {\n",
    "    id_ranks: ['NCBIGENE', 'ENSEMBL', 'HGNC', 'SYMBOL', 'OMIM', 'UniProtKB', 'UMLS', 'MGI', 'name'],\n",
    "    semantic: 'Gene',\n",
    "    api_name: 'mygene.info',\n",
    "    url: 'https://mygene.info/v3/query',\n",
    "    mapping: {\n",
    "      NCBIGENE: ['entrezgene'],\n",
    "      name: ['name'],\n",
    "      SYMBOL: ['symbol'],\n",
    "      UMLS: ['umls.cui', 'umls.protein_cui'],\n",
    "      HGNC: ['HGNC'],\n",
    "      UniProtKB: ['uniprot.Swiss-Prot'],\n",
    "      ENSEMBL: ['ensembl.gene'],\n",
    "      OMIM: ['MIM'],\n",
    "      MGI: ['MGI'],\n",
    "    },\n",
    "    additional_attributes_mapping: {\n",
    "      interpro: ['interpro.desc'],\n",
    "      type_of_gene: ['type_of_gene'],\n",
    "    },\n",
    "  },\n",
    "  Protein: {\n",
    "    id_ranks: ['UniProtKB', 'ENSEMBL', 'SYMBOL', 'UMLS', 'name'],\n",
    "    semantic: 'Protein',\n",
    "    api_name: 'mygene.info',\n",
    "    url: 'https://mygene.info/v3/query',\n",
    "    mapping: {\n",
    "      name: ['name'],\n",
    "      SYMBOL: ['symbol'],\n",
    "      UMLS: ['umls.cui', 'umls.protein_cui'],\n",
    "      UniProtKB: ['uniprot.Swiss-Prot'],\n",
    "      ENSEMBL: ['ensembl.protein'],\n",
    "    },\n",
    "    additional_attributes_mapping: {\n",
    "      interpro: ['interpro.desc']\n",
    "    },\n",
    "  },\n",
    "  SequenceVariant: {\n",
    "    id_ranks: ['HGVS', 'DBSNP', 'MYVARIANT_HG19', 'CLINVAR'],\n",
    "    api_name: 'myvariant.info',\n",
    "    semantic: 'SequenceVariant',\n",
    "    url: 'https://myvariant.info/v1/query',\n",
    "    mapping: {\n",
    "      MYVARIANT_HG19: ['_id'],\n",
    "      DBSNP: ['dbsnp.rsid', 'clinvar.rsid', 'dbnsfp.rsid'],\n",
    "      HGVS: ['clinvar.hgvs.genomic', 'clinvar.hgvs.protein', 'clinvar.hgvs.coding'],\n",
    "      ClINVAR: ['clinvar.rcv.accession'],\n",
    "    },\n",
    "    additional_attributes_mapping: {\n",
    "      cadd_consequence: ['cadd.consequence'],\n",
    "      cadd_variant_type: ['cadd.type'],\n",
    "      dbsnp_variant_type: ['dbsnp.vartype'],\n",
    "      clinvar_clinical_significance: ['clinvar.rcv.clinical_significance'],\n",
    "      sift_category: ['cadd.sift.cat'],\n",
    "    },\n",
    "  },\n",
    "  ChemicalSubstance: {\n",
    "    id_ranks: [\n",
    "      'CHEBI',\n",
    "      'CHEMBL.COMPOUND',\n",
    "      'DRUGBANK',\n",
    "      'PUBCHEM.COMPOUND',\n",
    "      'MESH',\n",
    "      'INCHI',\n",
    "      'INCHIKEY',\n",
    "      'UNII',\n",
    "      'KEGG',\n",
    "      'UMLS',\n",
    "      'name',\n",
    "    ],\n",
    "    semantic: 'ChemicalSubstance',\n",
    "    api_name: 'mychem.info',\n",
    "    url: 'https://mychem.info/v1/query',\n",
    "    mapping: {\n",
    "      'CHEMBL.COMPOUND': ['chembl.molecule_chembl_id', 'drugbank.xrefs.chembl', 'drugcentral.xrefs.chembl_id'],\n",
    "      DRUGBANK: ['drugcentral.xrefs.drugbank_id', 'pharmgkb.xrefs.drugbank', 'chebi.xrefs.drugbank', 'drugbank.id'],\n",
    "      'PUBCHEM.COMPOUND': [\n",
    "        'pubchem.cid',\n",
    "        'drugbank.xrefs.pubchem.cid',\n",
    "        'drugcentral.xrefs.pubchem_cid',\n",
    "        'pharmgkb.xrefs.pubchem.cid',\n",
    "      ],\n",
    "      CHEBI: ['chebi.id', 'chembl.chebi_par_id', 'drugbank.xrefs.chebi', 'drugcentral.xrefs.chebi'],\n",
    "      UMLS: ['drugcentral.xrefs.umlscui', 'pharmgkb.xrefs.umls', 'umls.cui'],\n",
    "      MESH: ['umls.mesh', 'drugcentral.xrefs.mesh_descriptor_ui', 'ginas.xrefs.MESH', 'pharmgkb.xrefs.mesh'],\n",
    "      UNII: ['drugcentral.xrefs.unii', 'unii.unii', 'aeolus.unii', 'ginas.unii'],\n",
    "      INCHIKEY: ['drugbank.inchi_key', 'ginas.inchikey', 'unii.inchikey', 'chebi.inchikey'],\n",
    "      INCHI: ['drugbank.inchi', 'chebi.inchi', 'chembl.inchi'],\n",
    "      KEGG: ['drugbank.xrefs.kegg.cid'],\n",
    "      LINCS: ['unichem.lincs'],\n",
    "      name: ['chembl.pref_name', 'drugbank.name', 'umls.name', 'ginas.preferred_name', 'pharmgkb.name', 'chebi.name'],\n",
    "    },\n",
    "    additional_attributes_mapping: {\n",
    "      chembl_max_phase: ['chembl.max_phase'],\n",
    "      chembl_molecule_type: ['chembl.molecule_type'],\n",
    "      drugbank_drug_category: ['drugbank.categories.category'],\n",
    "      drugbank_taxonomy_class: ['drugbank.taxonomy.class'],\n",
    "      drugbank_groups: ['drugbank.groups'],\n",
    "      drugbank_kingdom: ['drugbank.taxonomy.kingdom'],\n",
    "      drugbank_superclass: ['drugbank.taxonomy.superclass'],\n",
    "      contraindications: ['drugcentral.drug_use.contraindication.concept_name'],\n",
    "      indications: ['drugcentral.drug_use.indication.concept_name'],\n",
    "      mesh_pharmacology_class: ['drugcentral.pharmacology_class.mesh_pa.description'],\n",
    "      fda_epc_pharmacology_class: ['drugcentral.pharmacology_class.fda_epc.description'],\n",
    "    },\n",
    "  },\n",
    "  Drug: {\n",
    "    id_ranks: [\n",
    "      'CHEBI',\n",
    "      'CHEMBL.COMPOUND',\n",
    "      'DRUGBANK',\n",
    "      'PUBCHEM.COMPOUND',\n",
    "      'MESH',\n",
    "      'INCHI',\n",
    "      'INCHIKEY',\n",
    "      'UNII',\n",
    "      'KEGG',\n",
    "      'UMLS',\n",
    "      'LINCS',\n",
    "      'name',\n",
    "    ],\n",
    "    semantic: 'ChemicalSubstance',\n",
    "    api_name: 'mychem.info',\n",
    "    url: 'https://mychem.info/v1/query',\n",
    "    mapping: {\n",
    "      'CHEMBL.COMPOUND': ['chembl.molecule_chembl_id', 'drugbank.xrefs.chembl', 'drugcentral.xrefs.chembl_id'],\n",
    "      DRUGBANK: ['drugcentral.xrefs.drugbank_id', 'pharmgkb.xrefs.drugbank', 'chebi.xrefs.drugbank', 'drugbank.id'],\n",
    "      'PUBCHEM.COMPOUND': [\n",
    "        'pubchem.cid',\n",
    "        'drugbank.xrefs.pubchem.cid',\n",
    "        'drugcentral.xrefs.pubchem_cid',\n",
    "        'pharmgkb.xrefs.pubchem.cid',\n",
    "      ],\n",
    "      CHEBI: ['chebi.id', 'chembl.chebi_par_id', 'drugbank.xrefs.chebi', 'drugcentral.xrefs.chebi'],\n",
    "      UMLS: ['drugcentral.xrefs.umlscui', 'pharmgkb.xrefs.umls', 'umls.cui'],\n",
    "      MESH: ['umls.mesh', 'drugcentral.xrefs.mesh_descriptor_ui', 'ginas.xrefs.MESH', 'pharmgkb.xrefs.mesh'],\n",
    "      UNII: ['drugcentral.xrefs.unii', 'unii.unii', 'aeolus.unii', 'ginas.unii'],\n",
    "      INCHIKEY: ['drugbank.inchi_key', 'ginas.inchikey', 'unii.inchikey', 'chebi.inchikey'],\n",
    "      INCHI: ['drugbank.inchi', 'chebi.inchi', 'chembl.inchi'],\n",
    "      KEGG: ['drugbank.xrefs.kegg.cid'],\n",
    "      name: ['chembl.pref_name', 'drugbank.name', 'umls.name', 'ginas.preferred_name', 'pharmgkb.name', 'chebi.name'],\n",
    "    },\n",
    "    additional_attributes_mapping: {\n",
    "      chembl_max_phase: ['chembl.max_phase'],\n",
    "      chembl_molecule_type: ['chembl.molecule_type'],\n",
    "      drugbank_drug_category: ['drugbank.categories.category'],\n",
    "      drugbank_taxonomy_class: ['drugbank.taxonomy.class'],\n",
    "      drugbank_groups: ['drugbank.groups'],\n",
    "      drugbank_kingdom: ['drugbank.taxonomy.kingdom'],\n",
    "      drugbank_superclass: ['drugbank.taxonomy.superclass'],\n",
    "      contraindications: ['drugcentral.drug_use.contraindication.concept_name'],\n",
    "      indications: ['drugcentral.drug_use.indication.concept_name'],\n",
    "      mesh_pharmacology_class: ['drugcentral.pharmacology_class.mesh_pa.description'],\n",
    "      fda_epc_pharmacology_class: ['drugcentral.pharmacology_class.fda_epc.description'],\n",
    "    },\n",
    "  },\n",
    "  PhenotypicFeature: {\n",
    "    id_ranks: ['UMLS', 'SNOMEDCT', 'HP', 'MEDDRA', 'EFO', 'NCIT', 'MESH', 'MP', 'name'],\n",
    "    semantic: 'PhenotypicFeature',\n",
    "    api_name: 'HPO API',\n",
    "    url: 'https://biothings.ncats.io/hpo/query',\n",
    "    mapping: {\n",
    "      UMLS: ['xrefs.umls'],\n",
    "      SNOMEDCT: ['xrefs.snomed_ct'],\n",
    "      HP: ['_id'],\n",
    "      MEDDRA: ['xrefs.meddra'],\n",
    "      EFO: ['xrefs.efo'],\n",
    "      NCIT: ['xrefs.ncit'],\n",
    "      MESH: ['xrefs.mesh'],\n",
    "      MP: ['xrefs.mp'],\n",
    "      name: ['name'],\n",
    "    },\n",
    "  },\n",
    "  Disease: {\n",
    "    id_ranks: ['MONDO', 'DOID', 'OMIM', 'ORPHANET', 'EFO', 'UMLS', 'MESH', 'HP', 'GARD', 'name'],\n",
    "    semantic: 'Disease',\n",
    "    api_name: 'mydisease.info',\n",
    "    url: 'https://mydisease.info/v1/query',\n",
    "    mapping: {\n",
    "      MONDO: ['mondo.mondo'],\n",
    "      DOID: ['mondo.xrefs.doid'],\n",
    "      UMLS: [\n",
    "        'mondo.xrefs.umls',\n",
    "        'mondo.xrefs.umls_cui',\n",
    "        'disgenet.xrefs.umls',\n",
    "        'umls.umls',\n",
    "        'disease_ontology.xrefs.umls_cui',\n",
    "      ],\n",
    "      name: ['mondo.label', 'disgenet.xrefs.disease_name'],\n",
    "      MESH: ['mondo.xrefs.mesh', 'disease_ontology.xrefs.mesh', 'ctd.mesh'],\n",
    "      OMIM: ['mondo.xrefs.omim', 'hpo.omim', 'disgenet.xrefs.omim'],\n",
    "      EFO: ['mondo.xrefs.efo'],\n",
    "      ORPHANET: ['hpo.orphanet', 'mondo.xrefs.orphanet'],\n",
    "      GARD: ['mondo.xrefs.gard', 'disease_ontology.xrefs.gard'],\n",
    "      HP: ['mondo.xrefs.hp'],\n",
    "    },\n",
    "  },\n",
    "  MolecularActivity: {\n",
    "    id_ranks: ['GO', 'MetaCyc', 'RHEA', 'KEGG', 'REACT', 'name'],\n",
    "    semantic: 'MolecularActivity',\n",
    "    api_name: 'Gene Ontology Molecular Function API',\n",
    "    url: 'https://biothings.ncats.io/go_mf/query',\n",
    "    mapping: {\n",
    "      GO: ['_id'],\n",
    "      MetaCyc: ['xrefs.metacyc'],\n",
    "      RHEA: ['xrefs.rhea'],\n",
    "      KEGG: ['xrefs.kegg_reaction'],\n",
    "      REACT: ['xrefs.reactome'],\n",
    "      name: ['name'],\n",
    "    },\n",
    "  },\n",
    "  BiologicalProcess: {\n",
    "    id_ranks: ['GO', 'MetaCyc', 'REACT', 'KEGG', 'name'],\n",
    "    semantic: 'BiologicalProcess',\n",
    "    api_name: 'Gene Ontology Biological Process API',\n",
    "    url: 'https://biothings.ncats.io/go_bp/query',\n",
    "    mapping: {\n",
    "      GO: ['_id'],\n",
    "      MetaCyc: ['xrefs.metacyc'],\n",
    "      KEGG: ['xrefs.kegg_pathway'],\n",
    "      REACT: ['xrefs.reactome'],\n",
    "      name: ['name'],\n",
    "    },\n",
    "  },\n",
    "  CellularComponent: {\n",
    "    id_ranks: ['GO', 'MetaCyc', 'RHEA', 'name'],\n",
    "    semantic: 'CellularComponent',\n",
    "    api_name: 'Gene Ontology Cellular Component API',\n",
    "    url: 'https://biothings.ncats.io/go_cc/query',\n",
    "    mapping: {\n",
    "      GO: ['_id'],\n",
    "      MetaCyc: ['xrefs.metacyc'],\n",
    "      RHEA: ['xrefs.rhea'],\n",
    "      name: ['name'],\n",
    "    },\n",
    "  },\n",
    "  Pathway: {\n",
    "    id_ranks: ['REACT', 'KEGG', 'PHARMGKB', 'WIKIPATHWAYS', 'name'],\n",
    "    semantic: 'Pathway',\n",
    "    api_name: 'geneset API',\n",
    "    url: 'https://biothings.ncats.io/geneset/query',\n",
    "    mapping: {\n",
    "      REACT: ['reactome'],\n",
    "      WIKIPATHWAYS: ['wikipathways'],\n",
    "      KEGG: ['kegg'],\n",
    "      PHARMGKB: ['pharmgkb'],\n",
    "      name: ['name'],\n",
    "    },\n",
    "    additional_attributes_mapping: {\n",
    "      num_of_participants: ['num_of_participants'],\n",
    "    },\n",
    "  },\n",
    "  AnatomicalEntity: {\n",
    "    id_ranks: ['UBERON', 'UMLS', 'MESH', 'NCIT', 'name'],\n",
    "    semantic: 'AnatomicalEntity',\n",
    "    api_name: 'UBERON API',\n",
    "    url: 'https://biothings.ncats.io/uberon/query',\n",
    "    mapping: {\n",
    "      UBERON: ['_id'],\n",
    "      UMLS: ['xrefs.umls'],\n",
    "      MESH: ['xrefs.mesh'],\n",
    "      NCIT: ['xrefs.ncit'],\n",
    "      name: ['name'],\n",
    "    },\n",
    "  },\n",
    "  Cell: {\n",
    "    id_ranks: ['CL', 'NCIT', 'MESH', 'EFO', 'name'],\n",
    "    semantic: 'Cell',\n",
    "    api_name: 'Cell Onotlogy API',\n",
    "    url: 'https://biothings.ncats.io/cell_ontology/query',\n",
    "    mapping: {\n",
    "      CL: ['_id'],\n",
    "      NCIT: ['xrefs.ncit'],\n",
    "      MESH: ['xrefs.mesh'],\n",
    "      EFO: ['xrefs.efo'],\n",
    "      name: ['name'],\n",
    "    },\n",
    "  },\n",
    "}\"\"\""
   ]
  },
  {
   "cell_type": "code",
   "execution_count": 19,
   "metadata": {
    "scrolled": true
   },
   "outputs": [
    {
     "ename": "AttributeError",
     "evalue": "'dict' object has no attribute 'has_key'",
     "output_type": "error",
     "traceback": [
      "\u001b[0;31m---------------------------------------------------------------------------\u001b[0m",
      "\u001b[0;31mAttributeError\u001b[0m                            Traceback (most recent call last)",
      "\u001b[0;32m/var/folders/jq/09rd7qt104qgnwcgxv4v6nb80000gn/T/ipykernel_4250/285748710.py\u001b[0m in \u001b[0;36m<module>\u001b[0;34m\u001b[0m\n\u001b[0;32m----> 1\u001b[0;31m \u001b[0mmetadata\u001b[0m \u001b[0;34m=\u001b[0m \u001b[0mdemjson\u001b[0m\u001b[0;34m.\u001b[0m\u001b[0mdecode\u001b[0m\u001b[0;34m(\u001b[0m\u001b[0mtext\u001b[0m\u001b[0;34m)\u001b[0m\u001b[0;34m\u001b[0m\u001b[0;34m\u001b[0m\u001b[0m\n\u001b[0m\u001b[1;32m      2\u001b[0m \u001b[0mlist\u001b[0m\u001b[0;34m(\u001b[0m\u001b[0mmetadata\u001b[0m\u001b[0;34m.\u001b[0m\u001b[0mkeys\u001b[0m\u001b[0;34m(\u001b[0m\u001b[0;34m)\u001b[0m\u001b[0;34m)\u001b[0m\u001b[0;34m\u001b[0m\u001b[0;34m\u001b[0m\u001b[0m\n",
      "\u001b[0;32m~/opt/anaconda3/lib/python3.9/site-packages/demjson.py\u001b[0m in \u001b[0;36mdecode\u001b[0;34m(txt, strict, encoding, **kw)\u001b[0m\n\u001b[1;32m   2037\u001b[0m     \"\"\"\n\u001b[1;32m   2038\u001b[0m     \u001b[0;31m# Initialize the JSON object\u001b[0m\u001b[0;34m\u001b[0m\u001b[0;34m\u001b[0m\u001b[0m\n\u001b[0;32m-> 2039\u001b[0;31m     \u001b[0mj\u001b[0m \u001b[0;34m=\u001b[0m \u001b[0mJSON\u001b[0m\u001b[0;34m(\u001b[0m \u001b[0mstrict\u001b[0m\u001b[0;34m=\u001b[0m\u001b[0mstrict\u001b[0m \u001b[0;34m)\u001b[0m\u001b[0;34m\u001b[0m\u001b[0;34m\u001b[0m\u001b[0m\n\u001b[0m\u001b[1;32m   2040\u001b[0m     \u001b[0;32mfor\u001b[0m \u001b[0mkeyword\u001b[0m\u001b[0;34m,\u001b[0m \u001b[0mvalue\u001b[0m \u001b[0;32min\u001b[0m \u001b[0mkw\u001b[0m\u001b[0;34m.\u001b[0m\u001b[0mitems\u001b[0m\u001b[0;34m(\u001b[0m\u001b[0;34m)\u001b[0m\u001b[0;34m:\u001b[0m\u001b[0;34m\u001b[0m\u001b[0;34m\u001b[0m\u001b[0m\n\u001b[1;32m   2041\u001b[0m         \u001b[0;32mif\u001b[0m \u001b[0mkeyword\u001b[0m\u001b[0;34m.\u001b[0m\u001b[0mstartswith\u001b[0m\u001b[0;34m(\u001b[0m\u001b[0;34m'allow_'\u001b[0m\u001b[0;34m)\u001b[0m\u001b[0;34m:\u001b[0m\u001b[0;34m\u001b[0m\u001b[0;34m\u001b[0m\u001b[0m\n",
      "\u001b[0;32m~/opt/anaconda3/lib/python3.9/site-packages/demjson.py\u001b[0m in \u001b[0;36m__init__\u001b[0;34m(self, strict, compactly, escape_unicode)\u001b[0m\n\u001b[1;32m    908\u001b[0m         \u001b[0;31m# need to be escaped.\u001b[0m\u001b[0;34m\u001b[0m\u001b[0;34m\u001b[0m\u001b[0m\n\u001b[1;32m    909\u001b[0m \u001b[0;34m\u001b[0m\u001b[0m\n\u001b[0;32m--> 910\u001b[0;31m         self._asciiencodable = [32 <= c < 128 and not self._rev_escapes.has_key(chr(c))\n\u001b[0m\u001b[1;32m    911\u001b[0m                                 for c in range(0,256)]\n\u001b[1;32m    912\u001b[0m \u001b[0;34m\u001b[0m\u001b[0m\n",
      "\u001b[0;32m~/opt/anaconda3/lib/python3.9/site-packages/demjson.py\u001b[0m in \u001b[0;36m<listcomp>\u001b[0;34m(.0)\u001b[0m\n\u001b[1;32m    908\u001b[0m         \u001b[0;31m# need to be escaped.\u001b[0m\u001b[0;34m\u001b[0m\u001b[0;34m\u001b[0m\u001b[0m\n\u001b[1;32m    909\u001b[0m \u001b[0;34m\u001b[0m\u001b[0m\n\u001b[0;32m--> 910\u001b[0;31m         self._asciiencodable = [32 <= c < 128 and not self._rev_escapes.has_key(chr(c))\n\u001b[0m\u001b[1;32m    911\u001b[0m                                 for c in range(0,256)]\n\u001b[1;32m    912\u001b[0m \u001b[0;34m\u001b[0m\u001b[0m\n",
      "\u001b[0;31mAttributeError\u001b[0m: 'dict' object has no attribute 'has_key'"
     ]
    }
   ],
   "source": [
    "metadata = demjson.decode(text)\n",
    "list(metadata.keys())"
   ]
  },
  {
   "cell_type": "code",
   "execution_count": 20,
   "metadata": {},
   "outputs": [
    {
     "ename": "NameError",
     "evalue": "name 'metadata' is not defined",
     "output_type": "error",
     "traceback": [
      "\u001b[0;31m---------------------------------------------------------------------------\u001b[0m",
      "\u001b[0;31mNameError\u001b[0m                                 Traceback (most recent call last)",
      "\u001b[0;32m/var/folders/jq/09rd7qt104qgnwcgxv4v6nb80000gn/T/ipykernel_4250/1749735230.py\u001b[0m in \u001b[0;36m<module>\u001b[0;34m\u001b[0m\n\u001b[0;32m----> 1\u001b[0;31m \u001b[0mmetadata\u001b[0m\u001b[0;34m[\u001b[0m\u001b[0;34m'Drug'\u001b[0m\u001b[0;34m]\u001b[0m\u001b[0;34m[\u001b[0m\u001b[0;34m'id_ranks'\u001b[0m\u001b[0;34m]\u001b[0m\u001b[0;34m\u001b[0m\u001b[0;34m\u001b[0m\u001b[0m\n\u001b[0m",
      "\u001b[0;31mNameError\u001b[0m: name 'metadata' is not defined"
     ]
    }
   ],
   "source": [
    "metadata['Drug']['id_ranks']"
   ]
  },
  {
   "cell_type": "code",
   "execution_count": 12,
   "metadata": {},
   "outputs": [
    {
     "data": {
      "image/png": "[encoded data removed]",
      "text/plain": [
       "<Figure size 432x288 with 1 Axes>"
      ]
     },
     "metadata": {},
     "output_type": "display_data"
    }
   ],
   "source": [
    "venn2([dmdb_mn, set(metadata.keys())], ('DrugMechDB', 'Biothings Explorer'))\n",
    "plt.title('DrugMechDB Metanodes vs BTE Resolver Metanodes');"
   ]
  },
  {
   "cell_type": "code",
   "execution_count": 13,
   "metadata": {},
   "outputs": [
    {
     "data": {
      "text/plain": [
       "{'GeneFamily',\n",
       " 'GrossAnatomicalStructure',\n",
       " 'MacromolecularComplex',\n",
       " 'OrganismTaxon'}"
      ]
     },
     "execution_count": 13,
     "metadata": {},
     "output_type": "execute_result"
    }
   ],
   "source": [
    "dmdb_mn - set(metadata.keys())"
   ]
  },
  {
   "cell_type": "code",
   "execution_count": 14,
   "metadata": {},
   "outputs": [],
   "source": [
    "dmdb_bte_mn_map = {'GrossAnatomicalStructure':'AnatomicalEntity'}"
   ]
  },
  {
   "cell_type": "code",
   "execution_count": 15,
   "metadata": {},
   "outputs": [],
   "source": [
    "mn_to_quid = {}\n",
    "for mn in dmdb_mn:\n",
    "    mn_to_quid[mn] = metadata.get(dmdb_bte_mn_map.get(mn, mn), {}).get('id_ranks', [])"
   ]
  },
  {
   "cell_type": "code",
   "execution_count": 16,
   "metadata": {},
   "outputs": [
    {
     "data": {
      "text/plain": [
       "{'Drug': ['CHEBI',\n",
       "  'CHEMBL.COMPOUND',\n",
       "  'DRUGBANK',\n",
       "  'PUBCHEM.COMPOUND',\n",
       "  'MESH',\n",
       "  'INCHI',\n",
       "  'INCHIKEY',\n",
       "  'UNII',\n",
       "  'KEGG',\n",
       "  'UMLS',\n",
       "  'LINCS',\n",
       "  'name'],\n",
       " 'GrossAnatomicalStructure': ['UBERON', 'UMLS', 'MESH', 'NCIT', 'name'],\n",
       " 'MolecularActivity': ['GO', 'MetaCyc', 'RHEA', 'KEGG', 'REACT', 'name'],\n",
       " 'Disease': ['MONDO',\n",
       "  'DOID',\n",
       "  'OMIM',\n",
       "  'ORPHANET',\n",
       "  'EFO',\n",
       "  'UMLS',\n",
       "  'MESH',\n",
       "  'HP',\n",
       "  'GARD',\n",
       "  'name'],\n",
       " 'MacromolecularComplex': [],\n",
       " 'BiologicalProcess': ['GO', 'MetaCyc', 'REACT', 'KEGG', 'name'],\n",
       " 'Protein': ['UniProtKB', 'ENSEMBL', 'SYMBOL', 'UMLS', 'name'],\n",
       " 'Cell': ['CL', 'NCIT', 'MESH', 'EFO', 'name'],\n",
       " 'OrganismTaxon': [],\n",
       " 'CellularComponent': ['GO', 'MetaCyc', 'RHEA', 'name'],\n",
       " 'GeneFamily': [],\n",
       " 'Pathway': ['REACT', 'KEGG', 'PHARMGKB', 'WIKIPATHWAYS', 'name'],\n",
       " 'PhenotypicFeature': ['UMLS',\n",
       "  'SNOMEDCT',\n",
       "  'HP',\n",
       "  'MEDDRA',\n",
       "  'EFO',\n",
       "  'NCIT',\n",
       "  'MESH',\n",
       "  'MP',\n",
       "  'name'],\n",
       " 'ChemicalSubstance': ['CHEBI',\n",
       "  'CHEMBL.COMPOUND',\n",
       "  'DRUGBANK',\n",
       "  'PUBCHEM.COMPOUND',\n",
       "  'MESH',\n",
       "  'INCHI',\n",
       "  'INCHIKEY',\n",
       "  'UNII',\n",
       "  'KEGG',\n",
       "  'UMLS',\n",
       "  'name']}"
      ]
     },
     "execution_count": 16,
     "metadata": {},
     "output_type": "execute_result"
    }
   ],
   "source": [
    "mn_to_quid"
   ]
  },
  {
   "cell_type": "code",
   "execution_count": 17,
   "metadata": {},
   "outputs": [],
   "source": [
    "dmdb_nodes['curi'] = dmdb_nodes['id'].apply(lambda s: s.split(':')[0])\n",
    "mn_to_curi = dmdb_nodes.groupby('label')['curi'].unique().apply(list).to_dict()"
   ]
  },
  {
   "cell_type": "code",
   "execution_count": 18,
   "metadata": {},
   "outputs": [],
   "source": [
    "def get_types_for_curi(curi):\n",
    "    out = []\n",
    "    for k, v in metadata.items():\n",
    "        if curi in v['id_ranks']:\n",
    "            out.append(k)\n",
    "    return out"
   ]
  },
  {
   "cell_type": "code",
   "execution_count": 19,
   "metadata": {},
   "outputs": [
    {
     "data": {
      "text/plain": [
       "['ChemicalSubstance',\n",
       " 'Drug',\n",
       " 'PhenotypicFeature',\n",
       " 'Disease',\n",
       " 'AnatomicalEntity',\n",
       " 'Cell']"
      ]
     },
     "execution_count": 19,
     "metadata": {},
     "output_type": "execute_result"
    }
   ],
   "source": [
    "get_types_for_curi('MESH')"
   ]
  },
  {
   "cell_type": "code",
   "execution_count": 20,
   "metadata": {},
   "outputs": [
    {
     "name": "stdout",
     "output_type": "stream",
     "text": [
      "BiologicalProcess : ['GO', 'MESH', 'HP', 'REACT']\n",
      "['GO', 'MetaCyc', 'REACT', 'KEGG', 'name']\n",
      "\n",
      "Cell : ['CL', 'MESH']\n",
      "['CL', 'NCIT', 'MESH', 'EFO', 'name']\n",
      "\n",
      "CellularComponent : ['GO', 'MESH']\n",
      "['GO', 'MetaCyc', 'RHEA', 'name']\n",
      "\n",
      "ChemicalSubstance : ['MESH', 'CHEBI', 'GO']\n",
      "['CHEBI', 'CHEMBL.COMPOUND', 'DRUGBANK', 'PUBCHEM.COMPOUND', 'MESH', 'INCHI', 'INCHIKEY', 'UNII', 'KEGG', 'UMLS', 'name']\n",
      "\n",
      "Disease : ['MESH', 'HP']\n",
      "['MONDO', 'DOID', 'OMIM', 'ORPHANET', 'EFO', 'UMLS', 'MESH', 'HP', 'GARD', 'name']\n",
      "\n",
      "Drug : ['MESH', 'DB', 'CHEBI']\n",
      "['CHEBI', 'CHEMBL.COMPOUND', 'DRUGBANK', 'PUBCHEM.COMPOUND', 'MESH', 'INCHI', 'INCHIKEY', 'UNII', 'KEGG', 'UMLS', 'LINCS', 'name']\n",
      "\n",
      "GeneFamily : ['TIGR', 'InterPro', 'MESH', 'Pfam']\n",
      "[]\n",
      "\n",
      "GrossAnatomicalStructure : ['UBERON', 'CL', 'MESH', 'GO']\n",
      "['UBERON', 'UMLS', 'MESH', 'NCIT', 'name']\n",
      "\n",
      "MacromolecularComplex : ['PR', 'MESH']\n",
      "[]\n",
      "\n",
      "MolecularActivity : ['GO']\n",
      "['GO', 'MetaCyc', 'RHEA', 'KEGG', 'REACT', 'name']\n",
      "\n",
      "OrganismTaxon : ['NCBITaxon', 'UBERON']\n",
      "[]\n",
      "\n",
      "Pathway : ['REACT']\n",
      "['REACT', 'KEGG', 'PHARMGKB', 'WIKIPATHWAYS', 'name']\n",
      "\n",
      "PhenotypicFeature : ['HP', 'MESH', 'GO']\n",
      "['UMLS', 'SNOMEDCT', 'HP', 'MEDDRA', 'EFO', 'NCIT', 'MESH', 'MP', 'name']\n",
      "\n",
      "Protein : ['UniProt', 'InterPro', 'MESH', 'GO']\n",
      "['UniProtKB', 'ENSEMBL', 'SYMBOL', 'UMLS', 'name']\n",
      "\n"
     ]
    }
   ],
   "source": [
    "for mn in mn_to_curi.keys():\n",
    "    print(mn, ':', mn_to_curi[mn])\n",
    "    print(mn_to_quid[mn], end='\\n\\n')"
   ]
  },
  {
   "cell_type": "code",
   "execution_count": 21,
   "metadata": {},
   "outputs": [],
   "source": [
    "dmdb_bte_curi_map = {\n",
    "    'UniProt': 'UniProtKB',\n",
    "    'DB': 'DRUGBANK',    \n",
    "}"
   ]
  },
  {
   "cell_type": "code",
   "execution_count": 22,
   "metadata": {},
   "outputs": [
    {
     "name": "stdout",
     "output_type": "stream",
     "text": [
      "BiologicalProcess : {'REACT', 'GO'}\n",
      "Cell : {'CL', 'MESH'}\n",
      "CellularComponent : {'GO'}\n",
      "ChemicalSubstance : {'MESH', 'CHEBI'}\n",
      "Disease : {'MESH', 'HP'}\n",
      "Drug : {'MESH', 'CHEBI'}\n",
      "GeneFamily : set()\n",
      "GrossAnatomicalStructure : {'UBERON', 'MESH'}\n",
      "MacromolecularComplex : set()\n",
      "MolecularActivity : {'GO'}\n",
      "OrganismTaxon : set()\n",
      "Pathway : {'REACT'}\n",
      "PhenotypicFeature : {'MESH', 'HP'}\n",
      "Protein : set()\n"
     ]
    }
   ],
   "source": [
    "for mn in mn_to_curi.keys():\n",
    "    print(mn, ':', set(mn_to_curi[mn]) & set(mn_to_quid[mn]))"
   ]
  },
  {
   "cell_type": "code",
   "execution_count": 23,
   "metadata": {},
   "outputs": [
    {
     "data": {
      "text/plain": [
       "{'InterPro', 'NCBITaxon', 'PR', 'Pfam', 'TIGR'}"
      ]
     },
     "execution_count": 23,
     "metadata": {},
     "output_type": "execute_result"
    }
   ],
   "source": [
    "bte_curis = set(chain(*[v['id_ranks'] for v in metadata.values()]))\n",
    "dmdb_curis = set([dmdb_bte_curi_map.get(c, c) for c in dmdb_nodes['curi'].unique()])\n",
    "\n",
    "dmdb_curis - bte_curis"
   ]
  },
  {
   "cell_type": "code",
   "execution_count": 24,
   "metadata": {},
   "outputs": [
    {
     "data": {
      "text/html": [
       "<div>\n",
       "<style scoped>\n",
       "    .dataframe tbody tr th:only-of-type {\n",
       "        vertical-align: middle;\n",
       "    }\n",
       "\n",
       "    .dataframe tbody tr th {\n",
       "        vertical-align: top;\n",
       "    }\n",
       "\n",
       "    .dataframe thead th {\n",
       "        text-align: right;\n",
       "    }\n",
       "</style>\n",
       "<table border=\"1\" class=\"dataframe\">\n",
       "  <thead>\n",
       "    <tr style=\"text-align: right;\">\n",
       "      <th></th>\n",
       "      <th>id</th>\n",
       "      <th>name</th>\n",
       "      <th>label</th>\n",
       "      <th>curi</th>\n",
       "    </tr>\n",
       "  </thead>\n",
       "  <tbody>\n",
       "    <tr>\n",
       "      <th>1787</th>\n",
       "      <td>PR:000028445</td>\n",
       "      <td>glycoprotein GPIIb/IIIa complex</td>\n",
       "      <td>MacromolecularComplex</td>\n",
       "      <td>PR</td>\n",
       "    </tr>\n",
       "    <tr>\n",
       "      <th>1795</th>\n",
       "      <td>PR:000028445</td>\n",
       "      <td>glycoprotein GPIIb/IIIa complex</td>\n",
       "      <td>MacromolecularComplex</td>\n",
       "      <td>PR</td>\n",
       "    </tr>\n",
       "    <tr>\n",
       "      <th>1803</th>\n",
       "      <td>PR:000028445</td>\n",
       "      <td>glycoprotein GPIIb/IIIa complex</td>\n",
       "      <td>MacromolecularComplex</td>\n",
       "      <td>PR</td>\n",
       "    </tr>\n",
       "    <tr>\n",
       "      <th>1811</th>\n",
       "      <td>PR:000028445</td>\n",
       "      <td>glycoprotein GPIIb/IIIa complex</td>\n",
       "      <td>MacromolecularComplex</td>\n",
       "      <td>PR</td>\n",
       "    </tr>\n",
       "    <tr>\n",
       "      <th>3579</th>\n",
       "      <td>PR:000028445</td>\n",
       "      <td>platelet glycoprotein (GP) IIb/IIIa receptor</td>\n",
       "      <td>MacromolecularComplex</td>\n",
       "      <td>PR</td>\n",
       "    </tr>\n",
       "    <tr>\n",
       "      <th>4471</th>\n",
       "      <td>PR:000028799</td>\n",
       "      <td>Tubulin</td>\n",
       "      <td>MacromolecularComplex</td>\n",
       "      <td>PR</td>\n",
       "    </tr>\n",
       "    <tr>\n",
       "      <th>6793</th>\n",
       "      <td>MESH:D009093</td>\n",
       "      <td>Mucus</td>\n",
       "      <td>MacromolecularComplex</td>\n",
       "      <td>MESH</td>\n",
       "    </tr>\n",
       "    <tr>\n",
       "      <th>9532</th>\n",
       "      <td>PR:000028445</td>\n",
       "      <td>Glycoprotein GPIIb/IIIa complex</td>\n",
       "      <td>MacromolecularComplex</td>\n",
       "      <td>PR</td>\n",
       "    </tr>\n",
       "    <tr>\n",
       "      <th>10605</th>\n",
       "      <td>PR:000023855</td>\n",
       "      <td>30S ribosomal subunit</td>\n",
       "      <td>MacromolecularComplex</td>\n",
       "      <td>PR</td>\n",
       "    </tr>\n",
       "    <tr>\n",
       "      <th>10610</th>\n",
       "      <td>PR:000023855</td>\n",
       "      <td>30S ribosomal subunit</td>\n",
       "      <td>MacromolecularComplex</td>\n",
       "      <td>PR</td>\n",
       "    </tr>\n",
       "    <tr>\n",
       "      <th>10615</th>\n",
       "      <td>PR:000023855</td>\n",
       "      <td>30S ribosomal subunit</td>\n",
       "      <td>MacromolecularComplex</td>\n",
       "      <td>PR</td>\n",
       "    </tr>\n",
       "    <tr>\n",
       "      <th>10620</th>\n",
       "      <td>PR:000023855</td>\n",
       "      <td>30S ribosomal subunit</td>\n",
       "      <td>MacromolecularComplex</td>\n",
       "      <td>PR</td>\n",
       "    </tr>\n",
       "    <tr>\n",
       "      <th>10625</th>\n",
       "      <td>PR:000023855</td>\n",
       "      <td>30S ribosomal subunit</td>\n",
       "      <td>MacromolecularComplex</td>\n",
       "      <td>PR</td>\n",
       "    </tr>\n",
       "    <tr>\n",
       "      <th>10630</th>\n",
       "      <td>PR:000023855</td>\n",
       "      <td>30S ribosomal subunit</td>\n",
       "      <td>MacromolecularComplex</td>\n",
       "      <td>PR</td>\n",
       "    </tr>\n",
       "    <tr>\n",
       "      <th>12645</th>\n",
       "      <td>PR:000026806</td>\n",
       "      <td>DNA template-RNA polymerase complex</td>\n",
       "      <td>MacromolecularComplex</td>\n",
       "      <td>PR</td>\n",
       "    </tr>\n",
       "    <tr>\n",
       "      <th>12650</th>\n",
       "      <td>PR:000026806</td>\n",
       "      <td>DNA template-RNA polymerase complex</td>\n",
       "      <td>MacromolecularComplex</td>\n",
       "      <td>PR</td>\n",
       "    </tr>\n",
       "  </tbody>\n",
       "</table>\n",
       "</div>"
      ],
      "text/plain": [
       "                 id                                          name  \\\n",
       "1787   PR:000028445               glycoprotein GPIIb/IIIa complex   \n",
       "1795   PR:000028445               glycoprotein GPIIb/IIIa complex   \n",
       "1803   PR:000028445               glycoprotein GPIIb/IIIa complex   \n",
       "1811   PR:000028445               glycoprotein GPIIb/IIIa complex   \n",
       "3579   PR:000028445  platelet glycoprotein (GP) IIb/IIIa receptor   \n",
       "4471   PR:000028799                                       Tubulin   \n",
       "6793   MESH:D009093                                         Mucus   \n",
       "9532   PR:000028445               Glycoprotein GPIIb/IIIa complex   \n",
       "10605  PR:000023855                         30S ribosomal subunit   \n",
       "10610  PR:000023855                         30S ribosomal subunit   \n",
       "10615  PR:000023855                         30S ribosomal subunit   \n",
       "10620  PR:000023855                         30S ribosomal subunit   \n",
       "10625  PR:000023855                         30S ribosomal subunit   \n",
       "10630  PR:000023855                         30S ribosomal subunit   \n",
       "12645  PR:000026806           DNA template-RNA polymerase complex   \n",
       "12650  PR:000026806           DNA template-RNA polymerase complex   \n",
       "\n",
       "                       label  curi  \n",
       "1787   MacromolecularComplex    PR  \n",
       "1795   MacromolecularComplex    PR  \n",
       "1803   MacromolecularComplex    PR  \n",
       "1811   MacromolecularComplex    PR  \n",
       "3579   MacromolecularComplex    PR  \n",
       "4471   MacromolecularComplex    PR  \n",
       "6793   MacromolecularComplex  MESH  \n",
       "9532   MacromolecularComplex    PR  \n",
       "10605  MacromolecularComplex    PR  \n",
       "10610  MacromolecularComplex    PR  \n",
       "10615  MacromolecularComplex    PR  \n",
       "10620  MacromolecularComplex    PR  \n",
       "10625  MacromolecularComplex    PR  \n",
       "10630  MacromolecularComplex    PR  \n",
       "12645  MacromolecularComplex    PR  \n",
       "12650  MacromolecularComplex    PR  "
      ]
     },
     "execution_count": 24,
     "metadata": {},
     "output_type": "execute_result"
    }
   ],
   "source": [
    "dmdb_nodes.query('label == \"MacromolecularComplex\"')"
   ]
  },
  {
   "cell_type": "markdown",
   "metadata": {},
   "source": [
    "### Start getting edges ready to query"
   ]
  },
  {
   "cell_type": "code",
   "execution_count": 25,
   "metadata": {},
   "outputs": [],
   "source": [
    "def nodes_to_dict(nodes):\n",
    "    out = {}\n",
    "    for n in nodes:\n",
    "        out[n['id']] = {'name': n['name'], 'label': n['label']}\n",
    "    return out"
   ]
  },
  {
   "cell_type": "code",
   "execution_count": 26,
   "metadata": {},
   "outputs": [],
   "source": [
    "edge_info = defaultdict(list)\n",
    "\n",
    "for p in ind:\n",
    "    nmap = nodes_to_dict(p['nodes'])\n",
    "    for e in p['links']:\n",
    "        edge_info['start'].append(e['source'])\n",
    "        edge_info['end'].append(e['target'])\n",
    "        edge_info['start_mn'].append(nmap[e['source']]['label'])\n",
    "        edge_info['end_mn'].append(nmap[e['target']]['label'])\n",
    "        edge_info['type'].append(e['key'])\n",
    "        \n",
    "edge_info = pd.DataFrame(edge_info)"
   ]
  },
  {
   "cell_type": "code",
   "execution_count": 27,
   "metadata": {},
   "outputs": [],
   "source": [
    "unique_edges = edge_info.drop_duplicates(subset=['start', 'end']).copy()"
   ]
  },
  {
   "cell_type": "code",
   "execution_count": 28,
   "metadata": {},
   "outputs": [],
   "source": [
    "unique_edges['start_curi'] = unique_edges['start'].apply(lambda s: s.split(':')[0])\n",
    "unique_edges['start_id'] = unique_edges['start'].apply(lambda s: s.split(':')[1])\n",
    "\n",
    "unique_edges['end_curi'] = unique_edges['end'].apply(lambda s: s.split(':')[0])\n",
    "unique_edges['end_id'] = unique_edges['end'].apply(lambda s: s.split(':')[1])"
   ]
  },
  {
   "cell_type": "code",
   "execution_count": 29,
   "metadata": {},
   "outputs": [],
   "source": [
    "curi_map = {k: k for k in unique_edges[['start_curi', 'end_curi']].stack().unique()}\n",
    "curi_map = {**curi_map, **dmdb_bte_curi_map}"
   ]
  },
  {
   "cell_type": "code",
   "execution_count": 30,
   "metadata": {},
   "outputs": [],
   "source": [
    "unique_edges['start_curi'] = unique_edges['start_curi'].map(curi_map)\n",
    "unique_edges['end_curi'] = unique_edges['end_curi'].map(curi_map)"
   ]
  },
  {
   "cell_type": "code",
   "execution_count": 31,
   "metadata": {},
   "outputs": [
    {
     "data": {
      "text/html": [
       "<div>\n",
       "<style scoped>\n",
       "    .dataframe tbody tr th:only-of-type {\n",
       "        vertical-align: middle;\n",
       "    }\n",
       "\n",
       "    .dataframe tbody tr th {\n",
       "        vertical-align: top;\n",
       "    }\n",
       "\n",
       "    .dataframe thead th {\n",
       "        text-align: right;\n",
       "    }\n",
       "</style>\n",
       "<table border=\"1\" class=\"dataframe\">\n",
       "  <thead>\n",
       "    <tr style=\"text-align: right;\">\n",
       "      <th></th>\n",
       "      <th>start</th>\n",
       "      <th>end</th>\n",
       "      <th>start_mn</th>\n",
       "      <th>end_mn</th>\n",
       "      <th>type</th>\n",
       "      <th>start_curi</th>\n",
       "      <th>start_id</th>\n",
       "      <th>end_curi</th>\n",
       "      <th>end_id</th>\n",
       "    </tr>\n",
       "  </thead>\n",
       "  <tbody>\n",
       "    <tr>\n",
       "      <th>0</th>\n",
       "      <td>MESH:D000068877</td>\n",
       "      <td>UniProt:P00519</td>\n",
       "      <td>Drug</td>\n",
       "      <td>Protein</td>\n",
       "      <td>decreases activity of</td>\n",
       "      <td>MESH</td>\n",
       "      <td>D000068877</td>\n",
       "      <td>UniProtKB</td>\n",
       "      <td>P00519</td>\n",
       "    </tr>\n",
       "    <tr>\n",
       "      <th>1</th>\n",
       "      <td>UniProt:P00519</td>\n",
       "      <td>MESH:D015464</td>\n",
       "      <td>Protein</td>\n",
       "      <td>Disease</td>\n",
       "      <td>causes</td>\n",
       "      <td>UniProtKB</td>\n",
       "      <td>P00519</td>\n",
       "      <td>MESH</td>\n",
       "      <td>D015464</td>\n",
       "    </tr>\n",
       "    <tr>\n",
       "      <th>2</th>\n",
       "      <td>MESH:D000068877</td>\n",
       "      <td>UniProt:P10721</td>\n",
       "      <td>Drug</td>\n",
       "      <td>Protein</td>\n",
       "      <td>decreases activity of</td>\n",
       "      <td>MESH</td>\n",
       "      <td>D000068877</td>\n",
       "      <td>UniProtKB</td>\n",
       "      <td>P10721</td>\n",
       "    </tr>\n",
       "    <tr>\n",
       "      <th>3</th>\n",
       "      <td>MESH:D000068877</td>\n",
       "      <td>UniProt:P16234</td>\n",
       "      <td>Drug</td>\n",
       "      <td>Protein</td>\n",
       "      <td>decreases activity of</td>\n",
       "      <td>MESH</td>\n",
       "      <td>D000068877</td>\n",
       "      <td>UniProtKB</td>\n",
       "      <td>P16234</td>\n",
       "    </tr>\n",
       "    <tr>\n",
       "      <th>4</th>\n",
       "      <td>UniProt:P10721</td>\n",
       "      <td>GO:0008283</td>\n",
       "      <td>Protein</td>\n",
       "      <td>BiologicalProcess</td>\n",
       "      <td>positively regulates</td>\n",
       "      <td>UniProtKB</td>\n",
       "      <td>P10721</td>\n",
       "      <td>GO</td>\n",
       "      <td>0008283</td>\n",
       "    </tr>\n",
       "    <tr>\n",
       "      <th>...</th>\n",
       "      <td>...</td>\n",
       "      <td>...</td>\n",
       "      <td>...</td>\n",
       "      <td>...</td>\n",
       "      <td>...</td>\n",
       "      <td>...</td>\n",
       "      <td>...</td>\n",
       "      <td>...</td>\n",
       "      <td>...</td>\n",
       "    </tr>\n",
       "    <tr>\n",
       "      <th>12319</th>\n",
       "      <td>GO:0006954</td>\n",
       "      <td>MESH:D017439</td>\n",
       "      <td>BiologicalProcess</td>\n",
       "      <td>Disease</td>\n",
       "      <td>correlated with</td>\n",
       "      <td>GO</td>\n",
       "      <td>0006954</td>\n",
       "      <td>MESH</td>\n",
       "      <td>D017439</td>\n",
       "    </tr>\n",
       "    <tr>\n",
       "      <th>12320</th>\n",
       "      <td>MESH:C012293</td>\n",
       "      <td>InterPro:IPR015618</td>\n",
       "      <td>Drug</td>\n",
       "      <td>GeneFamily</td>\n",
       "      <td>decreases synthesis of</td>\n",
       "      <td>MESH</td>\n",
       "      <td>C012293</td>\n",
       "      <td>InterPro</td>\n",
       "      <td>IPR015618</td>\n",
       "    </tr>\n",
       "    <tr>\n",
       "      <th>12321</th>\n",
       "      <td>InterPro:IPR015618</td>\n",
       "      <td>GO:0032964</td>\n",
       "      <td>GeneFamily</td>\n",
       "      <td>BiologicalProcess</td>\n",
       "      <td>decreases activity of</td>\n",
       "      <td>InterPro</td>\n",
       "      <td>IPR015618</td>\n",
       "      <td>GO</td>\n",
       "      <td>0032964</td>\n",
       "    </tr>\n",
       "    <tr>\n",
       "      <th>12322</th>\n",
       "      <td>GO:0032964</td>\n",
       "      <td>CL:0000057</td>\n",
       "      <td>BiologicalProcess</td>\n",
       "      <td>Cell</td>\n",
       "      <td>located in</td>\n",
       "      <td>GO</td>\n",
       "      <td>0032964</td>\n",
       "      <td>CL</td>\n",
       "      <td>0000057</td>\n",
       "    </tr>\n",
       "    <tr>\n",
       "      <th>12323</th>\n",
       "      <td>CL:0000057</td>\n",
       "      <td>GO:0048144</td>\n",
       "      <td>Cell</td>\n",
       "      <td>BiologicalProcess</td>\n",
       "      <td>prevents</td>\n",
       "      <td>CL</td>\n",
       "      <td>0000057</td>\n",
       "      <td>GO</td>\n",
       "      <td>0048144</td>\n",
       "    </tr>\n",
       "  </tbody>\n",
       "</table>\n",
       "<p>6002 rows × 9 columns</p>\n",
       "</div>"
      ],
      "text/plain": [
       "                    start                 end           start_mn  \\\n",
       "0         MESH:D000068877      UniProt:P00519               Drug   \n",
       "1          UniProt:P00519        MESH:D015464            Protein   \n",
       "2         MESH:D000068877      UniProt:P10721               Drug   \n",
       "3         MESH:D000068877      UniProt:P16234               Drug   \n",
       "4          UniProt:P10721          GO:0008283            Protein   \n",
       "...                   ...                 ...                ...   \n",
       "12319          GO:0006954        MESH:D017439  BiologicalProcess   \n",
       "12320        MESH:C012293  InterPro:IPR015618               Drug   \n",
       "12321  InterPro:IPR015618          GO:0032964         GeneFamily   \n",
       "12322          GO:0032964          CL:0000057  BiologicalProcess   \n",
       "12323          CL:0000057          GO:0048144               Cell   \n",
       "\n",
       "                  end_mn                    type start_curi    start_id  \\\n",
       "0                Protein   decreases activity of       MESH  D000068877   \n",
       "1                Disease                  causes  UniProtKB      P00519   \n",
       "2                Protein   decreases activity of       MESH  D000068877   \n",
       "3                Protein   decreases activity of       MESH  D000068877   \n",
       "4      BiologicalProcess    positively regulates  UniProtKB      P10721   \n",
       "...                  ...                     ...        ...         ...   \n",
       "12319            Disease         correlated with         GO     0006954   \n",
       "12320         GeneFamily  decreases synthesis of       MESH     C012293   \n",
       "12321  BiologicalProcess   decreases activity of   InterPro   IPR015618   \n",
       "12322               Cell              located in         GO     0032964   \n",
       "12323  BiologicalProcess                prevents         CL     0000057   \n",
       "\n",
       "        end_curi     end_id  \n",
       "0      UniProtKB     P00519  \n",
       "1           MESH    D015464  \n",
       "2      UniProtKB     P10721  \n",
       "3      UniProtKB     P16234  \n",
       "4             GO    0008283  \n",
       "...          ...        ...  \n",
       "12319       MESH    D017439  \n",
       "12320   InterPro  IPR015618  \n",
       "12321         GO    0032964  \n",
       "12322         CL    0000057  \n",
       "12323         GO    0048144  \n",
       "\n",
       "[6002 rows x 9 columns]"
      ]
     },
     "execution_count": 31,
     "metadata": {},
     "output_type": "execute_result"
    }
   ],
   "source": [
    "unique_edges"
   ]
  },
  {
   "cell_type": "code",
   "execution_count": 32,
   "metadata": {},
   "outputs": [],
   "source": [
    "unique_edges['start_in_bte'] = unique_edges['start_curi'].apply(lambda s: s in bte_curis)\n",
    "unique_edges['end_in_bte'] = unique_edges['end_curi'].apply(lambda s: s in bte_curis)"
   ]
  },
  {
   "cell_type": "code",
   "execution_count": 33,
   "metadata": {},
   "outputs": [
    {
     "data": {
      "text/html": [
       "<div>\n",
       "<style scoped>\n",
       "    .dataframe tbody tr th:only-of-type {\n",
       "        vertical-align: middle;\n",
       "    }\n",
       "\n",
       "    .dataframe tbody tr th {\n",
       "        vertical-align: top;\n",
       "    }\n",
       "\n",
       "    .dataframe thead th {\n",
       "        text-align: right;\n",
       "    }\n",
       "</style>\n",
       "<table border=\"1\" class=\"dataframe\">\n",
       "  <thead>\n",
       "    <tr style=\"text-align: right;\">\n",
       "      <th></th>\n",
       "      <th>start</th>\n",
       "      <th>end</th>\n",
       "      <th>start_mn</th>\n",
       "      <th>end_mn</th>\n",
       "      <th>type</th>\n",
       "      <th>start_curi</th>\n",
       "      <th>start_id</th>\n",
       "      <th>end_curi</th>\n",
       "      <th>end_id</th>\n",
       "      <th>start_in_bte</th>\n",
       "      <th>end_in_bte</th>\n",
       "    </tr>\n",
       "  </thead>\n",
       "  <tbody>\n",
       "    <tr>\n",
       "      <th>0</th>\n",
       "      <td>MESH:D000068877</td>\n",
       "      <td>UniProt:P00519</td>\n",
       "      <td>Drug</td>\n",
       "      <td>Protein</td>\n",
       "      <td>decreases activity of</td>\n",
       "      <td>MESH</td>\n",
       "      <td>D000068877</td>\n",
       "      <td>UniProtKB</td>\n",
       "      <td>P00519</td>\n",
       "      <td>True</td>\n",
       "      <td>True</td>\n",
       "    </tr>\n",
       "    <tr>\n",
       "      <th>1</th>\n",
       "      <td>UniProt:P00519</td>\n",
       "      <td>MESH:D015464</td>\n",
       "      <td>Protein</td>\n",
       "      <td>Disease</td>\n",
       "      <td>causes</td>\n",
       "      <td>UniProtKB</td>\n",
       "      <td>P00519</td>\n",
       "      <td>MESH</td>\n",
       "      <td>D015464</td>\n",
       "      <td>True</td>\n",
       "      <td>True</td>\n",
       "    </tr>\n",
       "    <tr>\n",
       "      <th>2</th>\n",
       "      <td>MESH:D000068877</td>\n",
       "      <td>UniProt:P10721</td>\n",
       "      <td>Drug</td>\n",
       "      <td>Protein</td>\n",
       "      <td>decreases activity of</td>\n",
       "      <td>MESH</td>\n",
       "      <td>D000068877</td>\n",
       "      <td>UniProtKB</td>\n",
       "      <td>P10721</td>\n",
       "      <td>True</td>\n",
       "      <td>True</td>\n",
       "    </tr>\n",
       "    <tr>\n",
       "      <th>3</th>\n",
       "      <td>MESH:D000068877</td>\n",
       "      <td>UniProt:P16234</td>\n",
       "      <td>Drug</td>\n",
       "      <td>Protein</td>\n",
       "      <td>decreases activity of</td>\n",
       "      <td>MESH</td>\n",
       "      <td>D000068877</td>\n",
       "      <td>UniProtKB</td>\n",
       "      <td>P16234</td>\n",
       "      <td>True</td>\n",
       "      <td>True</td>\n",
       "    </tr>\n",
       "    <tr>\n",
       "      <th>4</th>\n",
       "      <td>UniProt:P10721</td>\n",
       "      <td>GO:0008283</td>\n",
       "      <td>Protein</td>\n",
       "      <td>BiologicalProcess</td>\n",
       "      <td>positively regulates</td>\n",
       "      <td>UniProtKB</td>\n",
       "      <td>P10721</td>\n",
       "      <td>GO</td>\n",
       "      <td>0008283</td>\n",
       "      <td>True</td>\n",
       "      <td>True</td>\n",
       "    </tr>\n",
       "    <tr>\n",
       "      <th>...</th>\n",
       "      <td>...</td>\n",
       "      <td>...</td>\n",
       "      <td>...</td>\n",
       "      <td>...</td>\n",
       "      <td>...</td>\n",
       "      <td>...</td>\n",
       "      <td>...</td>\n",
       "      <td>...</td>\n",
       "      <td>...</td>\n",
       "      <td>...</td>\n",
       "      <td>...</td>\n",
       "    </tr>\n",
       "    <tr>\n",
       "      <th>12312</th>\n",
       "      <td>GO:0048144</td>\n",
       "      <td>MESH:D017439</td>\n",
       "      <td>BiologicalProcess</td>\n",
       "      <td>Disease</td>\n",
       "      <td>correlated with</td>\n",
       "      <td>GO</td>\n",
       "      <td>0048144</td>\n",
       "      <td>MESH</td>\n",
       "      <td>D017439</td>\n",
       "      <td>True</td>\n",
       "      <td>True</td>\n",
       "    </tr>\n",
       "    <tr>\n",
       "      <th>12319</th>\n",
       "      <td>GO:0006954</td>\n",
       "      <td>MESH:D017439</td>\n",
       "      <td>BiologicalProcess</td>\n",
       "      <td>Disease</td>\n",
       "      <td>correlated with</td>\n",
       "      <td>GO</td>\n",
       "      <td>0006954</td>\n",
       "      <td>MESH</td>\n",
       "      <td>D017439</td>\n",
       "      <td>True</td>\n",
       "      <td>True</td>\n",
       "    </tr>\n",
       "    <tr>\n",
       "      <th>12320</th>\n",
       "      <td>MESH:C012293</td>\n",
       "      <td>InterPro:IPR015618</td>\n",
       "      <td>Drug</td>\n",
       "      <td>GeneFamily</td>\n",
       "      <td>decreases synthesis of</td>\n",
       "      <td>MESH</td>\n",
       "      <td>C012293</td>\n",
       "      <td>InterPro</td>\n",
       "      <td>IPR015618</td>\n",
       "      <td>True</td>\n",
       "      <td>False</td>\n",
       "    </tr>\n",
       "    <tr>\n",
       "      <th>12322</th>\n",
       "      <td>GO:0032964</td>\n",
       "      <td>CL:0000057</td>\n",
       "      <td>BiologicalProcess</td>\n",
       "      <td>Cell</td>\n",
       "      <td>located in</td>\n",
       "      <td>GO</td>\n",
       "      <td>0032964</td>\n",
       "      <td>CL</td>\n",
       "      <td>0000057</td>\n",
       "      <td>True</td>\n",
       "      <td>True</td>\n",
       "    </tr>\n",
       "    <tr>\n",
       "      <th>12323</th>\n",
       "      <td>CL:0000057</td>\n",
       "      <td>GO:0048144</td>\n",
       "      <td>Cell</td>\n",
       "      <td>BiologicalProcess</td>\n",
       "      <td>prevents</td>\n",
       "      <td>CL</td>\n",
       "      <td>0000057</td>\n",
       "      <td>GO</td>\n",
       "      <td>0048144</td>\n",
       "      <td>True</td>\n",
       "      <td>True</td>\n",
       "    </tr>\n",
       "  </tbody>\n",
       "</table>\n",
       "<p>5656 rows × 11 columns</p>\n",
       "</div>"
      ],
      "text/plain": [
       "                 start                 end           start_mn  \\\n",
       "0      MESH:D000068877      UniProt:P00519               Drug   \n",
       "1       UniProt:P00519        MESH:D015464            Protein   \n",
       "2      MESH:D000068877      UniProt:P10721               Drug   \n",
       "3      MESH:D000068877      UniProt:P16234               Drug   \n",
       "4       UniProt:P10721          GO:0008283            Protein   \n",
       "...                ...                 ...                ...   \n",
       "12312       GO:0048144        MESH:D017439  BiologicalProcess   \n",
       "12319       GO:0006954        MESH:D017439  BiologicalProcess   \n",
       "12320     MESH:C012293  InterPro:IPR015618               Drug   \n",
       "12322       GO:0032964          CL:0000057  BiologicalProcess   \n",
       "12323       CL:0000057          GO:0048144               Cell   \n",
       "\n",
       "                  end_mn                    type start_curi    start_id  \\\n",
       "0                Protein   decreases activity of       MESH  D000068877   \n",
       "1                Disease                  causes  UniProtKB      P00519   \n",
       "2                Protein   decreases activity of       MESH  D000068877   \n",
       "3                Protein   decreases activity of       MESH  D000068877   \n",
       "4      BiologicalProcess    positively regulates  UniProtKB      P10721   \n",
       "...                  ...                     ...        ...         ...   \n",
       "12312            Disease         correlated with         GO     0048144   \n",
       "12319            Disease         correlated with         GO     0006954   \n",
       "12320         GeneFamily  decreases synthesis of       MESH     C012293   \n",
       "12322               Cell              located in         GO     0032964   \n",
       "12323  BiologicalProcess                prevents         CL     0000057   \n",
       "\n",
       "        end_curi     end_id  start_in_bte  end_in_bte  \n",
       "0      UniProtKB     P00519          True        True  \n",
       "1           MESH    D015464          True        True  \n",
       "2      UniProtKB     P10721          True        True  \n",
       "3      UniProtKB     P16234          True        True  \n",
       "4             GO    0008283          True        True  \n",
       "...          ...        ...           ...         ...  \n",
       "12312       MESH    D017439          True        True  \n",
       "12319       MESH    D017439          True        True  \n",
       "12320   InterPro  IPR015618          True       False  \n",
       "12322         CL    0000057          True        True  \n",
       "12323         GO    0048144          True        True  \n",
       "\n",
       "[5656 rows x 11 columns]"
      ]
     },
     "execution_count": 33,
     "metadata": {},
     "output_type": "execute_result"
    }
   ],
   "source": [
    "unique_edges.query('start_in_bte')"
   ]
  },
  {
   "cell_type": "code",
   "execution_count": 34,
   "metadata": {},
   "outputs": [],
   "source": [
    "unique_edges['start_qid'] = unique_edges['start_curi'] + ':' + unique_edges['start_id']\n",
    "unique_edges['end_qid'] = unique_edges['end_curi'] + ':' + unique_edges['end_id']"
   ]
  },
  {
   "cell_type": "code",
   "execution_count": 35,
   "metadata": {},
   "outputs": [],
   "source": [
    "first_queries = unique_edges.query('start_in_bte').groupby('end_mn')['start_qid'].unique().to_dict()"
   ]
  },
  {
   "cell_type": "code",
   "execution_count": 36,
   "metadata": {},
   "outputs": [],
   "source": [
    "second_queries = unique_edges.query('end_in_bte').groupby('start_mn')['end_qid'].unique().to_dict()"
   ]
  },
  {
   "cell_type": "code",
   "execution_count": 37,
   "metadata": {},
   "outputs": [],
   "source": [
    "all_queries = {}\n",
    "for k, v in first_queries.items():\n",
    "    all_queries[k] = list(set(v) | set(second_queries[k]))"
   ]
  },
  {
   "cell_type": "code",
   "execution_count": 38,
   "metadata": {},
   "outputs": [
    {
     "name": "stdout",
     "output_type": "stream",
     "text": [
      "BiologicalProcess :  1,646\n",
      "Cell :  110\n",
      "CellularComponent :  93\n",
      "ChemicalSubstance :  625\n",
      "Disease :  659\n",
      "Drug :  774\n",
      "GeneFamily :  294\n",
      "GrossAnatomicalStructure :  236\n",
      "MacromolecularComplex :  13\n",
      "MolecularActivity :  163\n",
      "OrganismTaxon :  220\n",
      "Pathway :  170\n",
      "PhenotypicFeature :  402\n",
      "Protein :  1,243\n"
     ]
    }
   ],
   "source": [
    "for k, v in all_queries.items():\n",
    "    print(k, ':  {:,}'.format(len(v)))"
   ]
  },
  {
   "cell_type": "markdown",
   "metadata": {},
   "source": [
    "# MAP\n",
    "\n",
    "Protein --> Gene  \n",
    "Complex/Fam --> Protein"
   ]
  },
  {
   "cell_type": "code",
   "execution_count": 39,
   "metadata": {},
   "outputs": [],
   "source": [
    "query_data = {\n",
    "    \"message\": {\n",
    "        \"query_graph\": {\n",
    "            \"nodes\": {\n",
    "                \"n0\": {\n",
    "                    \"id\": ''\n",
    "                },\n",
    "                \"n1\": {\n",
    "                }\n",
    "            },\n",
    "            \"edges\": {\n",
    "                \"e01\": {\n",
    "                    \"subject\": \"n0\",\n",
    "                    \"object\": \"n1\"\n",
    "                }\n",
    "            }\n",
    "        }\n",
    "    }\n",
    "}\n"
   ]
  },
  {
   "cell_type": "code",
   "execution_count": 40,
   "metadata": {},
   "outputs": [],
   "source": [
    "def chunk_list(list_data, chunk_size):\n",
    "    for i in range(0, len(list_data), chunk_size): \n",
    "        yield list_data[i:i + chunk_size]"
   ]
  },
  {
   "cell_type": "code",
   "execution_count": 41,
   "metadata": {},
   "outputs": [
    {
     "data": {
      "text/plain": [
       "{'Drug': 'biolink:Drug',\n",
       " 'Protein': 'biolink:Protein',\n",
       " 'Disease': 'biolink:Disease',\n",
       " 'BiologicalProcess': 'biolink:BiologicalProcess',\n",
       " 'Pathway': 'biolink:Pathway',\n",
       " 'ChemicalSubstance': 'biolink:ChemicalSubstance',\n",
       " 'GrossAnatomicalStructure': 'biolink:GrossAnatomicalStructure',\n",
       " 'MolecularActivity': 'biolink:MolecularActivity',\n",
       " 'OrganismTaxon': 'biolink:OrganismTaxon',\n",
       " 'GeneFamily': 'biolink:GeneFamily',\n",
       " 'CellularComponent': 'biolink:CellularComponent',\n",
       " 'PhenotypicFeature': 'biolink:PhenotypicFeature',\n",
       " 'Cell': 'biolink:Cell',\n",
       " 'MacromolecularComplex': 'biolink:MacromolecularComplex'}"
      ]
     },
     "execution_count": 41,
     "metadata": {},
     "output_type": "execute_result"
    }
   ],
   "source": [
    "{mn: 'biolink:'+mn for mn in edge_info[['start_mn', 'end_mn']].stack().unique()}"
   ]
  },
  {
   "cell_type": "code",
   "execution_count": 42,
   "metadata": {},
   "outputs": [],
   "source": [
    "q_mn_map = {'Drug': ['biolink:Drug', 'biolink:ChemicalSubstance'],\n",
    "     'Protein': ['biolink:Protein', 'biolink:Gene'],\n",
    "     'Disease': 'biolink:Disease',\n",
    "     'BiologicalProcess': 'biolink:BiologicalProcess',\n",
    "     'Pathway': 'biolink:Pathway',\n",
    "     'ChemicalSubstance': 'biolink:ChemicalSubstance',\n",
    "     'GrossAnatomicalStructure': ['biolink:GrossAnatomicalStructure', 'biolink:AnatomicalEntity'],\n",
    "     'MolecularActivity': 'biolink:MolecularActivity',\n",
    "     'OrganismTaxon': 'biolink:OrganismTaxon',\n",
    "     'GeneFamily': ['biolink:GeneFamily', 'biolink:Protein'],\n",
    "     'CellularComponent': 'biolink:CellularComponent',\n",
    "     'PhenotypicFeature': 'biolink:PhenotypicFeature',\n",
    "     'Cell': 'biolink:Cell',\n",
    "     'MacromolecularComplex': ['biolink:MacromolecularComplex', 'biolink:Protein']}"
   ]
  },
  {
   "cell_type": "code",
   "execution_count": 43,
   "metadata": {},
   "outputs": [
    {
     "data": {
      "text/plain": [
       "14"
      ]
     },
     "execution_count": 43,
     "metadata": {},
     "output_type": "execute_result"
    }
   ],
   "source": [
    "len(all_queries)"
   ]
  },
  {
   "cell_type": "code",
   "execution_count": 44,
   "metadata": {},
   "outputs": [],
   "source": [
    "# Localhost is running https://github.com/biothings/BioThings_Explorer_TRAPI\n",
    "URL = 'http://localhost:3000/v1/query'"
   ]
  },
  {
   "cell_type": "code",
   "execution_count": 45,
   "metadata": {},
   "outputs": [],
   "source": [
    "#URL = \"https://api.bte.ncats.io/v1/query\""
   ]
  },
  {
   "cell_type": "markdown",
   "metadata": {},
   "source": [
    "## Initial Query of BTE"
   ]
  },
  {
   "cell_type": "code",
   "execution_count": 53,
   "metadata": {},
   "outputs": [
    {
     "data": {
      "text/plain": [
       "dict_keys(['BiologicalProcess', 'Cell', 'CellularComponent', 'ChemicalSubstance', 'Disease', 'Drug', 'GeneFamily', 'GrossAnatomicalStructure', 'MacromolecularComplex', 'MolecularActivity', 'OrganismTaxon', 'Pathway', 'PhenotypicFeature', 'Protein'])"
      ]
     },
     "execution_count": 53,
     "metadata": {},
     "output_type": "execute_result"
    }
   ],
   "source": [
    "all_queries.keys()"
   ]
  },
  {
   "cell_type": "code",
   "execution_count": 46,
   "metadata": {},
   "outputs": [
    {
     "name": "stderr",
     "output_type": "stream",
     "text": [
      "outer:   0%|          | 0/14 [00:00<?, ?it/s]\n",
      "BiologicalProcess:   0%|          | 0/164 [00:00<?, ?it/s]\u001b[A\n",
      "BiologicalProcess:   1%|          | 1/164 [00:14<40:18, 14.84s/it]\u001b[A\n",
      "BiologicalProcess:   1%|          | 2/164 [00:31<42:45, 15.84s/it]\u001b[A\n",
      "BiologicalProcess:   2%|▏         | 3/164 [00:44<39:11, 14.61s/it]\u001b[A\n",
      "BiologicalProcess:   2%|▏         | 4/164 [00:58<38:18, 14.37s/it]\u001b[A\n",
      "BiologicalProcess:   3%|▎         | 5/164 [01:12<37:24, 14.12s/it]\u001b[A\n",
      "BiologicalProcess:   4%|▎         | 6/164 [01:28<39:07, 14.86s/it]\u001b[A\n",
      "BiologicalProcess:   4%|▍         | 7/164 [01:43<38:40, 14.78s/it]\u001b[A\n",
      "BiologicalProcess:   5%|▍         | 8/164 [01:56<36:56, 14.21s/it]\u001b[A\n",
      "BiologicalProcess:   5%|▌         | 9/164 [02:17<42:38, 16.51s/it]\u001b[A"
     ]
    },
    {
     "name": "stdout",
     "output_type": "stream",
     "text": [
      "Failed query\n"
     ]
    },
    {
     "name": "stderr",
     "output_type": "stream",
     "text": [
      "\n",
      "BiologicalProcess:   6%|▌         | 10/164 [02:33<41:35, 16.21s/it]\u001b[A\n",
      "BiologicalProcess:   7%|▋         | 11/164 [02:46<39:15, 15.40s/it]\u001b[A\n",
      "BiologicalProcess:   7%|▋         | 12/164 [03:02<39:12, 15.48s/it]\u001b[A\n",
      "BiologicalProcess:   8%|▊         | 13/164 [03:15<37:22, 14.85s/it]\u001b[A\n",
      "BiologicalProcess:   9%|▊         | 14/164 [03:30<36:38, 14.66s/it]\u001b[A\n",
      "BiologicalProcess:   9%|▉         | 15/164 [03:48<39:28, 15.90s/it]\u001b[A\n",
      "BiologicalProcess:  10%|▉         | 16/164 [04:05<39:50, 16.15s/it]\u001b[A\n",
      "BiologicalProcess:  10%|█         | 17/164 [04:18<37:13, 15.19s/it]\u001b[A\n",
      "BiologicalProcess:  11%|█         | 18/164 [04:33<36:29, 14.99s/it]\u001b[A\n",
      "BiologicalProcess:  12%|█▏        | 19/164 [04:45<34:30, 14.28s/it]\u001b[A\n",
      "BiologicalProcess:  12%|█▏        | 20/164 [04:59<33:49, 14.10s/it]\u001b[A\n",
      "BiologicalProcess:  13%|█▎        | 21/164 [05:15<35:17, 14.81s/it]\u001b[A\n",
      "BiologicalProcess:  13%|█▎        | 22/164 [05:30<34:42, 14.66s/it]\u001b[A\n",
      "BiologicalProcess:  14%|█▍        | 23/164 [05:45<34:37, 14.74s/it]\u001b[A\n",
      "BiologicalProcess:  15%|█▍        | 24/164 [06:03<36:51, 15.80s/it]\u001b[A\n",
      "BiologicalProcess:  15%|█▌        | 25/164 [06:18<36:03, 15.56s/it]\u001b[A\n",
      "BiologicalProcess:  16%|█▌        | 26/164 [06:31<34:08, 14.85s/it]\u001b[A\n",
      "BiologicalProcess:  16%|█▋        | 27/164 [06:47<34:31, 15.12s/it]\u001b[A\n",
      "BiologicalProcess:  17%|█▋        | 28/164 [07:01<33:46, 14.90s/it]\u001b[A\n",
      "BiologicalProcess:  18%|█▊        | 29/164 [07:14<31:59, 14.22s/it]\u001b[A\n",
      "BiologicalProcess:  18%|█▊        | 30/164 [07:30<32:53, 14.73s/it]\u001b[A\n",
      "BiologicalProcess:  19%|█▉        | 31/164 [07:44<32:25, 14.63s/it]\u001b[A\n",
      "BiologicalProcess:  20%|█▉        | 32/164 [08:00<32:45, 14.89s/it]\u001b[A\n",
      "BiologicalProcess:  20%|██        | 33/164 [08:13<31:32, 14.44s/it]\u001b[A\n",
      "BiologicalProcess:  21%|██        | 34/164 [08:26<30:12, 13.94s/it]\u001b[A\n",
      "BiologicalProcess:  21%|██▏       | 35/164 [08:40<29:54, 13.91s/it]\u001b[A\n",
      "BiologicalProcess:  22%|██▏       | 36/164 [08:55<30:44, 14.41s/it]\u001b[A\n",
      "BiologicalProcess:  23%|██▎       | 37/164 [09:10<30:27, 14.39s/it]\u001b[A\n",
      "BiologicalProcess:  23%|██▎       | 38/164 [09:22<29:08, 13.88s/it]\u001b[A\n",
      "BiologicalProcess:  24%|██▍       | 39/164 [09:36<28:39, 13.76s/it]\u001b[A\n",
      "BiologicalProcess:  24%|██▍       | 40/164 [09:49<28:13, 13.66s/it]\u001b[A\n",
      "BiologicalProcess:  25%|██▌       | 41/164 [10:07<30:34, 14.92s/it]\u001b[A\n",
      "BiologicalProcess:  26%|██▌       | 42/164 [10:22<30:31, 15.01s/it]\u001b[A\n",
      "BiologicalProcess:  26%|██▌       | 43/164 [10:36<29:45, 14.75s/it]\u001b[A\n",
      "BiologicalProcess:  27%|██▋       | 44/164 [10:51<29:29, 14.75s/it]\u001b[A\n",
      "BiologicalProcess:  27%|██▋       | 45/164 [11:04<28:20, 14.29s/it]\u001b[A\n",
      "BiologicalProcess:  28%|██▊       | 46/164 [11:26<32:20, 16.44s/it]\u001b[A\n",
      "BiologicalProcess:  29%|██▊       | 47/164 [11:40<30:54, 15.85s/it]\u001b[A\n",
      "BiologicalProcess:  29%|██▉       | 48/164 [11:56<30:51, 15.96s/it]\u001b[A\n",
      "BiologicalProcess:  30%|██▉       | 49/164 [12:18<33:57, 17.72s/it]\u001b[A"
     ]
    },
    {
     "name": "stdout",
     "output_type": "stream",
     "text": [
      "Failed query\n"
     ]
    },
    {
     "name": "stderr",
     "output_type": "stream",
     "text": [
      "\n",
      "BiologicalProcess:  30%|███       | 50/164 [12:32<31:41, 16.68s/it]\u001b[A\n",
      "BiologicalProcess:  31%|███       | 51/164 [12:49<31:24, 16.68s/it]\u001b[A\n",
      "BiologicalProcess:  32%|███▏      | 52/164 [13:03<29:23, 15.75s/it]\u001b[A\n",
      "BiologicalProcess:  32%|███▏      | 53/164 [13:18<28:57, 15.66s/it]\u001b[A\n",
      "BiologicalProcess:  33%|███▎      | 54/164 [13:32<27:56, 15.24s/it]\u001b[A\n",
      "BiologicalProcess:  34%|███▎      | 55/164 [13:49<28:12, 15.53s/it]\u001b[A\n",
      "BiologicalProcess:  34%|███▍      | 56/164 [14:02<26:40, 14.82s/it]\u001b[A\n",
      "BiologicalProcess:  35%|███▍      | 57/164 [14:16<26:04, 14.62s/it]\u001b[A\n",
      "BiologicalProcess:  35%|███▌      | 58/164 [14:29<24:59, 14.14s/it]\u001b[A\n",
      "BiologicalProcess:  36%|███▌      | 59/164 [14:43<24:35, 14.05s/it]\u001b[A\n",
      "BiologicalProcess:  37%|███▋      | 60/164 [14:56<24:00, 13.85s/it]\u001b[A\n",
      "BiologicalProcess:  37%|███▋      | 61/164 [15:10<23:46, 13.85s/it]\u001b[A\n",
      "BiologicalProcess:  38%|███▊      | 62/164 [15:24<23:37, 13.90s/it]\u001b[A\n",
      "BiologicalProcess:  38%|███▊      | 63/164 [15:39<23:59, 14.25s/it]\u001b[A\n",
      "BiologicalProcess:  39%|███▉      | 64/164 [15:59<26:18, 15.79s/it]\u001b[A\n",
      "BiologicalProcess:  40%|███▉      | 65/164 [16:17<27:18, 16.55s/it]\u001b[A\n",
      "BiologicalProcess:  40%|████      | 66/164 [16:30<25:34, 15.66s/it]\u001b[A\n",
      "BiologicalProcess:  41%|████      | 67/164 [16:45<24:34, 15.20s/it]\u001b[A\n",
      "BiologicalProcess:  41%|████▏     | 68/164 [17:00<24:31, 15.33s/it]\u001b[A\n",
      "BiologicalProcess:  42%|████▏     | 69/164 [17:15<23:54, 15.10s/it]\u001b[A\n",
      "BiologicalProcess:  43%|████▎     | 70/164 [17:28<22:51, 14.59s/it]\u001b[A\n",
      "BiologicalProcess:  43%|████▎     | 71/164 [17:42<22:28, 14.50s/it]\u001b[A\n",
      "BiologicalProcess:  44%|████▍     | 72/164 [17:56<21:53, 14.27s/it]\u001b[A\n",
      "BiologicalProcess:  45%|████▍     | 73/164 [18:11<22:05, 14.57s/it]\u001b[A\n",
      "BiologicalProcess:  45%|████▌     | 74/164 [18:26<21:51, 14.57s/it]\u001b[A\n",
      "BiologicalProcess:  46%|████▌     | 75/164 [18:40<21:29, 14.49s/it]\u001b[A\n",
      "BiologicalProcess:  46%|████▋     | 76/164 [18:54<20:45, 14.15s/it]\u001b[A\n",
      "BiologicalProcess:  47%|████▋     | 77/164 [19:09<20:50, 14.37s/it]\u001b[A\n",
      "BiologicalProcess:  48%|████▊     | 78/164 [19:22<19:59, 13.95s/it]\u001b[A\n",
      "BiologicalProcess:  48%|████▊     | 79/164 [19:35<19:45, 13.94s/it]\u001b[A\n",
      "BiologicalProcess:  49%|████▉     | 80/164 [19:52<20:33, 14.68s/it]\u001b[A\n",
      "BiologicalProcess:  49%|████▉     | 81/164 [20:06<20:09, 14.58s/it]\u001b[A\n",
      "BiologicalProcess:  50%|█████     | 82/164 [20:20<19:35, 14.33s/it]\u001b[A\n",
      "BiologicalProcess:  51%|█████     | 83/164 [20:35<19:31, 14.46s/it]\u001b[A\n",
      "BiologicalProcess:  51%|█████     | 84/164 [20:51<19:49, 14.87s/it]\u001b[A\n",
      "BiologicalProcess:  52%|█████▏    | 85/164 [21:05<19:19, 14.68s/it]\u001b[A\n",
      "BiologicalProcess:  52%|█████▏    | 86/164 [21:21<19:36, 15.08s/it]\u001b[A\n",
      "BiologicalProcess:  53%|█████▎    | 87/164 [21:36<19:27, 15.16s/it]\u001b[A\n",
      "BiologicalProcess:  54%|█████▎    | 88/164 [21:51<18:53, 14.92s/it]\u001b[A\n",
      "BiologicalProcess:  54%|█████▍    | 89/164 [22:06<18:43, 14.99s/it]\u001b[A\n",
      "BiologicalProcess:  55%|█████▍    | 90/164 [22:19<17:55, 14.54s/it]\u001b[A"
     ]
    },
    {
     "name": "stdout",
     "output_type": "stream",
     "text": [
      "Failed query\n"
     ]
    },
    {
     "name": "stderr",
     "output_type": "stream",
     "text": [
      "\n",
      "BiologicalProcess:  55%|█████▌    | 91/164 [22:35<18:05, 14.86s/it]\u001b[A\n",
      "BiologicalProcess:  56%|█████▌    | 92/164 [22:49<17:46, 14.81s/it]\u001b[A\n",
      "BiologicalProcess:  57%|█████▋    | 93/164 [23:04<17:20, 14.66s/it]\u001b[A\n",
      "BiologicalProcess:  57%|█████▋    | 94/164 [23:18<16:51, 14.46s/it]\u001b[A\n",
      "BiologicalProcess:  58%|█████▊    | 95/164 [23:31<16:22, 14.25s/it]\u001b[A\n",
      "BiologicalProcess:  59%|█████▊    | 96/164 [23:44<15:37, 13.79s/it]\u001b[A\n",
      "BiologicalProcess:  59%|█████▉    | 97/164 [23:58<15:14, 13.65s/it]\u001b[A\n",
      "BiologicalProcess:  60%|█████▉    | 98/164 [24:13<15:31, 14.12s/it]\u001b[A\n",
      "BiologicalProcess:  60%|██████    | 99/164 [24:27<15:22, 14.19s/it]\u001b[A\n",
      "BiologicalProcess:  61%|██████    | 100/164 [24:42<15:24, 14.45s/it]\u001b[A\n",
      "BiologicalProcess:  62%|██████▏   | 101/164 [24:57<15:23, 14.66s/it]\u001b[A\n",
      "BiologicalProcess:  62%|██████▏   | 102/164 [25:10<14:41, 14.21s/it]\u001b[A\n",
      "BiologicalProcess:  63%|██████▎   | 103/164 [25:24<14:20, 14.11s/it]\u001b[A\n",
      "BiologicalProcess:  63%|██████▎   | 104/164 [25:40<14:26, 14.44s/it]\u001b[A\n",
      "BiologicalProcess:  64%|██████▍   | 105/164 [25:54<14:13, 14.47s/it]\u001b[A\n",
      "BiologicalProcess:  65%|██████▍   | 106/164 [26:08<13:55, 14.40s/it]\u001b[A\n",
      "BiologicalProcess:  65%|██████▌   | 107/164 [26:22<13:30, 14.22s/it]\u001b[A\n",
      "BiologicalProcess:  66%|██████▌   | 108/164 [26:35<13:01, 13.96s/it]\u001b[A\n",
      "BiologicalProcess:  66%|██████▋   | 109/164 [26:51<13:11, 14.39s/it]\u001b[A\n",
      "BiologicalProcess:  67%|██████▋   | 110/164 [27:06<13:16, 14.75s/it]\u001b[A\n",
      "BiologicalProcess:  68%|██████▊   | 111/164 [27:20<12:49, 14.52s/it]\u001b[A\n",
      "BiologicalProcess:  68%|██████▊   | 112/164 [27:35<12:36, 14.54s/it]\u001b[A\n",
      "BiologicalProcess:  69%|██████▉   | 113/164 [27:48<11:49, 13.92s/it]\u001b[A\n",
      "BiologicalProcess:  70%|██████▉   | 114/164 [28:00<11:21, 13.63s/it]\u001b[A\n",
      "BiologicalProcess:  70%|███████   | 115/164 [28:15<11:20, 13.88s/it]\u001b[A\n",
      "BiologicalProcess:  71%|███████   | 116/164 [28:29<11:10, 13.97s/it]\u001b[A\n",
      "BiologicalProcess:  71%|███████▏  | 117/164 [28:44<11:02, 14.09s/it]\u001b[A\n",
      "BiologicalProcess:  72%|███████▏  | 118/164 [28:57<10:40, 13.92s/it]\u001b[A\n",
      "BiologicalProcess:  73%|███████▎  | 119/164 [29:12<10:34, 14.09s/it]\u001b[A\n",
      "BiologicalProcess:  73%|███████▎  | 120/164 [29:25<10:11, 13.89s/it]\u001b[A\n",
      "BiologicalProcess:  74%|███████▍  | 121/164 [29:41<10:27, 14.58s/it]\u001b[A\n",
      "BiologicalProcess:  74%|███████▍  | 122/164 [29:56<10:21, 14.80s/it]\u001b[A\n",
      "BiologicalProcess:  75%|███████▌  | 123/164 [30:10<09:53, 14.48s/it]\u001b[A\n",
      "BiologicalProcess:  76%|███████▌  | 124/164 [30:25<09:44, 14.62s/it]\u001b[A\n",
      "BiologicalProcess:  76%|███████▌  | 125/164 [30:41<09:39, 14.87s/it]\u001b[A\n",
      "BiologicalProcess:  77%|███████▋  | 126/164 [30:56<09:29, 14.98s/it]\u001b[A\n",
      "BiologicalProcess:  77%|███████▋  | 127/164 [31:09<08:56, 14.51s/it]\u001b[A\n",
      "BiologicalProcess:  78%|███████▊  | 128/164 [31:23<08:32, 14.23s/it]\u001b[A\n",
      "BiologicalProcess:  79%|███████▊  | 129/164 [31:38<08:25, 14.45s/it]\u001b[A\n",
      "BiologicalProcess:  79%|███████▉  | 130/164 [31:52<08:09, 14.39s/it]\u001b[A\n",
      "BiologicalProcess:  80%|███████▉  | 131/164 [32:06<07:48, 14.21s/it]\u001b[A\n",
      "BiologicalProcess:  80%|████████  | 132/164 [32:20<07:37, 14.29s/it]\u001b[A"
     ]
    },
    {
     "name": "stdout",
     "output_type": "stream",
     "text": [
      "Failed query\n"
     ]
    },
    {
     "name": "stderr",
     "output_type": "stream",
     "text": [
      "\n",
      "BiologicalProcess:  81%|████████  | 133/164 [32:35<07:27, 14.45s/it]\u001b[A\n",
      "BiologicalProcess:  82%|████████▏ | 134/164 [32:48<07:03, 14.11s/it]\u001b[A\n",
      "BiologicalProcess:  82%|████████▏ | 135/164 [33:02<06:41, 13.86s/it]\u001b[A\n",
      "BiologicalProcess:  83%|████████▎ | 136/164 [33:16<06:31, 13.99s/it]\u001b[A\n",
      "BiologicalProcess:  84%|████████▎ | 137/164 [33:31<06:23, 14.19s/it]\u001b[A\n",
      "BiologicalProcess:  84%|████████▍ | 138/164 [33:44<05:59, 13.83s/it]\u001b[A\n",
      "BiologicalProcess:  85%|████████▍ | 139/164 [33:57<05:45, 13.84s/it]\u001b[A\n",
      "BiologicalProcess:  85%|████████▌ | 140/164 [34:11<05:27, 13.65s/it]\u001b[A\n",
      "BiologicalProcess:  86%|████████▌ | 141/164 [34:25<05:20, 13.93s/it]\u001b[A\n",
      "BiologicalProcess:  87%|████████▋ | 142/164 [34:38<04:59, 13.63s/it]\u001b[A\n",
      "BiologicalProcess:  87%|████████▋ | 143/164 [34:54<04:58, 14.23s/it]\u001b[A\n",
      "BiologicalProcess:  88%|████████▊ | 144/164 [35:09<04:52, 14.60s/it]\u001b[A\n",
      "BiologicalProcess:  88%|████████▊ | 145/164 [35:24<04:35, 14.48s/it]\u001b[A\n",
      "BiologicalProcess:  89%|████████▉ | 146/164 [35:38<04:22, 14.59s/it]\u001b[A\n",
      "BiologicalProcess:  90%|████████▉ | 147/164 [35:53<04:10, 14.71s/it]\u001b[A\n",
      "BiologicalProcess:  90%|█████████ | 148/164 [36:07<03:49, 14.36s/it]\u001b[A\n",
      "BiologicalProcess:  91%|█████████ | 149/164 [36:23<03:42, 14.86s/it]\u001b[A\n",
      "BiologicalProcess:  91%|█████████▏| 150/164 [36:37<03:22, 14.50s/it]\u001b[A\n",
      "BiologicalProcess:  92%|█████████▏| 151/164 [36:51<03:10, 14.62s/it]\u001b[A\n",
      "BiologicalProcess:  93%|█████████▎| 152/164 [37:04<02:48, 14.05s/it]\u001b[A\n",
      "BiologicalProcess:  93%|█████████▎| 153/164 [37:23<02:51, 15.60s/it]\u001b[A\n",
      "BiologicalProcess:  94%|█████████▍| 154/164 [37:37<02:29, 14.91s/it]\u001b[A\n",
      "BiologicalProcess:  95%|█████████▍| 155/164 [37:52<02:16, 15.15s/it]\u001b[A\n",
      "BiologicalProcess:  95%|█████████▌| 156/164 [38:08<02:02, 15.37s/it]\u001b[A\n",
      "BiologicalProcess:  96%|█████████▌| 157/164 [38:21<01:42, 14.60s/it]\u001b[A\n",
      "BiologicalProcess:  96%|█████████▋| 158/164 [38:36<01:28, 14.73s/it]\u001b[A\n",
      "BiologicalProcess:  97%|█████████▋| 159/164 [38:51<01:14, 14.82s/it]\u001b[A\n",
      "BiologicalProcess:  98%|█████████▊| 160/164 [39:05<00:58, 14.58s/it]\u001b[A\n",
      "BiologicalProcess:  98%|█████████▊| 161/164 [39:19<00:42, 14.26s/it]\u001b[A\n",
      "BiologicalProcess:  99%|█████████▉| 162/164 [39:34<00:29, 14.55s/it]\u001b[A\n",
      "BiologicalProcess:  99%|█████████▉| 163/164 [39:54<00:16, 16.24s/it]\u001b[A\n",
      "BiologicalProcess: 100%|██████████| 164/164 [40:09<00:00, 15.90s/it]\u001b[A\n",
      "BiologicalProcess: 165it [40:25, 14.70s/it]                         \u001b[A\n",
      "outer:   7%|▋         | 1/14 [40:25<8:45:35, 2425.77s/it]\n",
      "Cell:   0%|          | 0/11 [00:00<?, ?it/s]\u001b[A\n",
      "Cell:   9%|▉         | 1/11 [00:16<02:41, 16.17s/it]\u001b[A\n",
      "Cell:  18%|█▊        | 2/11 [00:30<02:13, 14.84s/it]\u001b[A\n",
      "Cell:  27%|██▋       | 3/11 [00:44<01:55, 14.48s/it]\u001b[A\n",
      "Cell:  36%|███▋      | 4/11 [00:57<01:36, 13.85s/it]\u001b[A\n",
      "Cell:  45%|████▌     | 5/11 [01:11<01:23, 13.94s/it]\u001b[A\n",
      "Cell:  55%|█████▍    | 6/11 [01:25<01:09, 13.97s/it]\u001b[A\n",
      "Cell:  64%|██████▎   | 7/11 [01:37<00:53, 13.42s/it]\u001b[A\n",
      "Cell:  73%|███████▎  | 8/11 [01:51<00:41, 13.73s/it]\u001b[A"
     ]
    },
    {
     "name": "stdout",
     "output_type": "stream",
     "text": [
      "Failed query\n"
     ]
    },
    {
     "name": "stderr",
     "output_type": "stream",
     "text": [
      "\n",
      "Cell:  82%|████████▏ | 9/11 [02:04<00:26, 13.45s/it]\u001b[A\n",
      "Cell:  91%|█████████ | 10/11 [02:18<00:13, 13.60s/it]\u001b[A\n",
      "Cell: 100%|██████████| 11/11 [02:31<00:00, 13.75s/it]\u001b[A\n",
      "outer:  14%|█▍        | 2/14 [42:57<3:37:34, 1087.85s/it]\n",
      "CellularComponent:   0%|          | 0/9 [00:00<?, ?it/s]\u001b[A\n",
      "CellularComponent:  11%|█         | 1/9 [00:14<01:55, 14.38s/it]\u001b[A\n",
      "CellularComponent:  22%|██▏       | 2/9 [00:28<01:41, 14.45s/it]\u001b[A\n",
      "CellularComponent:  33%|███▎      | 3/9 [00:42<01:25, 14.28s/it]\u001b[A\n",
      "CellularComponent:  44%|████▍     | 4/9 [00:55<01:08, 13.77s/it]\u001b[A\n",
      "CellularComponent:  56%|█████▌    | 5/9 [01:08<00:53, 13.48s/it]\u001b[A\n",
      "CellularComponent:  67%|██████▋   | 6/9 [01:21<00:39, 13.23s/it]\u001b[A\n",
      "CellularComponent:  78%|███████▊  | 7/9 [01:35<00:26, 13.32s/it]\u001b[A\n",
      "CellularComponent:  89%|████████▉ | 8/9 [01:48<00:13, 13.48s/it]\u001b[A\n",
      "CellularComponent: 100%|██████████| 9/9 [02:01<00:00, 13.25s/it]\u001b[A\n",
      "CellularComponent: 10it [02:13, 13.33s/it]                      \u001b[A\n",
      "outer:  21%|██▏       | 3/14 [45:10<1:59:31, 651.97s/it] \n",
      "ChemicalSubstance:   0%|          | 0/62 [00:00<?, ?it/s]\u001b[A\n",
      "ChemicalSubstance:   2%|▏         | 1/62 [00:14<14:39, 14.42s/it]\u001b[A\n",
      "ChemicalSubstance:   3%|▎         | 2/62 [00:29<14:58, 14.98s/it]\u001b[A\n",
      "ChemicalSubstance:   5%|▍         | 3/62 [00:44<14:31, 14.76s/it]\u001b[A\n",
      "ChemicalSubstance:   6%|▋         | 4/62 [00:59<14:17, 14.79s/it]\u001b[A\n",
      "ChemicalSubstance:   8%|▊         | 5/62 [01:12<13:31, 14.23s/it]\u001b[A\n",
      "ChemicalSubstance:  10%|▉         | 6/62 [01:30<14:40, 15.72s/it]\u001b[A\n",
      "ChemicalSubstance:  11%|█▏        | 7/62 [01:44<13:48, 15.06s/it]\u001b[A\n",
      "ChemicalSubstance:  13%|█▎        | 8/62 [01:58<13:18, 14.78s/it]\u001b[A\n",
      "ChemicalSubstance:  15%|█▍        | 9/62 [02:15<13:28, 15.26s/it]\u001b[A\n",
      "ChemicalSubstance:  16%|█▌        | 10/62 [02:27<12:19, 14.22s/it]\u001b[A\n",
      "ChemicalSubstance:  18%|█▊        | 11/62 [02:43<12:43, 14.97s/it]\u001b[A\n",
      "ChemicalSubstance:  19%|█▉        | 12/62 [02:57<12:13, 14.68s/it]\u001b[A\n",
      "ChemicalSubstance:  21%|██        | 13/62 [03:09<11:14, 13.76s/it]\u001b[A\n",
      "ChemicalSubstance:  23%|██▎       | 14/62 [03:28<12:18, 15.39s/it]\u001b[A\n",
      "ChemicalSubstance:  24%|██▍       | 15/62 [03:49<13:23, 17.09s/it]\u001b[A\n",
      "ChemicalSubstance:  26%|██▌       | 16/62 [04:00<11:41, 15.24s/it]\u001b[A\n",
      "ChemicalSubstance:  27%|██▋       | 17/62 [04:11<10:28, 13.96s/it]\u001b[A\n",
      "ChemicalSubstance:  29%|██▉       | 18/62 [04:24<09:57, 13.57s/it]\u001b[A\n",
      "ChemicalSubstance:  31%|███       | 19/62 [04:42<10:40, 14.90s/it]\u001b[A\n",
      "ChemicalSubstance:  32%|███▏      | 20/62 [04:59<11:02, 15.77s/it]\u001b[A\n",
      "ChemicalSubstance:  34%|███▍      | 21/62 [05:15<10:38, 15.58s/it]\u001b[A\n",
      "ChemicalSubstance:  35%|███▌      | 22/62 [05:24<09:12, 13.81s/it]\u001b[A\n",
      "ChemicalSubstance:  37%|███▋      | 23/62 [05:35<08:20, 12.84s/it]\u001b[A\n",
      "ChemicalSubstance:  39%|███▊      | 24/62 [05:45<07:35, 11.99s/it]\u001b[A\n",
      "ChemicalSubstance:  40%|████      | 25/62 [06:03<08:36, 13.97s/it]\u001b[A\n",
      "ChemicalSubstance:  42%|████▏     | 26/62 [06:20<08:53, 14.82s/it]\u001b[A\n",
      "ChemicalSubstance:  44%|████▎     | 27/62 [06:38<09:04, 15.57s/it]\u001b[A\n",
      "ChemicalSubstance:  45%|████▌     | 28/62 [06:52<08:34, 15.13s/it]\u001b[A\n",
      "ChemicalSubstance:  47%|████▋     | 29/62 [07:07<08:23, 15.24s/it]\u001b[A"
     ]
    },
    {
     "name": "stdout",
     "output_type": "stream",
     "text": [
      "Failed query\n"
     ]
    },
    {
     "name": "stderr",
     "output_type": "stream",
     "text": [
      "\n",
      "ChemicalSubstance:  48%|████▊     | 30/62 [07:19<07:31, 14.12s/it]\u001b[A\n",
      "ChemicalSubstance:  50%|█████     | 31/62 [07:34<07:27, 14.43s/it]\u001b[A\n",
      "ChemicalSubstance:  52%|█████▏    | 32/62 [07:53<07:52, 15.77s/it]\u001b[A\n",
      "ChemicalSubstance:  53%|█████▎    | 33/62 [08:04<06:58, 14.43s/it]\u001b[A\n",
      "ChemicalSubstance:  55%|█████▍    | 34/62 [08:25<07:41, 16.48s/it]\u001b[A\n",
      "ChemicalSubstance:  56%|█████▋    | 35/62 [08:48<08:12, 18.22s/it]\u001b[A\n",
      "ChemicalSubstance:  58%|█████▊    | 36/62 [08:58<06:52, 15.87s/it]\u001b[A\n",
      "ChemicalSubstance:  60%|█████▉    | 37/62 [09:11<06:14, 14.99s/it]\u001b[A\n",
      "ChemicalSubstance:  61%|██████▏   | 38/62 [09:28<06:17, 15.73s/it]\u001b[A\n",
      "ChemicalSubstance:  63%|██████▎   | 39/62 [09:41<05:37, 14.67s/it]\u001b[A\n",
      "ChemicalSubstance:  65%|██████▍   | 40/62 [10:03<06:15, 17.09s/it]\u001b[A\n",
      "ChemicalSubstance:  66%|██████▌   | 41/62 [10:17<05:39, 16.19s/it]\u001b[A\n",
      "ChemicalSubstance:  68%|██████▊   | 42/62 [10:32<05:16, 15.84s/it]\u001b[A\n",
      "ChemicalSubstance:  69%|██████▉   | 43/62 [10:53<05:26, 17.19s/it]\u001b[A\n",
      "ChemicalSubstance:  71%|███████   | 44/62 [11:16<05:41, 18.97s/it]\u001b[A\n",
      "ChemicalSubstance:  73%|███████▎  | 45/62 [11:30<04:59, 17.63s/it]\u001b[A\n",
      "ChemicalSubstance:  74%|███████▍  | 46/62 [11:47<04:39, 17.45s/it]\u001b[A\n",
      "ChemicalSubstance:  76%|███████▌  | 47/62 [11:59<03:56, 15.79s/it]\u001b[A\n",
      "ChemicalSubstance:  77%|███████▋  | 48/62 [12:09<03:15, 13.93s/it]\u001b[A\n",
      "ChemicalSubstance:  79%|███████▉  | 49/62 [12:25<03:09, 14.58s/it]\u001b[A\n",
      "ChemicalSubstance:  81%|████████  | 50/62 [12:36<02:43, 13.59s/it]\u001b[A\n",
      "ChemicalSubstance:  82%|████████▏ | 51/62 [12:58<02:56, 16.06s/it]\u001b[A\n",
      "ChemicalSubstance:  84%|████████▍ | 52/62 [13:14<02:39, 15.96s/it]\u001b[A\n",
      "ChemicalSubstance:  85%|████████▌ | 53/62 [13:29<02:22, 15.85s/it]\u001b[A\n",
      "ChemicalSubstance:  87%|████████▋ | 54/62 [13:45<02:05, 15.73s/it]\u001b[A\n",
      "ChemicalSubstance:  89%|████████▊ | 55/62 [14:01<01:51, 15.87s/it]\u001b[A\n",
      "ChemicalSubstance:  90%|█████████ | 56/62 [14:17<01:34, 15.83s/it]\u001b[A\n",
      "ChemicalSubstance:  92%|█████████▏| 57/62 [14:33<01:19, 15.81s/it]\u001b[A\n",
      "ChemicalSubstance:  94%|█████████▎| 58/62 [14:44<00:58, 14.51s/it]\u001b[A\n",
      "ChemicalSubstance:  95%|█████████▌| 59/62 [14:55<00:40, 13.50s/it]\u001b[A\n",
      "ChemicalSubstance:  97%|█████████▋| 60/62 [15:12<00:28, 14.47s/it]\u001b[A\n",
      "ChemicalSubstance:  98%|█████████▊| 61/62 [15:33<00:16, 16.57s/it]\u001b[A\n",
      "ChemicalSubstance: 100%|██████████| 62/62 [15:45<00:00, 15.03s/it]\u001b[A\n",
      "ChemicalSubstance: 63it [15:55, 15.16s/it]                        \u001b[A\n",
      "outer:  29%|██▊       | 4/14 [1:01:05<2:08:37, 771.73s/it]\n",
      "Disease:   0%|          | 0/65 [00:00<?, ?it/s]\u001b[A\n",
      "Disease:   2%|▏         | 1/65 [00:19<20:56, 19.63s/it]\u001b[A\n",
      "Disease:   3%|▎         | 2/65 [00:39<20:51, 19.87s/it]\u001b[A\n",
      "Disease:   5%|▍         | 3/65 [00:54<18:12, 17.61s/it]\u001b[A\n",
      "Disease:   6%|▌         | 4/65 [01:13<18:22, 18.08s/it]\u001b[A"
     ]
    },
    {
     "name": "stdout",
     "output_type": "stream",
     "text": [
      "Failed query\n"
     ]
    },
    {
     "name": "stderr",
     "output_type": "stream",
     "text": [
      "\n",
      "Disease:   8%|▊         | 5/65 [01:34<19:04, 19.07s/it]\u001b[A\n",
      "Disease:   9%|▉         | 6/65 [01:53<18:54, 19.23s/it]\u001b[A\n",
      "Disease:  11%|█         | 7/65 [02:10<17:43, 18.34s/it]\u001b[A\n",
      "Disease:  12%|█▏        | 8/65 [02:27<17:04, 17.97s/it]\u001b[A\n",
      "Disease:  14%|█▍        | 9/65 [02:52<18:56, 20.29s/it]\u001b[A\n",
      "Disease:  15%|█▌        | 10/65 [03:08<17:16, 18.85s/it]\u001b[A\n",
      "Disease:  17%|█▋        | 11/65 [03:23<15:48, 17.57s/it]\u001b[A\n",
      "Disease:  18%|█▊        | 12/65 [03:36<14:23, 16.29s/it]\u001b[A\n",
      "Disease:  20%|██        | 13/65 [03:52<14:07, 16.30s/it]\u001b[A\n",
      "Disease:  22%|██▏       | 14/65 [04:14<15:12, 17.89s/it]\u001b[A\n",
      "Disease:  23%|██▎       | 15/65 [04:44<18:03, 21.67s/it]\u001b[A\n",
      "Disease:  25%|██▍       | 16/65 [05:02<16:48, 20.58s/it]\u001b[A\n",
      "Disease:  26%|██▌       | 17/65 [05:20<15:45, 19.69s/it]\u001b[A\n",
      "Disease:  28%|██▊       | 18/65 [05:38<14:57, 19.09s/it]\u001b[A\n",
      "Disease:  29%|██▉       | 19/65 [05:56<14:31, 18.94s/it]\u001b[A\n",
      "Disease:  31%|███       | 20/65 [06:14<13:53, 18.52s/it]\u001b[A\n",
      "Disease:  32%|███▏      | 21/65 [06:39<15:01, 20.48s/it]\u001b[A\n",
      "Disease:  34%|███▍      | 22/65 [06:54<13:34, 18.93s/it]\u001b[A\n",
      "Disease:  35%|███▌      | 23/65 [07:12<12:59, 18.56s/it]\u001b[A\n",
      "Disease:  37%|███▋      | 24/65 [07:29<12:17, 17.99s/it]\u001b[A\n",
      "Disease:  38%|███▊      | 25/65 [07:51<12:48, 19.21s/it]\u001b[A\n",
      "Disease:  40%|████      | 26/65 [08:22<14:56, 22.99s/it]\u001b[A\n",
      "Disease:  42%|████▏     | 27/65 [08:42<13:51, 21.89s/it]\u001b[A\n",
      "Disease:  43%|████▎     | 28/65 [09:03<13:23, 21.73s/it]\u001b[A\n",
      "Disease:  45%|████▍     | 29/65 [09:19<12:02, 20.06s/it]\u001b[A\n",
      "Disease:  46%|████▌     | 30/65 [09:36<11:10, 19.16s/it]\u001b[A\n",
      "Disease:  48%|████▊     | 31/65 [09:51<10:01, 17.70s/it]\u001b[A\n",
      "Disease:  49%|████▉     | 32/65 [10:03<08:55, 16.24s/it]\u001b[A\n",
      "Disease:  51%|█████     | 33/65 [10:23<09:13, 17.28s/it]\u001b[A\n",
      "Disease:  52%|█████▏    | 34/65 [10:46<09:47, 18.95s/it]\u001b[A\n",
      "Disease:  54%|█████▍    | 35/65 [11:01<08:55, 17.86s/it]\u001b[A\n",
      "Disease:  55%|█████▌    | 36/65 [11:13<07:45, 16.06s/it]\u001b[A"
     ]
    },
    {
     "name": "stdout",
     "output_type": "stream",
     "text": [
      "Failed query\n"
     ]
    },
    {
     "name": "stderr",
     "output_type": "stream",
     "text": [
      "\n",
      "Disease:  57%|█████▋    | 37/65 [11:32<07:50, 16.79s/it]\u001b[A\n",
      "Disease:  58%|█████▊    | 38/65 [11:46<07:17, 16.20s/it]\u001b[A\n",
      "Disease:  60%|██████    | 39/65 [12:12<08:10, 18.88s/it]\u001b[A\n",
      "Disease:  62%|██████▏   | 40/65 [12:32<08:05, 19.43s/it]\u001b[A\n",
      "Disease:  63%|██████▎   | 41/65 [12:52<07:50, 19.61s/it]\u001b[A\n",
      "Disease:  65%|██████▍   | 42/65 [13:10<07:14, 18.90s/it]\u001b[A\n",
      "Disease:  66%|██████▌   | 43/65 [13:26<06:36, 18.03s/it]\u001b[A\n",
      "Disease:  68%|██████▊   | 44/65 [13:44<06:23, 18.27s/it]\u001b[A\n",
      "Disease:  69%|██████▉   | 45/65 [14:03<06:04, 18.21s/it]\u001b[A\n",
      "Disease:  71%|███████   | 46/65 [14:17<05:27, 17.23s/it]\u001b[A\n",
      "Disease:  72%|███████▏  | 47/65 [14:36<05:18, 17.72s/it]\u001b[A\n",
      "Disease:  74%|███████▍  | 48/65 [14:57<05:18, 18.71s/it]\u001b[A\n",
      "Disease:  75%|███████▌  | 49/65 [15:13<04:45, 17.83s/it]\u001b[A\n",
      "Disease:  77%|███████▋  | 50/65 [15:31<04:29, 17.97s/it]\u001b[A\n",
      "Disease:  78%|███████▊  | 51/65 [15:49<04:11, 17.95s/it]\u001b[A\n",
      "Disease:  80%|████████  | 52/65 [16:04<03:39, 16.92s/it]\u001b[A\n",
      "Disease:  82%|████████▏ | 53/65 [16:20<03:22, 16.83s/it]\u001b[A\n",
      "Disease:  83%|████████▎ | 54/65 [16:41<03:18, 18.08s/it]\u001b[A\n",
      "Disease:  85%|████████▍ | 55/65 [16:56<02:51, 17.17s/it]\u001b[A\n",
      "Disease:  86%|████████▌ | 56/65 [17:18<02:45, 18.34s/it]\u001b[A\n",
      "Disease:  88%|████████▊ | 57/65 [17:41<02:38, 19.77s/it]\u001b[A\n",
      "Disease:  89%|████████▉ | 58/65 [18:02<02:21, 20.15s/it]\u001b[A\n",
      "Disease:  91%|█████████ | 59/65 [18:23<02:03, 20.62s/it]\u001b[A\n",
      "Disease:  92%|█████████▏| 60/65 [18:43<01:40, 20.18s/it]\u001b[A\n",
      "Disease:  94%|█████████▍| 61/65 [19:02<01:19, 19.98s/it]\u001b[A\n",
      "Disease:  95%|█████████▌| 62/65 [19:18<00:56, 18.86s/it]\u001b[A\n",
      "Disease:  97%|█████████▋| 63/65 [19:33<00:35, 17.57s/it]\u001b[A\n",
      "Disease:  98%|█████████▊| 64/65 [20:01<00:20, 20.69s/it]\u001b[A\n",
      "Disease: 100%|██████████| 65/65 [20:21<00:00, 20.39s/it]\u001b[A\n",
      "Disease: 66it [20:45, 18.87s/it]                        \u001b[A\n",
      "outer:  36%|███▌      | 5/14 [1:21:50<2:21:22, 942.48s/it]\n",
      "Drug:   0%|          | 0/77 [00:00<?, ?it/s]\u001b[A\n",
      "Drug:   1%|▏         | 1/77 [00:17<22:16, 17.58s/it]\u001b[A\n",
      "Drug:   3%|▎         | 2/77 [00:27<16:24, 13.13s/it]\u001b[A"
     ]
    },
    {
     "name": "stdout",
     "output_type": "stream",
     "text": [
      "Failed query\n"
     ]
    },
    {
     "name": "stderr",
     "output_type": "stream",
     "text": [
      "\n",
      "Drug:   4%|▍         | 3/77 [00:37<14:26, 11.72s/it]\u001b[A"
     ]
    },
    {
     "name": "stdout",
     "output_type": "stream",
     "text": [
      "Failed query\n"
     ]
    },
    {
     "name": "stderr",
     "output_type": "stream",
     "text": [
      "\n",
      "Drug:   5%|▌         | 4/77 [00:47<13:26, 11.05s/it]\u001b[A"
     ]
    },
    {
     "name": "stdout",
     "output_type": "stream",
     "text": [
      "Failed query\n"
     ]
    },
    {
     "name": "stderr",
     "output_type": "stream",
     "text": [
      "\n",
      "Drug:   6%|▋         | 5/77 [00:57<12:48, 10.67s/it]\u001b[A"
     ]
    },
    {
     "name": "stdout",
     "output_type": "stream",
     "text": [
      "Failed query\n"
     ]
    },
    {
     "name": "stderr",
     "output_type": "stream",
     "text": [
      "\n",
      "Drug:   8%|▊         | 6/77 [01:07<12:21, 10.45s/it]\u001b[A"
     ]
    },
    {
     "name": "stdout",
     "output_type": "stream",
     "text": [
      "Failed query\n"
     ]
    },
    {
     "name": "stderr",
     "output_type": "stream",
     "text": [
      "\n",
      "Drug:   9%|▉         | 7/77 [01:17<12:01, 10.31s/it]\u001b[A"
     ]
    },
    {
     "name": "stdout",
     "output_type": "stream",
     "text": [
      "Failed query\n"
     ]
    },
    {
     "name": "stderr",
     "output_type": "stream",
     "text": [
      "\n",
      "Drug:  10%|█         | 8/77 [01:27<11:44, 10.22s/it]\u001b[A"
     ]
    },
    {
     "name": "stdout",
     "output_type": "stream",
     "text": [
      "Failed query\n"
     ]
    },
    {
     "name": "stderr",
     "output_type": "stream",
     "text": [
      "\n",
      "Drug:  12%|█▏        | 9/77 [01:37<11:30, 10.15s/it]\u001b[A"
     ]
    },
    {
     "name": "stdout",
     "output_type": "stream",
     "text": [
      "Failed query\n"
     ]
    },
    {
     "name": "stderr",
     "output_type": "stream",
     "text": [
      "\n",
      "Drug:  13%|█▎        | 10/77 [01:47<11:17, 10.11s/it]\u001b[A"
     ]
    },
    {
     "name": "stdout",
     "output_type": "stream",
     "text": [
      "Failed query\n"
     ]
    },
    {
     "name": "stderr",
     "output_type": "stream",
     "text": [
      "\n",
      "Drug:  14%|█▍        | 11/77 [01:57<11:05, 10.08s/it]\u001b[A"
     ]
    },
    {
     "name": "stdout",
     "output_type": "stream",
     "text": [
      "Failed query\n"
     ]
    },
    {
     "name": "stderr",
     "output_type": "stream",
     "text": [
      "\n",
      "Drug:  16%|█▌        | 12/77 [02:07<10:53, 10.06s/it]\u001b[A"
     ]
    },
    {
     "name": "stdout",
     "output_type": "stream",
     "text": [
      "Failed query\n"
     ]
    },
    {
     "name": "stderr",
     "output_type": "stream",
     "text": [
      "\n",
      "Drug:  17%|█▋        | 13/77 [02:17<10:42, 10.05s/it]\u001b[A"
     ]
    },
    {
     "name": "stdout",
     "output_type": "stream",
     "text": [
      "Failed query\n"
     ]
    },
    {
     "name": "stderr",
     "output_type": "stream",
     "text": [
      "\n",
      "Drug:  18%|█▊        | 14/77 [02:27<10:32, 10.04s/it]\u001b[A"
     ]
    },
    {
     "name": "stdout",
     "output_type": "stream",
     "text": [
      "Failed query\n"
     ]
    },
    {
     "name": "stderr",
     "output_type": "stream",
     "text": [
      "\n",
      "Drug:  19%|█▉        | 15/77 [02:37<10:21, 10.03s/it]\u001b[A"
     ]
    },
    {
     "name": "stdout",
     "output_type": "stream",
     "text": [
      "Failed query\n"
     ]
    },
    {
     "name": "stderr",
     "output_type": "stream",
     "text": [
      "\n",
      "Drug:  21%|██        | 16/77 [02:47<10:11, 10.03s/it]\u001b[A"
     ]
    },
    {
     "name": "stdout",
     "output_type": "stream",
     "text": [
      "Failed query\n"
     ]
    },
    {
     "name": "stderr",
     "output_type": "stream",
     "text": [
      "\n",
      "Drug:  22%|██▏       | 17/77 [02:57<10:01, 10.02s/it]\u001b[A"
     ]
    },
    {
     "name": "stdout",
     "output_type": "stream",
     "text": [
      "Failed query\n"
     ]
    },
    {
     "name": "stderr",
     "output_type": "stream",
     "text": [
      "\n",
      "Drug:  23%|██▎       | 18/77 [03:07<09:51, 10.02s/it]\u001b[A"
     ]
    },
    {
     "name": "stdout",
     "output_type": "stream",
     "text": [
      "Failed query\n"
     ]
    },
    {
     "name": "stderr",
     "output_type": "stream",
     "text": [
      "\n",
      "Drug:  25%|██▍       | 19/77 [03:17<09:40, 10.02s/it]\u001b[A"
     ]
    },
    {
     "name": "stdout",
     "output_type": "stream",
     "text": [
      "Failed query\n"
     ]
    },
    {
     "name": "stderr",
     "output_type": "stream",
     "text": [
      "\n",
      "Drug:  26%|██▌       | 20/77 [03:27<09:30, 10.02s/it]\u001b[A"
     ]
    },
    {
     "name": "stdout",
     "output_type": "stream",
     "text": [
      "Failed query\n"
     ]
    },
    {
     "name": "stderr",
     "output_type": "stream",
     "text": [
      "\n",
      "Drug:  27%|██▋       | 21/77 [03:37<09:20, 10.02s/it]\u001b[A"
     ]
    },
    {
     "name": "stdout",
     "output_type": "stream",
     "text": [
      "Failed query\n"
     ]
    },
    {
     "name": "stderr",
     "output_type": "stream",
     "text": [
      "\n",
      "Drug:  29%|██▊       | 22/77 [03:47<09:10, 10.02s/it]\u001b[A"
     ]
    },
    {
     "name": "stdout",
     "output_type": "stream",
     "text": [
      "Failed query\n"
     ]
    },
    {
     "name": "stderr",
     "output_type": "stream",
     "text": [
      "\n",
      "Drug:  30%|██▉       | 23/77 [03:57<09:00, 10.02s/it]\u001b[A"
     ]
    },
    {
     "name": "stdout",
     "output_type": "stream",
     "text": [
      "Failed query\n"
     ]
    },
    {
     "name": "stderr",
     "output_type": "stream",
     "text": [
      "\n",
      "Drug:  31%|███       | 24/77 [04:07<08:50, 10.02s/it]\u001b[A"
     ]
    },
    {
     "name": "stdout",
     "output_type": "stream",
     "text": [
      "Failed query\n"
     ]
    },
    {
     "name": "stderr",
     "output_type": "stream",
     "text": [
      "\n",
      "Drug:  32%|███▏      | 25/77 [04:17<08:40, 10.02s/it]\u001b[A"
     ]
    },
    {
     "name": "stdout",
     "output_type": "stream",
     "text": [
      "Failed query\n"
     ]
    },
    {
     "name": "stderr",
     "output_type": "stream",
     "text": [
      "\n",
      "Drug:  34%|███▍      | 26/77 [04:27<08:30, 10.02s/it]\u001b[A"
     ]
    },
    {
     "name": "stdout",
     "output_type": "stream",
     "text": [
      "Failed query\n"
     ]
    },
    {
     "name": "stderr",
     "output_type": "stream",
     "text": [
      "\n",
      "Drug:  35%|███▌      | 27/77 [04:37<08:20, 10.02s/it]\u001b[A"
     ]
    },
    {
     "name": "stdout",
     "output_type": "stream",
     "text": [
      "Failed query\n"
     ]
    },
    {
     "name": "stderr",
     "output_type": "stream",
     "text": [
      "\n",
      "Drug:  36%|███▋      | 28/77 [04:48<08:10, 10.02s/it]\u001b[A"
     ]
    },
    {
     "name": "stdout",
     "output_type": "stream",
     "text": [
      "Failed query\n"
     ]
    },
    {
     "name": "stderr",
     "output_type": "stream",
     "text": [
      "\n",
      "Drug:  38%|███▊      | 29/77 [04:58<08:00, 10.02s/it]\u001b[A"
     ]
    },
    {
     "name": "stdout",
     "output_type": "stream",
     "text": [
      "Failed query\n"
     ]
    },
    {
     "name": "stderr",
     "output_type": "stream",
     "text": [
      "\n",
      "Drug:  39%|███▉      | 30/77 [05:08<07:50, 10.01s/it]\u001b[A"
     ]
    },
    {
     "name": "stdout",
     "output_type": "stream",
     "text": [
      "Failed query\n"
     ]
    },
    {
     "name": "stderr",
     "output_type": "stream",
     "text": [
      "\n",
      "Drug:  40%|████      | 31/77 [05:18<07:40, 10.02s/it]\u001b[A"
     ]
    },
    {
     "name": "stdout",
     "output_type": "stream",
     "text": [
      "Failed query\n"
     ]
    },
    {
     "name": "stderr",
     "output_type": "stream",
     "text": [
      "\n",
      "Drug:  42%|████▏     | 32/77 [05:28<07:30, 10.02s/it]\u001b[A"
     ]
    },
    {
     "name": "stdout",
     "output_type": "stream",
     "text": [
      "Failed query\n"
     ]
    },
    {
     "name": "stderr",
     "output_type": "stream",
     "text": [
      "\n",
      "Drug:  43%|████▎     | 33/77 [05:38<07:20, 10.02s/it]\u001b[A"
     ]
    },
    {
     "name": "stdout",
     "output_type": "stream",
     "text": [
      "Failed query\n"
     ]
    },
    {
     "name": "stderr",
     "output_type": "stream",
     "text": [
      "\n",
      "Drug:  44%|████▍     | 34/77 [05:48<07:10, 10.01s/it]\u001b[A"
     ]
    },
    {
     "name": "stdout",
     "output_type": "stream",
     "text": [
      "Failed query\n"
     ]
    },
    {
     "name": "stderr",
     "output_type": "stream",
     "text": [
      "\n",
      "Drug:  45%|████▌     | 35/77 [05:58<07:00, 10.01s/it]\u001b[A"
     ]
    },
    {
     "name": "stdout",
     "output_type": "stream",
     "text": [
      "Failed query\n"
     ]
    },
    {
     "name": "stderr",
     "output_type": "stream",
     "text": [
      "\n",
      "Drug:  47%|████▋     | 36/77 [06:08<06:50, 10.02s/it]\u001b[A"
     ]
    },
    {
     "name": "stdout",
     "output_type": "stream",
     "text": [
      "Failed query\n"
     ]
    },
    {
     "name": "stderr",
     "output_type": "stream",
     "text": [
      "\n",
      "Drug:  48%|████▊     | 37/77 [06:18<06:40, 10.02s/it]\u001b[A"
     ]
    },
    {
     "name": "stdout",
     "output_type": "stream",
     "text": [
      "Failed query\n"
     ]
    },
    {
     "name": "stderr",
     "output_type": "stream",
     "text": [
      "\n",
      "Drug:  49%|████▉     | 38/77 [06:28<06:30, 10.02s/it]\u001b[A"
     ]
    },
    {
     "name": "stdout",
     "output_type": "stream",
     "text": [
      "Failed query\n"
     ]
    },
    {
     "name": "stderr",
     "output_type": "stream",
     "text": [
      "\n",
      "Drug:  51%|█████     | 39/77 [06:38<06:20, 10.02s/it]\u001b[A"
     ]
    },
    {
     "name": "stdout",
     "output_type": "stream",
     "text": [
      "Failed query\n"
     ]
    },
    {
     "name": "stderr",
     "output_type": "stream",
     "text": [
      "\n",
      "Drug:  52%|█████▏    | 40/77 [06:48<06:10, 10.02s/it]\u001b[A"
     ]
    },
    {
     "name": "stdout",
     "output_type": "stream",
     "text": [
      "Failed query\n"
     ]
    },
    {
     "name": "stderr",
     "output_type": "stream",
     "text": [
      "\n",
      "Drug:  53%|█████▎    | 41/77 [06:58<06:00, 10.02s/it]\u001b[A"
     ]
    },
    {
     "name": "stdout",
     "output_type": "stream",
     "text": [
      "Failed query\n"
     ]
    },
    {
     "name": "stderr",
     "output_type": "stream",
     "text": [
      "\n",
      "Drug:  55%|█████▍    | 42/77 [07:08<05:50, 10.02s/it]\u001b[A"
     ]
    },
    {
     "name": "stdout",
     "output_type": "stream",
     "text": [
      "Failed query\n"
     ]
    },
    {
     "name": "stderr",
     "output_type": "stream",
     "text": [
      "\n",
      "Drug:  56%|█████▌    | 43/77 [07:18<05:40, 10.01s/it]\u001b[A"
     ]
    },
    {
     "name": "stdout",
     "output_type": "stream",
     "text": [
      "Failed query\n"
     ]
    },
    {
     "name": "stderr",
     "output_type": "stream",
     "text": [
      "\n",
      "Drug:  57%|█████▋    | 44/77 [07:28<05:30, 10.02s/it]\u001b[A"
     ]
    },
    {
     "name": "stdout",
     "output_type": "stream",
     "text": [
      "Failed query\n"
     ]
    },
    {
     "name": "stderr",
     "output_type": "stream",
     "text": [
      "\n",
      "Drug:  58%|█████▊    | 45/77 [07:38<05:20, 10.02s/it]\u001b[A"
     ]
    },
    {
     "name": "stdout",
     "output_type": "stream",
     "text": [
      "Failed query\n"
     ]
    },
    {
     "name": "stderr",
     "output_type": "stream",
     "text": [
      "\n",
      "Drug:  60%|█████▉    | 46/77 [07:48<05:10, 10.02s/it]\u001b[A"
     ]
    },
    {
     "name": "stdout",
     "output_type": "stream",
     "text": [
      "Failed query\n"
     ]
    },
    {
     "name": "stderr",
     "output_type": "stream",
     "text": [
      "\n",
      "Drug:  61%|██████    | 47/77 [07:58<05:00, 10.02s/it]\u001b[A"
     ]
    },
    {
     "name": "stdout",
     "output_type": "stream",
     "text": [
      "Failed query\n"
     ]
    },
    {
     "name": "stderr",
     "output_type": "stream",
     "text": [
      "\n",
      "Drug:  62%|██████▏   | 48/77 [08:08<04:50, 10.02s/it]\u001b[A"
     ]
    },
    {
     "name": "stdout",
     "output_type": "stream",
     "text": [
      "Failed query\n"
     ]
    },
    {
     "name": "stderr",
     "output_type": "stream",
     "text": [
      "\n",
      "Drug:  64%|██████▎   | 49/77 [08:18<04:40, 10.02s/it]\u001b[A"
     ]
    },
    {
     "name": "stdout",
     "output_type": "stream",
     "text": [
      "Failed query\n"
     ]
    },
    {
     "name": "stderr",
     "output_type": "stream",
     "text": [
      "\n",
      "Drug:  65%|██████▍   | 50/77 [08:28<04:30, 10.02s/it]\u001b[A"
     ]
    },
    {
     "name": "stdout",
     "output_type": "stream",
     "text": [
      "Failed query\n"
     ]
    },
    {
     "name": "stderr",
     "output_type": "stream",
     "text": [
      "\n",
      "Drug:  66%|██████▌   | 51/77 [08:38<04:20, 10.02s/it]\u001b[A"
     ]
    },
    {
     "name": "stdout",
     "output_type": "stream",
     "text": [
      "Failed query\n"
     ]
    },
    {
     "name": "stderr",
     "output_type": "stream",
     "text": [
      "\n",
      "Drug:  68%|██████▊   | 52/77 [08:48<04:10, 10.02s/it]\u001b[A"
     ]
    },
    {
     "name": "stdout",
     "output_type": "stream",
     "text": [
      "Failed query\n"
     ]
    },
    {
     "name": "stderr",
     "output_type": "stream",
     "text": [
      "\n",
      "Drug:  69%|██████▉   | 53/77 [08:58<04:00, 10.02s/it]\u001b[A"
     ]
    },
    {
     "name": "stdout",
     "output_type": "stream",
     "text": [
      "Failed query\n"
     ]
    },
    {
     "name": "stderr",
     "output_type": "stream",
     "text": [
      "\n",
      "Drug:  70%|███████   | 54/77 [09:08<03:50, 10.02s/it]\u001b[A"
     ]
    },
    {
     "name": "stdout",
     "output_type": "stream",
     "text": [
      "Failed query\n"
     ]
    },
    {
     "name": "stderr",
     "output_type": "stream",
     "text": [
      "\n",
      "Drug:  71%|███████▏  | 55/77 [09:18<03:40, 10.02s/it]\u001b[A"
     ]
    },
    {
     "name": "stdout",
     "output_type": "stream",
     "text": [
      "Failed query\n"
     ]
    },
    {
     "name": "stderr",
     "output_type": "stream",
     "text": [
      "\n",
      "Drug:  73%|███████▎  | 56/77 [09:28<03:30, 10.02s/it]\u001b[A"
     ]
    },
    {
     "name": "stdout",
     "output_type": "stream",
     "text": [
      "Failed query\n"
     ]
    },
    {
     "name": "stderr",
     "output_type": "stream",
     "text": [
      "\n",
      "Drug:  74%|███████▍  | 57/77 [09:38<03:20, 10.02s/it]\u001b[A"
     ]
    },
    {
     "name": "stdout",
     "output_type": "stream",
     "text": [
      "Failed query\n"
     ]
    },
    {
     "name": "stderr",
     "output_type": "stream",
     "text": [
      "\n",
      "Drug:  75%|███████▌  | 58/77 [09:48<03:10, 10.02s/it]\u001b[A"
     ]
    },
    {
     "name": "stdout",
     "output_type": "stream",
     "text": [
      "Failed query\n"
     ]
    },
    {
     "name": "stderr",
     "output_type": "stream",
     "text": [
      "\n",
      "Drug:  77%|███████▋  | 59/77 [09:58<03:00, 10.02s/it]\u001b[A"
     ]
    },
    {
     "name": "stdout",
     "output_type": "stream",
     "text": [
      "Failed query\n"
     ]
    },
    {
     "name": "stderr",
     "output_type": "stream",
     "text": [
      "\n",
      "Drug:  78%|███████▊  | 60/77 [10:08<02:50, 10.02s/it]\u001b[A"
     ]
    },
    {
     "name": "stdout",
     "output_type": "stream",
     "text": [
      "Failed query\n"
     ]
    },
    {
     "name": "stderr",
     "output_type": "stream",
     "text": [
      "\n",
      "Drug:  79%|███████▉  | 61/77 [10:18<02:40, 10.01s/it]\u001b[A"
     ]
    },
    {
     "name": "stdout",
     "output_type": "stream",
     "text": [
      "Failed query\n"
     ]
    },
    {
     "name": "stderr",
     "output_type": "stream",
     "text": [
      "\n",
      "Drug:  81%|████████  | 62/77 [10:28<02:30, 10.01s/it]\u001b[A"
     ]
    },
    {
     "name": "stdout",
     "output_type": "stream",
     "text": [
      "Failed query\n"
     ]
    },
    {
     "name": "stderr",
     "output_type": "stream",
     "text": [
      "\n",
      "Drug:  82%|████████▏ | 63/77 [10:38<02:20, 10.02s/it]\u001b[A"
     ]
    },
    {
     "name": "stdout",
     "output_type": "stream",
     "text": [
      "Failed query\n"
     ]
    },
    {
     "name": "stderr",
     "output_type": "stream",
     "text": [
      "\n",
      "Drug:  83%|████████▎ | 64/77 [10:48<02:10, 10.02s/it]\u001b[A"
     ]
    },
    {
     "name": "stdout",
     "output_type": "stream",
     "text": [
      "Failed query\n"
     ]
    },
    {
     "name": "stderr",
     "output_type": "stream",
     "text": [
      "\n",
      "Drug:  84%|████████▍ | 65/77 [10:58<02:00, 10.02s/it]\u001b[A"
     ]
    },
    {
     "name": "stdout",
     "output_type": "stream",
     "text": [
      "Failed query\n"
     ]
    },
    {
     "name": "stderr",
     "output_type": "stream",
     "text": [
      "\n",
      "Drug:  86%|████████▌ | 66/77 [11:08<01:50, 10.02s/it]\u001b[A"
     ]
    },
    {
     "name": "stdout",
     "output_type": "stream",
     "text": [
      "Failed query\n"
     ]
    },
    {
     "name": "stderr",
     "output_type": "stream",
     "text": [
      "\n",
      "Drug:  87%|████████▋ | 67/77 [11:18<01:40, 10.02s/it]\u001b[A"
     ]
    },
    {
     "name": "stdout",
     "output_type": "stream",
     "text": [
      "Failed query\n"
     ]
    },
    {
     "name": "stderr",
     "output_type": "stream",
     "text": [
      "\n",
      "Drug:  88%|████████▊ | 68/77 [11:28<01:30, 10.02s/it]\u001b[A"
     ]
    },
    {
     "name": "stdout",
     "output_type": "stream",
     "text": [
      "Failed query\n"
     ]
    },
    {
     "name": "stderr",
     "output_type": "stream",
     "text": [
      "\n",
      "Drug:  90%|████████▉ | 69/77 [11:38<01:20, 10.02s/it]\u001b[A"
     ]
    },
    {
     "name": "stdout",
     "output_type": "stream",
     "text": [
      "Failed query\n"
     ]
    },
    {
     "name": "stderr",
     "output_type": "stream",
     "text": [
      "\n",
      "Drug:  91%|█████████ | 70/77 [11:48<01:10, 10.02s/it]\u001b[A"
     ]
    },
    {
     "name": "stdout",
     "output_type": "stream",
     "text": [
      "Failed query\n"
     ]
    },
    {
     "name": "stderr",
     "output_type": "stream",
     "text": [
      "\n",
      "Drug:  92%|█████████▏| 71/77 [11:58<01:00, 10.02s/it]\u001b[A"
     ]
    },
    {
     "name": "stdout",
     "output_type": "stream",
     "text": [
      "Failed query\n"
     ]
    },
    {
     "name": "stderr",
     "output_type": "stream",
     "text": [
      "\n",
      "Drug:  94%|█████████▎| 72/77 [12:08<00:50, 10.02s/it]\u001b[A"
     ]
    },
    {
     "name": "stdout",
     "output_type": "stream",
     "text": [
      "Failed query\n"
     ]
    },
    {
     "name": "stderr",
     "output_type": "stream",
     "text": [
      "\n",
      "Drug:  95%|█████████▍| 73/77 [12:18<00:40, 10.02s/it]\u001b[A"
     ]
    },
    {
     "name": "stdout",
     "output_type": "stream",
     "text": [
      "Failed query\n"
     ]
    },
    {
     "name": "stderr",
     "output_type": "stream",
     "text": [
      "\n",
      "Drug:  96%|█████████▌| 74/77 [12:28<00:30, 10.02s/it]\u001b[A"
     ]
    },
    {
     "name": "stdout",
     "output_type": "stream",
     "text": [
      "Failed query\n"
     ]
    },
    {
     "name": "stderr",
     "output_type": "stream",
     "text": [
      "\n",
      "Drug:  97%|█████████▋| 75/77 [12:38<00:20, 10.02s/it]\u001b[A"
     ]
    },
    {
     "name": "stdout",
     "output_type": "stream",
     "text": [
      "Failed query\n"
     ]
    },
    {
     "name": "stderr",
     "output_type": "stream",
     "text": [
      "\n",
      "Drug:  99%|█████████▊| 76/77 [12:48<00:10, 10.01s/it]\u001b[A"
     ]
    },
    {
     "name": "stdout",
     "output_type": "stream",
     "text": [
      "Failed query\n"
     ]
    },
    {
     "name": "stderr",
     "output_type": "stream",
     "text": [
      "\n",
      "Drug: 100%|██████████| 77/77 [12:58<00:00, 10.01s/it]\u001b[A"
     ]
    },
    {
     "name": "stdout",
     "output_type": "stream",
     "text": [
      "Failed query\n"
     ]
    },
    {
     "name": "stderr",
     "output_type": "stream",
     "text": [
      "\n",
      "Drug: 78it [13:08, 10.11s/it]                        \u001b[A\n",
      "outer:  43%|████▎     | 6/14 [1:34:59<1:58:41, 890.23s/it]\n",
      "GeneFamily:   0%|          | 0/29 [00:00<?, ?it/s]\u001b[A"
     ]
    },
    {
     "name": "stdout",
     "output_type": "stream",
     "text": [
      "Failed query\n"
     ]
    },
    {
     "name": "stderr",
     "output_type": "stream",
     "text": [
      "\n",
      "GeneFamily:   3%|▎         | 1/29 [00:10<04:40, 10.01s/it]\u001b[A"
     ]
    },
    {
     "name": "stdout",
     "output_type": "stream",
     "text": [
      "Failed query\n"
     ]
    },
    {
     "name": "stderr",
     "output_type": "stream",
     "text": [
      "\n",
      "GeneFamily:   7%|▋         | 2/29 [00:20<04:30, 10.02s/it]\u001b[A"
     ]
    },
    {
     "name": "stdout",
     "output_type": "stream",
     "text": [
      "Failed query\n"
     ]
    },
    {
     "name": "stderr",
     "output_type": "stream",
     "text": [
      "\n",
      "GeneFamily:  10%|█         | 3/29 [00:30<04:20, 10.01s/it]\u001b[A"
     ]
    },
    {
     "name": "stdout",
     "output_type": "stream",
     "text": [
      "Failed query\n"
     ]
    },
    {
     "name": "stderr",
     "output_type": "stream",
     "text": [
      "\n",
      "GeneFamily:  14%|█▍        | 4/29 [00:40<04:10, 10.01s/it]\u001b[A"
     ]
    },
    {
     "name": "stdout",
     "output_type": "stream",
     "text": [
      "Failed query\n"
     ]
    },
    {
     "name": "stderr",
     "output_type": "stream",
     "text": [
      "\n",
      "GeneFamily:  17%|█▋        | 5/29 [00:50<04:00, 10.02s/it]\u001b[A"
     ]
    },
    {
     "name": "stdout",
     "output_type": "stream",
     "text": [
      "Failed query\n"
     ]
    },
    {
     "name": "stderr",
     "output_type": "stream",
     "text": [
      "\n",
      "GeneFamily:  21%|██        | 6/29 [01:00<03:50, 10.01s/it]\u001b[A"
     ]
    },
    {
     "name": "stdout",
     "output_type": "stream",
     "text": [
      "Failed query\n"
     ]
    },
    {
     "name": "stderr",
     "output_type": "stream",
     "text": [
      "\n",
      "GeneFamily:  24%|██▍       | 7/29 [01:10<03:40, 10.01s/it]\u001b[A"
     ]
    },
    {
     "name": "stdout",
     "output_type": "stream",
     "text": [
      "Failed query\n"
     ]
    },
    {
     "name": "stderr",
     "output_type": "stream",
     "text": [
      "\n",
      "GeneFamily:  28%|██▊       | 8/29 [01:20<03:30, 10.01s/it]\u001b[A"
     ]
    },
    {
     "name": "stdout",
     "output_type": "stream",
     "text": [
      "Failed query\n"
     ]
    },
    {
     "name": "stderr",
     "output_type": "stream",
     "text": [
      "\n",
      "GeneFamily:  31%|███       | 9/29 [01:30<03:20, 10.01s/it]\u001b[A"
     ]
    },
    {
     "name": "stdout",
     "output_type": "stream",
     "text": [
      "Failed query\n"
     ]
    },
    {
     "name": "stderr",
     "output_type": "stream",
     "text": [
      "\n",
      "GeneFamily:  34%|███▍      | 10/29 [01:40<03:10, 10.02s/it]\u001b[A"
     ]
    },
    {
     "name": "stdout",
     "output_type": "stream",
     "text": [
      "Failed query\n"
     ]
    },
    {
     "name": "stderr",
     "output_type": "stream",
     "text": [
      "\n",
      "GeneFamily:  38%|███▊      | 11/29 [01:50<03:00, 10.02s/it]\u001b[A"
     ]
    },
    {
     "name": "stdout",
     "output_type": "stream",
     "text": [
      "Failed query\n"
     ]
    },
    {
     "name": "stderr",
     "output_type": "stream",
     "text": [
      "\n",
      "GeneFamily:  41%|████▏     | 12/29 [02:00<02:50, 10.02s/it]\u001b[A"
     ]
    },
    {
     "name": "stdout",
     "output_type": "stream",
     "text": [
      "Failed query\n"
     ]
    },
    {
     "name": "stderr",
     "output_type": "stream",
     "text": [
      "\n",
      "GeneFamily:  45%|████▍     | 13/29 [02:10<02:40, 10.02s/it]\u001b[A"
     ]
    },
    {
     "name": "stdout",
     "output_type": "stream",
     "text": [
      "Failed query\n"
     ]
    },
    {
     "name": "stderr",
     "output_type": "stream",
     "text": [
      "\n",
      "GeneFamily:  48%|████▊     | 14/29 [02:20<02:30, 10.02s/it]\u001b[A"
     ]
    },
    {
     "name": "stdout",
     "output_type": "stream",
     "text": [
      "Failed query\n"
     ]
    },
    {
     "name": "stderr",
     "output_type": "stream",
     "text": [
      "\n",
      "GeneFamily:  52%|█████▏    | 15/29 [02:30<02:20, 10.02s/it]\u001b[A"
     ]
    },
    {
     "name": "stdout",
     "output_type": "stream",
     "text": [
      "Failed query\n"
     ]
    },
    {
     "name": "stderr",
     "output_type": "stream",
     "text": [
      "\n",
      "GeneFamily:  55%|█████▌    | 16/29 [02:40<02:10, 10.02s/it]\u001b[A"
     ]
    },
    {
     "name": "stdout",
     "output_type": "stream",
     "text": [
      "Failed query\n"
     ]
    },
    {
     "name": "stderr",
     "output_type": "stream",
     "text": [
      "\n",
      "GeneFamily:  59%|█████▊    | 17/29 [02:50<02:00, 10.02s/it]\u001b[A"
     ]
    },
    {
     "name": "stdout",
     "output_type": "stream",
     "text": [
      "Failed query\n"
     ]
    },
    {
     "name": "stderr",
     "output_type": "stream",
     "text": [
      "\n",
      "GeneFamily:  62%|██████▏   | 18/29 [03:00<01:50, 10.02s/it]\u001b[A"
     ]
    },
    {
     "name": "stdout",
     "output_type": "stream",
     "text": [
      "Failed query\n"
     ]
    },
    {
     "name": "stderr",
     "output_type": "stream",
     "text": [
      "\n",
      "GeneFamily:  66%|██████▌   | 19/29 [03:10<01:40, 10.02s/it]\u001b[A"
     ]
    },
    {
     "name": "stdout",
     "output_type": "stream",
     "text": [
      "Failed query\n"
     ]
    },
    {
     "name": "stderr",
     "output_type": "stream",
     "text": [
      "\n",
      "GeneFamily:  69%|██████▉   | 20/29 [03:20<01:30, 10.02s/it]\u001b[A"
     ]
    },
    {
     "name": "stdout",
     "output_type": "stream",
     "text": [
      "Failed query\n"
     ]
    },
    {
     "name": "stderr",
     "output_type": "stream",
     "text": [
      "\n",
      "GeneFamily:  72%|███████▏  | 21/29 [03:30<01:20, 10.02s/it]\u001b[A"
     ]
    },
    {
     "name": "stdout",
     "output_type": "stream",
     "text": [
      "Failed query\n"
     ]
    },
    {
     "name": "stderr",
     "output_type": "stream",
     "text": [
      "\n",
      "GeneFamily:  76%|███████▌  | 22/29 [03:40<01:10, 10.02s/it]\u001b[A"
     ]
    },
    {
     "name": "stdout",
     "output_type": "stream",
     "text": [
      "Failed query\n"
     ]
    },
    {
     "name": "stderr",
     "output_type": "stream",
     "text": [
      "\n",
      "GeneFamily:  79%|███████▉  | 23/29 [03:50<01:00, 10.02s/it]\u001b[A"
     ]
    },
    {
     "name": "stdout",
     "output_type": "stream",
     "text": [
      "Failed query\n"
     ]
    },
    {
     "name": "stderr",
     "output_type": "stream",
     "text": [
      "\n",
      "GeneFamily:  83%|████████▎ | 24/29 [04:00<00:50, 10.02s/it]\u001b[A"
     ]
    },
    {
     "name": "stdout",
     "output_type": "stream",
     "text": [
      "Failed query\n"
     ]
    },
    {
     "name": "stderr",
     "output_type": "stream",
     "text": [
      "\n",
      "GeneFamily:  86%|████████▌ | 25/29 [04:10<00:40, 10.02s/it]\u001b[A"
     ]
    },
    {
     "name": "stdout",
     "output_type": "stream",
     "text": [
      "Failed query\n"
     ]
    },
    {
     "name": "stderr",
     "output_type": "stream",
     "text": [
      "\n",
      "GeneFamily:  90%|████████▉ | 26/29 [04:20<00:30, 10.02s/it]\u001b[A"
     ]
    },
    {
     "name": "stdout",
     "output_type": "stream",
     "text": [
      "Failed query\n"
     ]
    },
    {
     "name": "stderr",
     "output_type": "stream",
     "text": [
      "\n",
      "GeneFamily:  93%|█████████▎| 27/29 [04:30<00:20, 10.02s/it]\u001b[A"
     ]
    },
    {
     "name": "stdout",
     "output_type": "stream",
     "text": [
      "Failed query\n"
     ]
    },
    {
     "name": "stderr",
     "output_type": "stream",
     "text": [
      "\n",
      "GeneFamily:  97%|█████████▋| 28/29 [04:40<00:10, 10.02s/it]\u001b[A"
     ]
    },
    {
     "name": "stdout",
     "output_type": "stream",
     "text": [
      "Failed query\n"
     ]
    },
    {
     "name": "stderr",
     "output_type": "stream",
     "text": [
      "\n",
      "GeneFamily: 100%|██████████| 29/29 [04:50<00:00, 10.02s/it]\u001b[A"
     ]
    },
    {
     "name": "stdout",
     "output_type": "stream",
     "text": [
      "Failed query\n"
     ]
    },
    {
     "name": "stderr",
     "output_type": "stream",
     "text": [
      "\n",
      "GeneFamily: 30it [05:00, 10.02s/it]                        \u001b[A\n",
      "outer:  50%|█████     | 7/14 [1:40:00<1:21:21, 697.43s/it]\n",
      "GrossAnatomicalStructure:   0%|          | 0/23 [00:00<?, ?it/s]\u001b[A"
     ]
    },
    {
     "name": "stdout",
     "output_type": "stream",
     "text": [
      "Failed query\n"
     ]
    },
    {
     "name": "stderr",
     "output_type": "stream",
     "text": [
      "\n",
      "GrossAnatomicalStructure:   4%|▍         | 1/23 [00:10<03:40, 10.01s/it]\u001b[A"
     ]
    },
    {
     "name": "stdout",
     "output_type": "stream",
     "text": [
      "Failed query\n"
     ]
    },
    {
     "name": "stderr",
     "output_type": "stream",
     "text": [
      "\n",
      "GrossAnatomicalStructure:   9%|▊         | 2/23 [00:20<03:30, 10.01s/it]\u001b[A"
     ]
    },
    {
     "name": "stdout",
     "output_type": "stream",
     "text": [
      "Failed query\n"
     ]
    },
    {
     "name": "stderr",
     "output_type": "stream",
     "text": [
      "\n",
      "GrossAnatomicalStructure:  13%|█▎        | 3/23 [00:30<03:20, 10.01s/it]\u001b[A"
     ]
    },
    {
     "name": "stdout",
     "output_type": "stream",
     "text": [
      "Failed query\n"
     ]
    },
    {
     "name": "stderr",
     "output_type": "stream",
     "text": [
      "\n",
      "GrossAnatomicalStructure:  17%|█▋        | 4/23 [00:40<03:10, 10.02s/it]\u001b[A"
     ]
    },
    {
     "name": "stdout",
     "output_type": "stream",
     "text": [
      "Failed query\n"
     ]
    },
    {
     "name": "stderr",
     "output_type": "stream",
     "text": [
      "\n",
      "GrossAnatomicalStructure:  22%|██▏       | 5/23 [00:50<03:00, 10.02s/it]\u001b[A"
     ]
    },
    {
     "name": "stdout",
     "output_type": "stream",
     "text": [
      "Failed query\n"
     ]
    },
    {
     "name": "stderr",
     "output_type": "stream",
     "text": [
      "\n",
      "GrossAnatomicalStructure:  26%|██▌       | 6/23 [01:00<02:50, 10.02s/it]\u001b[A"
     ]
    },
    {
     "name": "stdout",
     "output_type": "stream",
     "text": [
      "Failed query\n"
     ]
    },
    {
     "name": "stderr",
     "output_type": "stream",
     "text": [
      "\n",
      "GrossAnatomicalStructure:  30%|███       | 7/23 [01:10<02:40, 10.02s/it]\u001b[A"
     ]
    },
    {
     "name": "stdout",
     "output_type": "stream",
     "text": [
      "Failed query\n"
     ]
    },
    {
     "name": "stderr",
     "output_type": "stream",
     "text": [
      "\n",
      "GrossAnatomicalStructure:  35%|███▍      | 8/23 [01:20<02:30, 10.02s/it]\u001b[A"
     ]
    },
    {
     "name": "stdout",
     "output_type": "stream",
     "text": [
      "Failed query\n"
     ]
    },
    {
     "name": "stderr",
     "output_type": "stream",
     "text": [
      "\n",
      "GrossAnatomicalStructure:  39%|███▉      | 9/23 [01:30<02:20, 10.02s/it]\u001b[A"
     ]
    },
    {
     "name": "stdout",
     "output_type": "stream",
     "text": [
      "Failed query\n"
     ]
    },
    {
     "name": "stderr",
     "output_type": "stream",
     "text": [
      "\n",
      "GrossAnatomicalStructure:  43%|████▎     | 10/23 [01:40<02:10, 10.02s/it]\u001b[A"
     ]
    },
    {
     "name": "stdout",
     "output_type": "stream",
     "text": [
      "Failed query\n"
     ]
    },
    {
     "name": "stderr",
     "output_type": "stream",
     "text": [
      "\n",
      "GrossAnatomicalStructure:  48%|████▊     | 11/23 [01:50<02:00, 10.02s/it]\u001b[A"
     ]
    },
    {
     "name": "stdout",
     "output_type": "stream",
     "text": [
      "Failed query\n"
     ]
    },
    {
     "name": "stderr",
     "output_type": "stream",
     "text": [
      "\n",
      "GrossAnatomicalStructure:  52%|█████▏    | 12/23 [02:00<01:50, 10.02s/it]\u001b[A"
     ]
    },
    {
     "name": "stdout",
     "output_type": "stream",
     "text": [
      "Failed query\n"
     ]
    },
    {
     "name": "stderr",
     "output_type": "stream",
     "text": [
      "\n",
      "GrossAnatomicalStructure:  57%|█████▋    | 13/23 [02:10<01:40, 10.02s/it]\u001b[A"
     ]
    },
    {
     "name": "stdout",
     "output_type": "stream",
     "text": [
      "Failed query\n"
     ]
    },
    {
     "name": "stderr",
     "output_type": "stream",
     "text": [
      "\n",
      "GrossAnatomicalStructure:  61%|██████    | 14/23 [02:20<01:30, 10.02s/it]\u001b[A"
     ]
    },
    {
     "name": "stdout",
     "output_type": "stream",
     "text": [
      "Failed query\n"
     ]
    },
    {
     "name": "stderr",
     "output_type": "stream",
     "text": [
      "\n",
      "GrossAnatomicalStructure:  65%|██████▌   | 15/23 [02:30<01:20, 10.02s/it]\u001b[A"
     ]
    },
    {
     "name": "stdout",
     "output_type": "stream",
     "text": [
      "Failed query\n"
     ]
    },
    {
     "name": "stderr",
     "output_type": "stream",
     "text": [
      "\n",
      "GrossAnatomicalStructure:  70%|██████▉   | 16/23 [02:40<01:10, 10.02s/it]\u001b[A"
     ]
    },
    {
     "name": "stdout",
     "output_type": "stream",
     "text": [
      "Failed query\n"
     ]
    },
    {
     "name": "stderr",
     "output_type": "stream",
     "text": [
      "\n",
      "GrossAnatomicalStructure:  74%|███████▍  | 17/23 [02:50<01:00, 10.02s/it]\u001b[A"
     ]
    },
    {
     "name": "stdout",
     "output_type": "stream",
     "text": [
      "Failed query\n"
     ]
    },
    {
     "name": "stderr",
     "output_type": "stream",
     "text": [
      "\n",
      "GrossAnatomicalStructure:  78%|███████▊  | 18/23 [03:00<00:50, 10.02s/it]\u001b[A"
     ]
    },
    {
     "name": "stdout",
     "output_type": "stream",
     "text": [
      "Failed query\n"
     ]
    },
    {
     "name": "stderr",
     "output_type": "stream",
     "text": [
      "\n",
      "GrossAnatomicalStructure:  83%|████████▎ | 19/23 [03:10<00:40, 10.02s/it]\u001b[A"
     ]
    },
    {
     "name": "stdout",
     "output_type": "stream",
     "text": [
      "Failed query\n"
     ]
    },
    {
     "name": "stderr",
     "output_type": "stream",
     "text": [
      "\n",
      "GrossAnatomicalStructure:  87%|████████▋ | 20/23 [03:20<00:30, 10.02s/it]\u001b[A"
     ]
    },
    {
     "name": "stdout",
     "output_type": "stream",
     "text": [
      "Failed query\n"
     ]
    },
    {
     "name": "stderr",
     "output_type": "stream",
     "text": [
      "\n",
      "GrossAnatomicalStructure:  91%|█████████▏| 21/23 [03:30<00:20, 10.02s/it]\u001b[A"
     ]
    },
    {
     "name": "stdout",
     "output_type": "stream",
     "text": [
      "Failed query\n"
     ]
    },
    {
     "name": "stderr",
     "output_type": "stream",
     "text": [
      "\n",
      "GrossAnatomicalStructure:  96%|█████████▌| 22/23 [03:40<00:10, 10.02s/it]\u001b[A"
     ]
    },
    {
     "name": "stdout",
     "output_type": "stream",
     "text": [
      "Failed query\n"
     ]
    },
    {
     "name": "stderr",
     "output_type": "stream",
     "text": [
      "\n",
      "GrossAnatomicalStructure: 100%|██████████| 23/23 [03:50<00:00, 10.02s/it]\u001b[A"
     ]
    },
    {
     "name": "stdout",
     "output_type": "stream",
     "text": [
      "Failed query\n"
     ]
    },
    {
     "name": "stderr",
     "output_type": "stream",
     "text": [
      "\n",
      "GrossAnatomicalStructure: 24it [04:00, 10.02s/it]                        \u001b[A\n",
      "outer:  57%|█████▋    | 8/14 [1:44:00<55:11, 551.93s/it]  \n",
      "MacromolecularComplex:   0%|          | 0/1 [00:00<?, ?it/s]\u001b[A"
     ]
    },
    {
     "name": "stdout",
     "output_type": "stream",
     "text": [
      "Failed query\n"
     ]
    },
    {
     "name": "stderr",
     "output_type": "stream",
     "text": [
      "\n",
      "MacromolecularComplex: 100%|██████████| 1/1 [00:10<00:00, 10.01s/it]\u001b[A"
     ]
    },
    {
     "name": "stdout",
     "output_type": "stream",
     "text": [
      "Failed query\n"
     ]
    },
    {
     "name": "stderr",
     "output_type": "stream",
     "text": [
      "\n",
      "MacromolecularComplex: 2it [00:20, 10.02s/it]                       \u001b[A\n",
      "outer:  64%|██████▍   | 9/14 [1:44:20<32:08, 385.65s/it]\n",
      "MolecularActivity:   0%|          | 0/16 [00:00<?, ?it/s]\u001b[A"
     ]
    },
    {
     "name": "stdout",
     "output_type": "stream",
     "text": [
      "Failed query\n"
     ]
    },
    {
     "name": "stderr",
     "output_type": "stream",
     "text": [
      "\n",
      "MolecularActivity:   6%|▋         | 1/16 [00:10<02:30, 10.01s/it]\u001b[A"
     ]
    },
    {
     "name": "stdout",
     "output_type": "stream",
     "text": [
      "Failed query\n"
     ]
    },
    {
     "name": "stderr",
     "output_type": "stream",
     "text": [
      "\n",
      "MolecularActivity:  12%|█▎        | 2/16 [00:20<02:20, 10.02s/it]\u001b[A"
     ]
    },
    {
     "name": "stdout",
     "output_type": "stream",
     "text": [
      "Failed query\n"
     ]
    },
    {
     "name": "stderr",
     "output_type": "stream",
     "text": [
      "\n",
      "MolecularActivity:  19%|█▉        | 3/16 [00:30<02:10, 10.02s/it]\u001b[A"
     ]
    },
    {
     "name": "stdout",
     "output_type": "stream",
     "text": [
      "Failed query\n"
     ]
    },
    {
     "name": "stderr",
     "output_type": "stream",
     "text": [
      "\n",
      "MolecularActivity:  25%|██▌       | 4/16 [00:40<02:00, 10.02s/it]\u001b[A"
     ]
    },
    {
     "name": "stdout",
     "output_type": "stream",
     "text": [
      "Failed query\n"
     ]
    },
    {
     "name": "stderr",
     "output_type": "stream",
     "text": [
      "\n",
      "MolecularActivity:  31%|███▏      | 5/16 [00:50<01:50, 10.02s/it]\u001b[A"
     ]
    },
    {
     "name": "stdout",
     "output_type": "stream",
     "text": [
      "Failed query\n"
     ]
    },
    {
     "name": "stderr",
     "output_type": "stream",
     "text": [
      "\n",
      "MolecularActivity:  38%|███▊      | 6/16 [01:00<01:40, 10.02s/it]\u001b[A"
     ]
    },
    {
     "name": "stdout",
     "output_type": "stream",
     "text": [
      "Failed query\n"
     ]
    },
    {
     "name": "stderr",
     "output_type": "stream",
     "text": [
      "\n",
      "MolecularActivity:  44%|████▍     | 7/16 [01:10<01:30, 10.02s/it]\u001b[A"
     ]
    },
    {
     "name": "stdout",
     "output_type": "stream",
     "text": [
      "Failed query\n"
     ]
    },
    {
     "name": "stderr",
     "output_type": "stream",
     "text": [
      "\n",
      "MolecularActivity:  50%|█████     | 8/16 [01:20<01:20, 10.01s/it]\u001b[A"
     ]
    },
    {
     "name": "stdout",
     "output_type": "stream",
     "text": [
      "Failed query\n"
     ]
    },
    {
     "name": "stderr",
     "output_type": "stream",
     "text": [
      "\n",
      "MolecularActivity:  56%|█████▋    | 9/16 [01:30<01:10, 10.01s/it]\u001b[A"
     ]
    },
    {
     "name": "stdout",
     "output_type": "stream",
     "text": [
      "Failed query\n"
     ]
    },
    {
     "name": "stderr",
     "output_type": "stream",
     "text": [
      "\n",
      "MolecularActivity:  62%|██████▎   | 10/16 [01:40<01:00, 10.01s/it]\u001b[A"
     ]
    },
    {
     "name": "stdout",
     "output_type": "stream",
     "text": [
      "Failed query\n"
     ]
    },
    {
     "name": "stderr",
     "output_type": "stream",
     "text": [
      "\n",
      "MolecularActivity:  69%|██████▉   | 11/16 [01:50<00:50, 10.02s/it]\u001b[A"
     ]
    },
    {
     "name": "stdout",
     "output_type": "stream",
     "text": [
      "Failed query\n"
     ]
    },
    {
     "name": "stderr",
     "output_type": "stream",
     "text": [
      "\n",
      "MolecularActivity:  75%|███████▌  | 12/16 [02:00<00:40, 10.02s/it]\u001b[A"
     ]
    },
    {
     "name": "stdout",
     "output_type": "stream",
     "text": [
      "Failed query\n"
     ]
    },
    {
     "name": "stderr",
     "output_type": "stream",
     "text": [
      "\n",
      "MolecularActivity:  81%|████████▏ | 13/16 [02:10<00:30, 10.02s/it]\u001b[A"
     ]
    },
    {
     "name": "stdout",
     "output_type": "stream",
     "text": [
      "Failed query\n"
     ]
    },
    {
     "name": "stderr",
     "output_type": "stream",
     "text": [
      "\n",
      "MolecularActivity:  88%|████████▊ | 14/16 [02:20<00:20, 10.02s/it]\u001b[A"
     ]
    },
    {
     "name": "stdout",
     "output_type": "stream",
     "text": [
      "Failed query\n"
     ]
    },
    {
     "name": "stderr",
     "output_type": "stream",
     "text": [
      "\n",
      "MolecularActivity:  94%|█████████▍| 15/16 [02:30<00:10, 10.02s/it]\u001b[A"
     ]
    },
    {
     "name": "stdout",
     "output_type": "stream",
     "text": [
      "Failed query\n"
     ]
    },
    {
     "name": "stderr",
     "output_type": "stream",
     "text": [
      "\n",
      "MolecularActivity: 100%|██████████| 16/16 [02:40<00:00, 10.02s/it]\u001b[A"
     ]
    },
    {
     "name": "stdout",
     "output_type": "stream",
     "text": [
      "Failed query\n"
     ]
    },
    {
     "name": "stderr",
     "output_type": "stream",
     "text": [
      "\n",
      "MolecularActivity: 17it [02:50, 10.01s/it]                        \u001b[A\n",
      "outer:  71%|███████▏  | 10/14 [1:47:10<21:16, 319.15s/it]\n",
      "OrganismTaxon:   0%|          | 0/22 [00:00<?, ?it/s]\u001b[A"
     ]
    },
    {
     "name": "stdout",
     "output_type": "stream",
     "text": [
      "Failed query\n"
     ]
    },
    {
     "name": "stderr",
     "output_type": "stream",
     "text": [
      "\n",
      "OrganismTaxon:   5%|▍         | 1/22 [00:10<03:30, 10.01s/it]\u001b[A"
     ]
    },
    {
     "name": "stdout",
     "output_type": "stream",
     "text": [
      "Failed query\n"
     ]
    },
    {
     "name": "stderr",
     "output_type": "stream",
     "text": [
      "\n",
      "OrganismTaxon:   9%|▉         | 2/22 [00:20<03:20, 10.02s/it]\u001b[A"
     ]
    },
    {
     "name": "stdout",
     "output_type": "stream",
     "text": [
      "Failed query\n"
     ]
    },
    {
     "name": "stderr",
     "output_type": "stream",
     "text": [
      "\n",
      "OrganismTaxon:  14%|█▎        | 3/22 [00:30<03:10, 10.02s/it]\u001b[A"
     ]
    },
    {
     "name": "stdout",
     "output_type": "stream",
     "text": [
      "Failed query\n"
     ]
    },
    {
     "name": "stderr",
     "output_type": "stream",
     "text": [
      "\n",
      "OrganismTaxon:  18%|█▊        | 4/22 [00:40<03:00, 10.02s/it]\u001b[A"
     ]
    },
    {
     "name": "stdout",
     "output_type": "stream",
     "text": [
      "Failed query\n"
     ]
    },
    {
     "name": "stderr",
     "output_type": "stream",
     "text": [
      "\n",
      "OrganismTaxon:  23%|██▎       | 5/22 [00:50<02:50, 10.02s/it]\u001b[A"
     ]
    },
    {
     "name": "stdout",
     "output_type": "stream",
     "text": [
      "Failed query\n"
     ]
    },
    {
     "name": "stderr",
     "output_type": "stream",
     "text": [
      "\n",
      "OrganismTaxon:  27%|██▋       | 6/22 [01:00<02:40, 10.02s/it]\u001b[A"
     ]
    },
    {
     "name": "stdout",
     "output_type": "stream",
     "text": [
      "Failed query\n"
     ]
    },
    {
     "name": "stderr",
     "output_type": "stream",
     "text": [
      "\n",
      "OrganismTaxon:  32%|███▏      | 7/22 [01:10<02:30, 10.02s/it]\u001b[A"
     ]
    },
    {
     "name": "stdout",
     "output_type": "stream",
     "text": [
      "Failed query\n"
     ]
    },
    {
     "name": "stderr",
     "output_type": "stream",
     "text": [
      "\n",
      "OrganismTaxon:  36%|███▋      | 8/22 [01:20<02:20, 10.02s/it]\u001b[A"
     ]
    },
    {
     "name": "stdout",
     "output_type": "stream",
     "text": [
      "Failed query\n"
     ]
    },
    {
     "name": "stderr",
     "output_type": "stream",
     "text": [
      "\n",
      "OrganismTaxon:  41%|████      | 9/22 [01:30<02:10, 10.02s/it]\u001b[A"
     ]
    },
    {
     "name": "stdout",
     "output_type": "stream",
     "text": [
      "Failed query\n"
     ]
    },
    {
     "name": "stderr",
     "output_type": "stream",
     "text": [
      "\n",
      "OrganismTaxon:  45%|████▌     | 10/22 [01:40<02:00, 10.02s/it]\u001b[A"
     ]
    },
    {
     "name": "stdout",
     "output_type": "stream",
     "text": [
      "Failed query\n"
     ]
    },
    {
     "name": "stderr",
     "output_type": "stream",
     "text": [
      "\n",
      "OrganismTaxon:  50%|█████     | 11/22 [01:50<01:50, 10.02s/it]\u001b[A"
     ]
    },
    {
     "name": "stdout",
     "output_type": "stream",
     "text": [
      "Failed query\n"
     ]
    },
    {
     "name": "stderr",
     "output_type": "stream",
     "text": [
      "\n",
      "OrganismTaxon:  55%|█████▍    | 12/22 [02:00<01:40, 10.02s/it]\u001b[A"
     ]
    },
    {
     "name": "stdout",
     "output_type": "stream",
     "text": [
      "Failed query\n"
     ]
    },
    {
     "name": "stderr",
     "output_type": "stream",
     "text": [
      "\n",
      "OrganismTaxon:  59%|█████▉    | 13/22 [02:10<01:30, 10.02s/it]\u001b[A"
     ]
    },
    {
     "name": "stdout",
     "output_type": "stream",
     "text": [
      "Failed query\n"
     ]
    },
    {
     "name": "stderr",
     "output_type": "stream",
     "text": [
      "\n",
      "OrganismTaxon:  64%|██████▎   | 14/22 [02:20<01:20, 10.02s/it]\u001b[A"
     ]
    },
    {
     "name": "stdout",
     "output_type": "stream",
     "text": [
      "Failed query\n"
     ]
    },
    {
     "name": "stderr",
     "output_type": "stream",
     "text": [
      "\n",
      "OrganismTaxon:  68%|██████▊   | 15/22 [02:30<01:10, 10.02s/it]\u001b[A"
     ]
    },
    {
     "name": "stdout",
     "output_type": "stream",
     "text": [
      "Failed query\n"
     ]
    },
    {
     "name": "stderr",
     "output_type": "stream",
     "text": [
      "\n",
      "OrganismTaxon:  73%|███████▎  | 16/22 [02:40<01:00, 10.02s/it]\u001b[A"
     ]
    },
    {
     "name": "stdout",
     "output_type": "stream",
     "text": [
      "Failed query\n"
     ]
    },
    {
     "name": "stderr",
     "output_type": "stream",
     "text": [
      "\n",
      "OrganismTaxon:  77%|███████▋  | 17/22 [02:50<00:50, 10.02s/it]\u001b[A"
     ]
    },
    {
     "name": "stdout",
     "output_type": "stream",
     "text": [
      "Failed query\n"
     ]
    },
    {
     "name": "stderr",
     "output_type": "stream",
     "text": [
      "\n",
      "OrganismTaxon:  82%|████████▏ | 18/22 [03:00<00:40, 10.02s/it]\u001b[A"
     ]
    },
    {
     "name": "stdout",
     "output_type": "stream",
     "text": [
      "Failed query\n"
     ]
    },
    {
     "name": "stderr",
     "output_type": "stream",
     "text": [
      "\n",
      "OrganismTaxon:  86%|████████▋ | 19/22 [03:10<00:30, 10.02s/it]\u001b[A"
     ]
    },
    {
     "name": "stdout",
     "output_type": "stream",
     "text": [
      "Failed query\n"
     ]
    },
    {
     "name": "stderr",
     "output_type": "stream",
     "text": [
      "\n",
      "OrganismTaxon:  91%|█████████ | 20/22 [03:20<00:20, 10.02s/it]\u001b[A"
     ]
    },
    {
     "name": "stdout",
     "output_type": "stream",
     "text": [
      "Failed query\n"
     ]
    },
    {
     "name": "stderr",
     "output_type": "stream",
     "text": [
      "\n",
      "OrganismTaxon:  95%|█████████▌| 21/22 [03:30<00:10, 10.02s/it]\u001b[A"
     ]
    },
    {
     "name": "stdout",
     "output_type": "stream",
     "text": [
      "Failed query\n"
     ]
    },
    {
     "name": "stderr",
     "output_type": "stream",
     "text": [
      "\n",
      "OrganismTaxon: 100%|██████████| 22/22 [03:40<00:00, 10.02s/it]\u001b[A\n",
      "outer:  79%|███████▊  | 11/14 [1:50:51<14:26, 288.92s/it]\n",
      "Pathway:   0%|          | 0/17 [00:00<?, ?it/s]\u001b[A"
     ]
    },
    {
     "name": "stdout",
     "output_type": "stream",
     "text": [
      "Failed query\n"
     ]
    },
    {
     "name": "stderr",
     "output_type": "stream",
     "text": [
      "\n",
      "Pathway:   6%|▌         | 1/17 [00:10<02:40, 10.01s/it]\u001b[A"
     ]
    },
    {
     "name": "stdout",
     "output_type": "stream",
     "text": [
      "Failed query\n"
     ]
    },
    {
     "name": "stderr",
     "output_type": "stream",
     "text": [
      "\n",
      "Pathway:  12%|█▏        | 2/17 [00:20<02:30, 10.01s/it]\u001b[A"
     ]
    },
    {
     "name": "stdout",
     "output_type": "stream",
     "text": [
      "Failed query\n"
     ]
    },
    {
     "name": "stderr",
     "output_type": "stream",
     "text": [
      "\n",
      "Pathway:  18%|█▊        | 3/17 [00:30<02:20, 10.01s/it]\u001b[A"
     ]
    },
    {
     "name": "stdout",
     "output_type": "stream",
     "text": [
      "Failed query\n"
     ]
    },
    {
     "name": "stderr",
     "output_type": "stream",
     "text": [
      "\n",
      "Pathway:  24%|██▎       | 4/17 [00:40<02:10, 10.01s/it]\u001b[A"
     ]
    },
    {
     "name": "stdout",
     "output_type": "stream",
     "text": [
      "Failed query\n"
     ]
    },
    {
     "name": "stderr",
     "output_type": "stream",
     "text": [
      "\n",
      "Pathway:  29%|██▉       | 5/17 [00:50<02:00, 10.01s/it]\u001b[A"
     ]
    },
    {
     "name": "stdout",
     "output_type": "stream",
     "text": [
      "Failed query\n"
     ]
    },
    {
     "name": "stderr",
     "output_type": "stream",
     "text": [
      "\n",
      "Pathway:  35%|███▌      | 6/17 [01:00<01:50, 10.01s/it]\u001b[A"
     ]
    },
    {
     "name": "stdout",
     "output_type": "stream",
     "text": [
      "Failed query\n"
     ]
    },
    {
     "name": "stderr",
     "output_type": "stream",
     "text": [
      "\n",
      "Pathway:  41%|████      | 7/17 [01:10<01:40, 10.01s/it]\u001b[A"
     ]
    },
    {
     "name": "stdout",
     "output_type": "stream",
     "text": [
      "Failed query\n"
     ]
    },
    {
     "name": "stderr",
     "output_type": "stream",
     "text": [
      "\n",
      "Pathway:  47%|████▋     | 8/17 [01:20<01:30, 10.01s/it]\u001b[A"
     ]
    },
    {
     "name": "stdout",
     "output_type": "stream",
     "text": [
      "Failed query\n"
     ]
    },
    {
     "name": "stderr",
     "output_type": "stream",
     "text": [
      "\n",
      "Pathway:  53%|█████▎    | 9/17 [01:30<01:20, 10.02s/it]\u001b[A"
     ]
    },
    {
     "name": "stdout",
     "output_type": "stream",
     "text": [
      "Failed query\n"
     ]
    },
    {
     "name": "stderr",
     "output_type": "stream",
     "text": [
      "\n",
      "Pathway:  59%|█████▉    | 10/17 [01:40<01:10, 10.02s/it]\u001b[A"
     ]
    },
    {
     "name": "stdout",
     "output_type": "stream",
     "text": [
      "Failed query\n"
     ]
    },
    {
     "name": "stderr",
     "output_type": "stream",
     "text": [
      "\n",
      "Pathway:  65%|██████▍   | 11/17 [01:50<01:00, 10.02s/it]\u001b[A"
     ]
    },
    {
     "name": "stdout",
     "output_type": "stream",
     "text": [
      "Failed query\n"
     ]
    },
    {
     "name": "stderr",
     "output_type": "stream",
     "text": [
      "\n",
      "Pathway:  71%|███████   | 12/17 [02:00<00:50, 10.02s/it]\u001b[A"
     ]
    },
    {
     "name": "stdout",
     "output_type": "stream",
     "text": [
      "Failed query\n"
     ]
    },
    {
     "name": "stderr",
     "output_type": "stream",
     "text": [
      "\n",
      "Pathway:  76%|███████▋  | 13/17 [02:10<00:40, 10.02s/it]\u001b[A"
     ]
    },
    {
     "name": "stdout",
     "output_type": "stream",
     "text": [
      "Failed query\n"
     ]
    },
    {
     "name": "stderr",
     "output_type": "stream",
     "text": [
      "\n",
      "Pathway:  82%|████████▏ | 14/17 [02:20<00:30, 10.02s/it]\u001b[A"
     ]
    },
    {
     "name": "stdout",
     "output_type": "stream",
     "text": [
      "Failed query\n"
     ]
    },
    {
     "name": "stderr",
     "output_type": "stream",
     "text": [
      "\n",
      "Pathway:  88%|████████▊ | 15/17 [02:30<00:20, 10.02s/it]\u001b[A"
     ]
    },
    {
     "name": "stdout",
     "output_type": "stream",
     "text": [
      "Failed query\n"
     ]
    },
    {
     "name": "stderr",
     "output_type": "stream",
     "text": [
      "\n",
      "Pathway:  94%|█████████▍| 16/17 [02:40<00:10, 10.02s/it]\u001b[A"
     ]
    },
    {
     "name": "stdout",
     "output_type": "stream",
     "text": [
      "Failed query\n"
     ]
    },
    {
     "name": "stderr",
     "output_type": "stream",
     "text": [
      "\n",
      "Pathway: 100%|██████████| 17/17 [02:50<00:00, 10.02s/it]\u001b[A\n",
      "outer:  86%|████████▌ | 12/14 [1:53:41<08:25, 252.82s/it]\n",
      "PhenotypicFeature:   0%|          | 0/40 [00:00<?, ?it/s]\u001b[A"
     ]
    },
    {
     "name": "stdout",
     "output_type": "stream",
     "text": [
      "Failed query\n"
     ]
    },
    {
     "name": "stderr",
     "output_type": "stream",
     "text": [
      "\n",
      "PhenotypicFeature:   2%|▎         | 1/40 [00:10<06:30, 10.02s/it]\u001b[A"
     ]
    },
    {
     "name": "stdout",
     "output_type": "stream",
     "text": [
      "Failed query\n"
     ]
    },
    {
     "name": "stderr",
     "output_type": "stream",
     "text": [
      "\n",
      "PhenotypicFeature:   5%|▌         | 2/40 [00:20<06:20, 10.01s/it]\u001b[A"
     ]
    },
    {
     "name": "stdout",
     "output_type": "stream",
     "text": [
      "Failed query\n"
     ]
    },
    {
     "name": "stderr",
     "output_type": "stream",
     "text": [
      "\n",
      "PhenotypicFeature:   8%|▊         | 3/40 [00:30<06:10, 10.01s/it]\u001b[A"
     ]
    },
    {
     "name": "stdout",
     "output_type": "stream",
     "text": [
      "Failed query\n"
     ]
    },
    {
     "name": "stderr",
     "output_type": "stream",
     "text": [
      "\n",
      "PhenotypicFeature:  10%|█         | 4/40 [00:40<06:00, 10.01s/it]\u001b[A"
     ]
    },
    {
     "name": "stdout",
     "output_type": "stream",
     "text": [
      "Failed query\n"
     ]
    },
    {
     "name": "stderr",
     "output_type": "stream",
     "text": [
      "\n",
      "PhenotypicFeature:  12%|█▎        | 5/40 [00:50<05:50, 10.01s/it]\u001b[A"
     ]
    },
    {
     "name": "stdout",
     "output_type": "stream",
     "text": [
      "Failed query\n"
     ]
    },
    {
     "name": "stderr",
     "output_type": "stream",
     "text": [
      "\n",
      "PhenotypicFeature:  15%|█▌        | 6/40 [01:00<05:40, 10.01s/it]\u001b[A"
     ]
    },
    {
     "name": "stdout",
     "output_type": "stream",
     "text": [
      "Failed query\n"
     ]
    },
    {
     "name": "stderr",
     "output_type": "stream",
     "text": [
      "\n",
      "PhenotypicFeature:  18%|█▊        | 7/40 [01:10<05:30, 10.01s/it]\u001b[A"
     ]
    },
    {
     "name": "stdout",
     "output_type": "stream",
     "text": [
      "Failed query\n"
     ]
    },
    {
     "name": "stderr",
     "output_type": "stream",
     "text": [
      "\n",
      "PhenotypicFeature:  20%|██        | 8/40 [01:20<05:20, 10.02s/it]\u001b[A"
     ]
    },
    {
     "name": "stdout",
     "output_type": "stream",
     "text": [
      "Failed query\n"
     ]
    },
    {
     "name": "stderr",
     "output_type": "stream",
     "text": [
      "\n",
      "PhenotypicFeature:  22%|██▎       | 9/40 [01:30<05:10, 10.02s/it]\u001b[A"
     ]
    },
    {
     "name": "stdout",
     "output_type": "stream",
     "text": [
      "Failed query\n"
     ]
    },
    {
     "name": "stderr",
     "output_type": "stream",
     "text": [
      "\n",
      "PhenotypicFeature:  25%|██▌       | 10/40 [01:40<05:00, 10.02s/it]\u001b[A"
     ]
    },
    {
     "name": "stdout",
     "output_type": "stream",
     "text": [
      "Failed query\n"
     ]
    },
    {
     "name": "stderr",
     "output_type": "stream",
     "text": [
      "\n",
      "PhenotypicFeature:  28%|██▊       | 11/40 [01:50<04:50, 10.02s/it]\u001b[A"
     ]
    },
    {
     "name": "stdout",
     "output_type": "stream",
     "text": [
      "Failed query\n"
     ]
    },
    {
     "name": "stderr",
     "output_type": "stream",
     "text": [
      "\n",
      "PhenotypicFeature:  30%|███       | 12/40 [02:00<04:40, 10.02s/it]\u001b[A"
     ]
    },
    {
     "name": "stdout",
     "output_type": "stream",
     "text": [
      "Failed query\n"
     ]
    },
    {
     "name": "stderr",
     "output_type": "stream",
     "text": [
      "\n",
      "PhenotypicFeature:  32%|███▎      | 13/40 [02:10<04:30, 10.02s/it]\u001b[A"
     ]
    },
    {
     "name": "stdout",
     "output_type": "stream",
     "text": [
      "Failed query\n"
     ]
    },
    {
     "name": "stderr",
     "output_type": "stream",
     "text": [
      "\n",
      "PhenotypicFeature:  35%|███▌      | 14/40 [02:20<04:20, 10.02s/it]\u001b[A"
     ]
    },
    {
     "name": "stdout",
     "output_type": "stream",
     "text": [
      "Failed query\n"
     ]
    },
    {
     "name": "stderr",
     "output_type": "stream",
     "text": [
      "\n",
      "PhenotypicFeature:  38%|███▊      | 15/40 [02:30<04:10, 10.02s/it]\u001b[A"
     ]
    },
    {
     "name": "stdout",
     "output_type": "stream",
     "text": [
      "Failed query\n"
     ]
    },
    {
     "name": "stderr",
     "output_type": "stream",
     "text": [
      "\n",
      "PhenotypicFeature:  40%|████      | 16/40 [02:40<04:00, 10.02s/it]\u001b[A"
     ]
    },
    {
     "name": "stdout",
     "output_type": "stream",
     "text": [
      "Failed query\n"
     ]
    },
    {
     "name": "stderr",
     "output_type": "stream",
     "text": [
      "\n",
      "PhenotypicFeature:  42%|████▎     | 17/40 [02:50<03:50, 10.02s/it]\u001b[A"
     ]
    },
    {
     "name": "stdout",
     "output_type": "stream",
     "text": [
      "Failed query\n"
     ]
    },
    {
     "name": "stderr",
     "output_type": "stream",
     "text": [
      "\n",
      "PhenotypicFeature:  45%|████▌     | 18/40 [03:00<03:40, 10.02s/it]\u001b[A"
     ]
    },
    {
     "name": "stdout",
     "output_type": "stream",
     "text": [
      "Failed query\n"
     ]
    },
    {
     "name": "stderr",
     "output_type": "stream",
     "text": [
      "\n",
      "PhenotypicFeature:  48%|████▊     | 19/40 [03:10<03:30, 10.02s/it]\u001b[A"
     ]
    },
    {
     "name": "stdout",
     "output_type": "stream",
     "text": [
      "Failed query\n"
     ]
    },
    {
     "name": "stderr",
     "output_type": "stream",
     "text": [
      "\n",
      "PhenotypicFeature:  50%|█████     | 20/40 [03:20<03:20, 10.02s/it]\u001b[A"
     ]
    },
    {
     "name": "stdout",
     "output_type": "stream",
     "text": [
      "Failed query\n"
     ]
    },
    {
     "name": "stderr",
     "output_type": "stream",
     "text": [
      "\n",
      "PhenotypicFeature:  52%|█████▎    | 21/40 [03:30<03:10, 10.02s/it]\u001b[A"
     ]
    },
    {
     "name": "stdout",
     "output_type": "stream",
     "text": [
      "Failed query\n"
     ]
    },
    {
     "name": "stderr",
     "output_type": "stream",
     "text": [
      "\n",
      "PhenotypicFeature:  55%|█████▌    | 22/40 [03:40<03:00, 10.02s/it]\u001b[A"
     ]
    },
    {
     "name": "stdout",
     "output_type": "stream",
     "text": [
      "Failed query\n"
     ]
    },
    {
     "name": "stderr",
     "output_type": "stream",
     "text": [
      "\n",
      "PhenotypicFeature:  57%|█████▊    | 23/40 [03:50<02:50, 10.02s/it]\u001b[A"
     ]
    },
    {
     "name": "stdout",
     "output_type": "stream",
     "text": [
      "Failed query\n"
     ]
    },
    {
     "name": "stderr",
     "output_type": "stream",
     "text": [
      "\n",
      "PhenotypicFeature:  60%|██████    | 24/40 [04:00<02:40, 10.01s/it]\u001b[A"
     ]
    },
    {
     "name": "stdout",
     "output_type": "stream",
     "text": [
      "Failed query\n"
     ]
    },
    {
     "name": "stderr",
     "output_type": "stream",
     "text": [
      "\n",
      "PhenotypicFeature:  62%|██████▎   | 25/40 [04:10<02:30, 10.01s/it]\u001b[A"
     ]
    },
    {
     "name": "stdout",
     "output_type": "stream",
     "text": [
      "Failed query\n"
     ]
    },
    {
     "name": "stderr",
     "output_type": "stream",
     "text": [
      "\n",
      "PhenotypicFeature:  65%|██████▌   | 26/40 [04:20<02:20, 10.01s/it]\u001b[A"
     ]
    },
    {
     "name": "stdout",
     "output_type": "stream",
     "text": [
      "Failed query\n"
     ]
    },
    {
     "name": "stderr",
     "output_type": "stream",
     "text": [
      "\n",
      "PhenotypicFeature:  68%|██████▊   | 27/40 [04:30<02:10, 10.01s/it]\u001b[A"
     ]
    },
    {
     "name": "stdout",
     "output_type": "stream",
     "text": [
      "Failed query\n"
     ]
    },
    {
     "name": "stderr",
     "output_type": "stream",
     "text": [
      "\n",
      "PhenotypicFeature:  70%|███████   | 28/40 [04:40<02:00, 10.01s/it]\u001b[A"
     ]
    },
    {
     "name": "stdout",
     "output_type": "stream",
     "text": [
      "Failed query\n"
     ]
    },
    {
     "name": "stderr",
     "output_type": "stream",
     "text": [
      "\n",
      "PhenotypicFeature:  72%|███████▎  | 29/40 [04:50<01:50, 10.01s/it]\u001b[A"
     ]
    },
    {
     "name": "stdout",
     "output_type": "stream",
     "text": [
      "Failed query\n"
     ]
    },
    {
     "name": "stderr",
     "output_type": "stream",
     "text": [
      "\n",
      "PhenotypicFeature:  75%|███████▌  | 30/40 [05:00<01:40, 10.01s/it]\u001b[A"
     ]
    },
    {
     "name": "stdout",
     "output_type": "stream",
     "text": [
      "Failed query\n"
     ]
    },
    {
     "name": "stderr",
     "output_type": "stream",
     "text": [
      "\n",
      "PhenotypicFeature:  78%|███████▊  | 31/40 [05:10<01:30, 10.01s/it]\u001b[A"
     ]
    },
    {
     "name": "stdout",
     "output_type": "stream",
     "text": [
      "Failed query\n"
     ]
    },
    {
     "name": "stderr",
     "output_type": "stream",
     "text": [
      "\n",
      "PhenotypicFeature:  80%|████████  | 32/40 [05:20<01:20, 10.02s/it]\u001b[A"
     ]
    },
    {
     "name": "stdout",
     "output_type": "stream",
     "text": [
      "Failed query\n"
     ]
    },
    {
     "name": "stderr",
     "output_type": "stream",
     "text": [
      "\n",
      "PhenotypicFeature:  82%|████████▎ | 33/40 [05:30<01:10, 10.02s/it]\u001b[A"
     ]
    },
    {
     "name": "stdout",
     "output_type": "stream",
     "text": [
      "Failed query\n"
     ]
    },
    {
     "name": "stderr",
     "output_type": "stream",
     "text": [
      "\n",
      "PhenotypicFeature:  85%|████████▌ | 34/40 [05:40<01:00, 10.02s/it]\u001b[A"
     ]
    },
    {
     "name": "stdout",
     "output_type": "stream",
     "text": [
      "Failed query\n"
     ]
    },
    {
     "name": "stderr",
     "output_type": "stream",
     "text": [
      "\n",
      "PhenotypicFeature:  88%|████████▊ | 35/40 [05:50<00:50, 10.02s/it]\u001b[A"
     ]
    },
    {
     "name": "stdout",
     "output_type": "stream",
     "text": [
      "Failed query\n"
     ]
    },
    {
     "name": "stderr",
     "output_type": "stream",
     "text": [
      "\n",
      "PhenotypicFeature:  90%|█████████ | 36/40 [06:00<00:40, 10.01s/it]\u001b[A"
     ]
    },
    {
     "name": "stdout",
     "output_type": "stream",
     "text": [
      "Failed query\n"
     ]
    },
    {
     "name": "stderr",
     "output_type": "stream",
     "text": [
      "\n",
      "PhenotypicFeature:  92%|█████████▎| 37/40 [06:10<00:30, 10.02s/it]\u001b[A"
     ]
    },
    {
     "name": "stdout",
     "output_type": "stream",
     "text": [
      "Failed query\n"
     ]
    },
    {
     "name": "stderr",
     "output_type": "stream",
     "text": [
      "\n",
      "PhenotypicFeature:  95%|█████████▌| 38/40 [06:20<00:20, 10.02s/it]\u001b[A"
     ]
    },
    {
     "name": "stdout",
     "output_type": "stream",
     "text": [
      "Failed query\n"
     ]
    },
    {
     "name": "stderr",
     "output_type": "stream",
     "text": [
      "\n",
      "PhenotypicFeature:  98%|█████████▊| 39/40 [06:30<00:10, 10.02s/it]\u001b[A"
     ]
    },
    {
     "name": "stdout",
     "output_type": "stream",
     "text": [
      "Failed query\n"
     ]
    },
    {
     "name": "stderr",
     "output_type": "stream",
     "text": [
      "\n",
      "PhenotypicFeature: 100%|██████████| 40/40 [06:40<00:00, 10.01s/it]\u001b[A"
     ]
    },
    {
     "name": "stdout",
     "output_type": "stream",
     "text": [
      "Failed query\n"
     ]
    },
    {
     "name": "stderr",
     "output_type": "stream",
     "text": [
      "\n",
      "PhenotypicFeature: 41it [06:50, 10.02s/it]                        \u001b[A\n",
      "outer:  93%|█████████▎| 13/14 [2:00:32<05:00, 300.63s/it]\n",
      "Protein:   0%|          | 0/124 [00:00<?, ?it/s]\u001b[A"
     ]
    },
    {
     "name": "stdout",
     "output_type": "stream",
     "text": [
      "Failed query\n"
     ]
    },
    {
     "name": "stderr",
     "output_type": "stream",
     "text": [
      "\n",
      "Protein:   1%|          | 1/124 [00:10<20:31, 10.01s/it]\u001b[A"
     ]
    },
    {
     "name": "stdout",
     "output_type": "stream",
     "text": [
      "Failed query\n"
     ]
    },
    {
     "name": "stderr",
     "output_type": "stream",
     "text": [
      "\n",
      "Protein:   2%|▏         | 2/124 [00:20<20:21, 10.02s/it]\u001b[A"
     ]
    },
    {
     "name": "stdout",
     "output_type": "stream",
     "text": [
      "Failed query\n"
     ]
    },
    {
     "name": "stderr",
     "output_type": "stream",
     "text": [
      "\n",
      "Protein:   2%|▏         | 3/124 [00:30<20:11, 10.02s/it]\u001b[A"
     ]
    },
    {
     "name": "stdout",
     "output_type": "stream",
     "text": [
      "Failed query\n"
     ]
    },
    {
     "name": "stderr",
     "output_type": "stream",
     "text": [
      "\n",
      "Protein:   3%|▎         | 4/124 [00:40<20:01, 10.02s/it]\u001b[A"
     ]
    },
    {
     "name": "stdout",
     "output_type": "stream",
     "text": [
      "Failed query\n"
     ]
    },
    {
     "name": "stderr",
     "output_type": "stream",
     "text": [
      "Protein:   3%|▎         | 4/124 [00:43<21:31, 10.76s/it]\n",
      "outer:  93%|█████████▎| 13/14 [2:01:15<09:19, 559.63s/it]\n"
     ]
    },
    {
     "ename": "KeyboardInterrupt",
     "evalue": "",
     "output_type": "error",
     "traceback": [
      "\u001b[0;31m---------------------------------------------------------------------------\u001b[0m",
      "\u001b[0;31mKeyError\u001b[0m                                  Traceback (most recent call last)",
      "\u001b[0;32m<ipython-input-46-89fe141ec0fd>\u001b[0m in \u001b[0;36m<module>\u001b[0;34m\u001b[0m\n\u001b[1;32m     13\u001b[0m             \u001b[0mr\u001b[0m \u001b[0;34m=\u001b[0m \u001b[0mrequests\u001b[0m\u001b[0;34m.\u001b[0m\u001b[0mpost\u001b[0m\u001b[0;34m(\u001b[0m\u001b[0mURL\u001b[0m\u001b[0;34m,\u001b[0m \u001b[0mjson\u001b[0m\u001b[0;34m=\u001b[0m\u001b[0mquery_data\u001b[0m\u001b[0;34m)\u001b[0m\u001b[0;34m\u001b[0m\u001b[0;34m\u001b[0m\u001b[0m\n\u001b[0;32m---> 14\u001b[0;31m             \u001b[0mall_results\u001b[0m\u001b[0;34m.\u001b[0m\u001b[0mappend\u001b[0m\u001b[0;34m(\u001b[0m\u001b[0mprocess_bte_result\u001b[0m\u001b[0;34m(\u001b[0m\u001b[0mr\u001b[0m\u001b[0;34m)\u001b[0m\u001b[0;34m)\u001b[0m\u001b[0;34m\u001b[0m\u001b[0;34m\u001b[0m\u001b[0m\n\u001b[0m\u001b[1;32m     15\u001b[0m             \u001b[0mall_id_mappings\u001b[0m\u001b[0;34m.\u001b[0m\u001b[0mappend\u001b[0m\u001b[0;34m(\u001b[0m\u001b[0mget_response_ids\u001b[0m\u001b[0;34m(\u001b[0m\u001b[0mr\u001b[0m\u001b[0;34m)\u001b[0m\u001b[0;34m)\u001b[0m\u001b[0;34m\u001b[0m\u001b[0;34m\u001b[0m\u001b[0m\n",
      "\u001b[0;32m<ipython-input-7-de16e1fdb2fd>\u001b[0m in \u001b[0;36mprocess_bte_result\u001b[0;34m(result, hops)\u001b[0m\n\u001b[1;32m      2\u001b[0m     \u001b[0mout\u001b[0m \u001b[0;34m=\u001b[0m \u001b[0mdefaultdict\u001b[0m\u001b[0;34m(\u001b[0m\u001b[0mlist\u001b[0m\u001b[0;34m)\u001b[0m\u001b[0;34m\u001b[0m\u001b[0;34m\u001b[0m\u001b[0m\n\u001b[0;32m----> 3\u001b[0;31m     \u001b[0;32mfor\u001b[0m \u001b[0mres\u001b[0m \u001b[0;32min\u001b[0m \u001b[0mresult\u001b[0m\u001b[0;34m.\u001b[0m\u001b[0mjson\u001b[0m\u001b[0;34m(\u001b[0m\u001b[0;34m)\u001b[0m\u001b[0;34m[\u001b[0m\u001b[0;34m'message'\u001b[0m\u001b[0;34m]\u001b[0m\u001b[0;34m[\u001b[0m\u001b[0;34m'results'\u001b[0m\u001b[0;34m]\u001b[0m\u001b[0;34m:\u001b[0m\u001b[0;34m\u001b[0m\u001b[0;34m\u001b[0m\u001b[0m\n\u001b[0m\u001b[1;32m      4\u001b[0m         \u001b[0mout\u001b[0m\u001b[0;34m[\u001b[0m\u001b[0;34m'n0'\u001b[0m\u001b[0;34m]\u001b[0m\u001b[0;34m.\u001b[0m\u001b[0mappend\u001b[0m\u001b[0;34m(\u001b[0m\u001b[0mres\u001b[0m\u001b[0;34m[\u001b[0m\u001b[0;34m'node_bindings'\u001b[0m\u001b[0;34m]\u001b[0m\u001b[0;34m[\u001b[0m\u001b[0;34m'n0'\u001b[0m\u001b[0;34m]\u001b[0m\u001b[0;34m[\u001b[0m\u001b[0;36m0\u001b[0m\u001b[0;34m]\u001b[0m\u001b[0;34m[\u001b[0m\u001b[0;34m'id'\u001b[0m\u001b[0;34m]\u001b[0m\u001b[0;34m)\u001b[0m\u001b[0;34m\u001b[0m\u001b[0;34m\u001b[0m\u001b[0m\n",
      "\u001b[0;31mKeyError\u001b[0m: 'message'",
      "\nDuring handling of the above exception, another exception occurred:\n",
      "\u001b[0;31mKeyboardInterrupt\u001b[0m                         Traceback (most recent call last)",
      "\u001b[0;32m<ipython-input-46-89fe141ec0fd>\u001b[0m in \u001b[0;36m<module>\u001b[0;34m\u001b[0m\n\u001b[1;32m     16\u001b[0m             \u001b[0msuccess\u001b[0m\u001b[0;34m.\u001b[0m\u001b[0mextend\u001b[0m\u001b[0;34m(\u001b[0m\u001b[0mn\u001b[0m\u001b[0;34m)\u001b[0m\u001b[0;34m\u001b[0m\u001b[0;34m\u001b[0m\u001b[0m\n\u001b[1;32m     17\u001b[0m         \u001b[0;32mexcept\u001b[0m\u001b[0;34m:\u001b[0m\u001b[0;34m\u001b[0m\u001b[0;34m\u001b[0m\u001b[0m\n\u001b[0;32m---> 18\u001b[0;31m             \u001b[0mtime\u001b[0m\u001b[0;34m.\u001b[0m\u001b[0msleep\u001b[0m\u001b[0;34m(\u001b[0m\u001b[0;36m10\u001b[0m\u001b[0;34m)\u001b[0m \u001b[0;31m#sleep on a failure... sometimes the API restarts and\u001b[0m\u001b[0;34m\u001b[0m\u001b[0;34m\u001b[0m\u001b[0m\n\u001b[0m\u001b[1;32m     19\u001b[0m                            \u001b[0;31m# Hundereds of queries can fail in that time perioed\u001b[0m\u001b[0;34m\u001b[0m\u001b[0;34m\u001b[0m\u001b[0;34m\u001b[0m\u001b[0m\n\u001b[1;32m     20\u001b[0m             \u001b[0mprint\u001b[0m\u001b[0;34m(\u001b[0m\u001b[0;34m\"Failed query\"\u001b[0m\u001b[0;34m)\u001b[0m\u001b[0;34m\u001b[0m\u001b[0;34m\u001b[0m\u001b[0m\n",
      "\u001b[0;31mKeyboardInterrupt\u001b[0m: "
     ]
    }
   ],
   "source": [
    "success = []\n",
    "fail = []\n",
    "all_results = []\n",
    "all_id_mappings = []\n",
    "\n",
    "for k, v in tqdm(all_queries.items(), desc='outer', total=len(all_queries)):\n",
    "    query_data['message']['query_graph']['nodes']['n1']['category'] = q_mn_map[k]\n",
    "\n",
    "    for n in tqdm(chunk_list(v, 10), desc=k, total=len(v)//10):\n",
    "\n",
    "        try:\n",
    "            query_data['message']['query_graph']['nodes']['n0']['id'] = n\n",
    "            r = requests.post(URL, json=query_data)\n",
    "            all_results.append(process_bte_result(r))\n",
    "            all_id_mappings.append(get_response_ids(r))\n",
    "            success.extend(n)\n",
    "        except:\n",
    "            time.sleep(10) #sleep on a failure... sometimes the API restarts and\n",
    "                           # Hundereds of queries can fail in that time perioed\n",
    "            print(\"Failed query\")\n",
    "            fail.extend(n)"
   ]
  },
  {
   "cell_type": "code",
   "execution_count": 47,
   "metadata": {},
   "outputs": [
    {
     "data": {
      "text/plain": [
       "3063"
      ]
     },
     "execution_count": 47,
     "metadata": {},
     "output_type": "execute_result"
    }
   ],
   "source": [
    "len(success)"
   ]
  },
  {
   "cell_type": "code",
   "execution_count": 48,
   "metadata": {},
   "outputs": [
    {
     "data": {
      "text/plain": [
       "2382"
      ]
     },
     "execution_count": 48,
     "metadata": {},
     "output_type": "execute_result"
    }
   ],
   "source": [
    "len(fail)"
   ]
  },
  {
   "cell_type": "code",
   "execution_count": 49,
   "metadata": {},
   "outputs": [
    {
     "data": {
      "text/plain": [
       "570444"
      ]
     },
     "execution_count": 49,
     "metadata": {},
     "output_type": "execute_result"
    }
   ],
   "source": [
    "len(pd.concat(all_results))"
   ]
  },
  {
   "cell_type": "code",
   "execution_count": 50,
   "metadata": {},
   "outputs": [],
   "source": [
    "pd.concat(all_results).drop_duplicates().to_csv(out_dir.joinpath('BTE_TRAPI_result.csv'), index=False)\n",
    "pd.concat(all_id_mappings).drop_duplicates().to_csv(out_dir.joinpath('BTE_id_maps.csv'), index=False)\n",
    "pd.Series(success, name='dmdb_identifier').to_csv(out_dir.joinpath('successfully_queried.csv'), index=False)"
   ]
  },
  {
   "cell_type": "markdown",
   "metadata": {},
   "source": [
    "## Re-query those that previously failed..."
   ]
  },
  {
   "cell_type": "code",
   "execution_count": 73,
   "metadata": {},
   "outputs": [],
   "source": [
    "finished = ['BiologicalProcess', 'Cell', 'CellularComponent', 'ChemicalSubstance', 'Disease',\n",
    "           'Drug', 'GeneFamily', 'GrossAnatomicalStructure', 'MacromolecularComplex',\n",
    "           'MolecularActivity', 'OrganismTaxon', 'Pathway', 'PhenotypicFeature']"
   ]
  },
  {
   "cell_type": "code",
   "execution_count": 45,
   "metadata": {},
   "outputs": [],
   "source": [
    "URL = 'https://api.bte.ncats.io/v1/query'"
   ]
  },
  {
   "cell_type": "code",
   "execution_count": 46,
   "metadata": {},
   "outputs": [],
   "source": [
    "URL = 'http://localhost:3000/v1/query'"
   ]
  },
  {
   "cell_type": "code",
   "execution_count": 78,
   "metadata": {},
   "outputs": [],
   "source": [
    "prev_success = set(pd.read_csv(out_dir.joinpath('successfully_queried.csv'))['dmdb_identifier'])\n",
    "all_query_ids = set(chain(*[v for v in all_queries.values()]))\n",
    "\n",
    "fail = all_query_ids - prev_success"
   ]
  },
  {
   "cell_type": "code",
   "execution_count": 79,
   "metadata": {},
   "outputs": [],
   "source": [
    "prev_success = prev_success | set(success)"
   ]
  },
  {
   "cell_type": "code",
   "execution_count": 55,
   "metadata": {},
   "outputs": [
    {
     "data": {
      "text/plain": [
       "list"
      ]
     },
     "execution_count": 55,
     "metadata": {},
     "output_type": "execute_result"
    }
   ],
   "source": [
    "type(all_queries[finished[0]])"
   ]
  },
  {
   "cell_type": "code",
   "execution_count": 80,
   "metadata": {},
   "outputs": [],
   "source": [
    "remain_queries = dict()\n",
    "for k, v in all_queries.items():\n",
    "    if k in finished:\n",
    "        remain_queries[k] = list(set(v) - prev_success)\n",
    "    else:\n",
    "        remain_queries[k] = v"
   ]
  },
  {
   "cell_type": "code",
   "execution_count": 81,
   "metadata": {},
   "outputs": [],
   "source": [
    "fail = list(fail)"
   ]
  },
  {
   "cell_type": "code",
   "execution_count": 82,
   "metadata": {},
   "outputs": [
    {
     "name": "stderr",
     "output_type": "stream",
     "text": [
      "outer:   0%|          | 0/14 [00:00<?, ?it/s]\n",
      "BiologicalProcess: 0it [00:00, ?it/s]\u001b[A\n",
      "\n",
      "Cell: 0it [00:00, ?it/s]\u001b[A\n",
      "\n",
      "CellularComponent: 0it [00:00, ?it/s]\u001b[A\n",
      "\n",
      "ChemicalSubstance: 0it [00:00, ?it/s]\u001b[A\n",
      "\n",
      "Disease: 0it [00:00, ?it/s]\u001b[A\n",
      "\n",
      "Drug: 0it [00:00, ?it/s]\u001b[A\n",
      "Drug: 1it [00:12, 12.55s/it]\u001b[A\n",
      "outer:  43%|████▎     | 6/14 [00:12<00:16,  2.09s/it]\n",
      "GeneFamily: 0it [00:00, ?it/s]\u001b[A\n",
      "\n",
      "GrossAnatomicalStructure: 0it [00:00, ?it/s]\u001b[A\n",
      "\n",
      "MacromolecularComplex: 0it [00:00, ?it/s]\u001b[A\n",
      "\n",
      "MolecularActivity:   0%|          | 0/16 [00:00<?, ?it/s]\u001b[A\n",
      "MolecularActivity:   6%|▋         | 1/16 [00:11<02:53, 11.59s/it]\u001b[A\n",
      "MolecularActivity:  12%|█▎        | 2/16 [00:22<02:38, 11.30s/it]\u001b[A\n",
      "MolecularActivity:  19%|█▉        | 3/16 [00:33<02:24, 11.13s/it]\u001b[A\n",
      "MolecularActivity:  25%|██▌       | 4/16 [00:43<02:09, 10.81s/it]\u001b[A\n",
      "MolecularActivity:  31%|███▏      | 5/16 [00:54<01:59, 10.88s/it]\u001b[A\n",
      "MolecularActivity:  38%|███▊      | 6/16 [01:05<01:48, 10.81s/it]\u001b[A\n",
      "MolecularActivity:  44%|████▍     | 7/16 [01:15<01:35, 10.65s/it]\u001b[A\n",
      "MolecularActivity:  50%|█████     | 8/16 [01:26<01:24, 10.58s/it]\u001b[A\n",
      "MolecularActivity:  56%|█████▋    | 9/16 [01:37<01:14, 10.62s/it]\u001b[A\n",
      "MolecularActivity:  62%|██████▎   | 10/16 [01:47<01:03, 10.55s/it]\u001b[A\n",
      "MolecularActivity:  69%|██████▉   | 11/16 [01:58<00:53, 10.66s/it]\u001b[A\n",
      "MolecularActivity:  75%|███████▌  | 12/16 [02:08<00:42, 10.64s/it]\u001b[A\n",
      "MolecularActivity:  81%|████████▏ | 13/16 [02:19<00:31, 10.60s/it]\u001b[A\n",
      "MolecularActivity:  88%|████████▊ | 14/16 [02:29<00:21, 10.56s/it]\u001b[A\n",
      "MolecularActivity:  94%|█████████▍| 15/16 [02:41<00:10, 10.76s/it]\u001b[A\n",
      "MolecularActivity: 100%|██████████| 16/16 [02:52<00:00, 10.93s/it]\u001b[A\n",
      "MolecularActivity: 17it [03:03, 10.78s/it]                        \u001b[A\n",
      "outer:  71%|███████▏  | 10/14 [03:15<01:33, 23.41s/it]\n",
      "OrganismTaxon:   0%|          | 0/22 [00:00<?, ?it/s]\u001b[A\n",
      "OrganismTaxon:   5%|▍         | 1/22 [00:11<03:56, 11.25s/it]\u001b[A\n",
      "OrganismTaxon:   9%|▉         | 2/22 [00:20<03:27, 10.36s/it]\u001b[A\n",
      "OrganismTaxon:  14%|█▎        | 3/22 [00:31<03:14, 10.26s/it]\u001b[A\n",
      "OrganismTaxon:  18%|█▊        | 4/22 [00:41<03:03, 10.21s/it]\u001b[A\n",
      "OrganismTaxon:  23%|██▎       | 5/22 [00:51<02:51, 10.07s/it]\u001b[A\n",
      "OrganismTaxon:  27%|██▋       | 6/22 [01:02<02:46, 10.39s/it]\u001b[A\n",
      "OrganismTaxon:  32%|███▏      | 7/22 [01:12<02:36, 10.45s/it]\u001b[A\n",
      "OrganismTaxon:  36%|███▋      | 8/22 [01:22<02:25, 10.38s/it]\u001b[A\n",
      "OrganismTaxon:  41%|████      | 9/22 [01:32<02:11, 10.15s/it]\u001b[A\n",
      "OrganismTaxon:  45%|████▌     | 10/22 [01:42<01:59,  9.97s/it]\u001b[A\n",
      "OrganismTaxon:  50%|█████     | 11/22 [01:52<01:49,  9.96s/it]\u001b[A\n",
      "OrganismTaxon:  55%|█████▍    | 12/22 [02:03<01:43, 10.34s/it]\u001b[A\n",
      "OrganismTaxon:  59%|█████▉    | 13/22 [02:13<01:31, 10.21s/it]\u001b[A\n",
      "OrganismTaxon:  64%|██████▎   | 14/22 [02:22<01:20, 10.04s/it]\u001b[A\n",
      "OrganismTaxon:  68%|██████▊   | 15/22 [02:32<01:08,  9.85s/it]\u001b[A\n",
      "OrganismTaxon:  73%|███████▎  | 16/22 [02:42<00:59,  9.92s/it]\u001b[A\n",
      "OrganismTaxon:  77%|███████▋  | 17/22 [02:52<00:50, 10.07s/it]\u001b[A\n",
      "OrganismTaxon:  82%|████████▏ | 18/22 [03:02<00:39,  9.99s/it]\u001b[A\n",
      "OrganismTaxon:  86%|████████▋ | 19/22 [03:13<00:30, 10.21s/it]\u001b[A\n",
      "OrganismTaxon:  91%|█████████ | 20/22 [03:24<00:20, 10.39s/it]\u001b[A\n",
      "OrganismTaxon:  95%|█████████▌| 21/22 [03:33<00:10, 10.10s/it]\u001b[A\n",
      "OrganismTaxon: 100%|██████████| 22/22 [03:43<00:00, 10.16s/it]\u001b[A\n",
      "outer:  79%|███████▊  | 11/14 [06:59<02:39, 53.11s/it]\n",
      "Pathway:   0%|          | 0/17 [00:00<?, ?it/s]\u001b[A\n",
      "Pathway:   6%|▌         | 1/17 [00:01<00:26,  1.67s/it]\u001b[A\n",
      "Pathway:  12%|█▏        | 2/17 [00:04<00:32,  2.19s/it]\u001b[A\n",
      "Pathway:  18%|█▊        | 3/17 [00:05<00:25,  1.85s/it]\u001b[A\n",
      "Pathway:  24%|██▎       | 4/17 [00:07<00:21,  1.68s/it]\u001b[A\n",
      "Pathway:  29%|██▉       | 5/17 [00:08<00:20,  1.71s/it]\u001b[A\n",
      "Pathway:  35%|███▌      | 6/17 [00:10<00:19,  1.79s/it]\u001b[A\n",
      "Pathway:  41%|████      | 7/17 [00:12<00:17,  1.78s/it]\u001b[A\n",
      "Pathway:  47%|████▋     | 8/17 [00:14<00:15,  1.69s/it]\u001b[A\n",
      "Pathway:  53%|█████▎    | 9/17 [00:15<00:13,  1.69s/it]\u001b[A\n",
      "Pathway:  59%|█████▉    | 10/17 [00:17<00:11,  1.64s/it]\u001b[A\n",
      "Pathway:  65%|██████▍   | 11/17 [00:18<00:09,  1.62s/it]\u001b[A\n",
      "Pathway:  71%|███████   | 12/17 [00:20<00:08,  1.62s/it]\u001b[A\n",
      "Pathway:  76%|███████▋  | 13/17 [00:21<00:06,  1.55s/it]\u001b[A\n",
      "Pathway:  82%|████████▏ | 14/17 [00:23<00:04,  1.52s/it]\u001b[A\n",
      "Pathway:  88%|████████▊ | 15/17 [00:24<00:03,  1.53s/it]\u001b[A\n",
      "Pathway:  94%|█████████▍| 16/17 [00:26<00:01,  1.63s/it]\u001b[A\n",
      "Pathway: 100%|██████████| 17/17 [00:28<00:00,  1.70s/it]\u001b[A\n",
      "outer:  86%|████████▌ | 12/14 [07:28<01:37, 48.88s/it]\n",
      "PhenotypicFeature:   0%|          | 0/40 [00:00<?, ?it/s]\u001b[A\n",
      "PhenotypicFeature:   2%|▎         | 1/40 [00:18<12:05, 18.61s/it]\u001b[A\n",
      "PhenotypicFeature:   5%|▌         | 2/40 [00:36<11:23, 18.00s/it]\u001b[A\n",
      "PhenotypicFeature:   8%|▊         | 3/40 [00:50<09:56, 16.12s/it]\u001b[A\n",
      "PhenotypicFeature:  10%|█         | 4/40 [01:07<09:53, 16.48s/it]\u001b[A\n",
      "PhenotypicFeature:  12%|█▎        | 5/40 [01:23<09:40, 16.58s/it]\u001b[A\n",
      "PhenotypicFeature:  15%|█▌        | 6/40 [01:40<09:27, 16.70s/it]\u001b[A\n",
      "PhenotypicFeature:  18%|█▊        | 7/40 [01:54<08:33, 15.56s/it]\u001b[A\n",
      "PhenotypicFeature:  20%|██        | 8/40 [02:07<07:58, 14.95s/it]\u001b[A\n",
      "PhenotypicFeature:  22%|██▎       | 9/40 [02:19<07:15, 14.04s/it]\u001b[A\n",
      "PhenotypicFeature:  25%|██▌       | 10/40 [02:35<07:16, 14.54s/it]\u001b[A"
     ]
    },
    {
     "name": "stdout",
     "output_type": "stream",
     "text": [
      "Failed query\n"
     ]
    },
    {
     "name": "stderr",
     "output_type": "stream",
     "text": [
      "\n",
      "PhenotypicFeature:  28%|██▊       | 11/40 [02:50<07:10, 14.84s/it]\u001b[A\n",
      "PhenotypicFeature:  30%|███       | 12/40 [03:10<07:35, 16.26s/it]\u001b[A\n",
      "PhenotypicFeature:  32%|███▎      | 13/40 [03:24<07:04, 15.73s/it]\u001b[A\n",
      "PhenotypicFeature:  35%|███▌      | 14/40 [03:38<06:30, 15.01s/it]\u001b[A\n",
      "PhenotypicFeature:  38%|███▊      | 15/40 [03:50<05:51, 14.06s/it]\u001b[A\n",
      "PhenotypicFeature:  40%|████      | 16/40 [04:01<05:21, 13.40s/it]\u001b[A\n",
      "PhenotypicFeature:  42%|████▎     | 17/40 [04:18<05:30, 14.36s/it]\u001b[A\n",
      "PhenotypicFeature:  45%|████▌     | 18/40 [04:32<05:15, 14.35s/it]\u001b[A\n",
      "PhenotypicFeature:  48%|████▊     | 19/40 [04:48<05:08, 14.69s/it]\u001b[A\n",
      "PhenotypicFeature:  50%|█████     | 20/40 [05:00<04:39, 13.97s/it]\u001b[A\n",
      "PhenotypicFeature:  52%|█████▎    | 21/40 [05:15<04:32, 14.33s/it]\u001b[A\n",
      "PhenotypicFeature:  55%|█████▌    | 22/40 [05:26<03:57, 13.18s/it]\u001b[A\n",
      "PhenotypicFeature:  57%|█████▊    | 23/40 [05:39<03:44, 13.18s/it]\u001b[A\n",
      "PhenotypicFeature:  60%|██████    | 24/40 [05:55<03:43, 13.98s/it]\u001b[A\n",
      "PhenotypicFeature:  62%|██████▎   | 25/40 [06:08<03:26, 13.79s/it]\u001b[A\n",
      "PhenotypicFeature:  65%|██████▌   | 26/40 [06:26<03:29, 14.95s/it]\u001b[A\n",
      "PhenotypicFeature:  68%|██████▊   | 27/40 [06:43<03:21, 15.48s/it]\u001b[A\n",
      "PhenotypicFeature:  70%|███████   | 28/40 [06:57<03:00, 15.04s/it]\u001b[A\n",
      "PhenotypicFeature:  72%|███████▎  | 29/40 [07:12<02:45, 15.04s/it]\u001b[A\n",
      "PhenotypicFeature:  75%|███████▌  | 30/40 [07:23<02:19, 13.99s/it]\u001b[A\n",
      "PhenotypicFeature:  78%|███████▊  | 31/40 [07:38<02:06, 14.11s/it]\u001b[A\n",
      "PhenotypicFeature:  80%|████████  | 32/40 [08:10<02:37, 19.72s/it]\u001b[A\n",
      "PhenotypicFeature:  82%|████████▎ | 33/40 [08:28<02:14, 19.14s/it]\u001b[A\n",
      "PhenotypicFeature:  85%|████████▌ | 34/40 [08:43<01:47, 17.97s/it]\u001b[A\n",
      "PhenotypicFeature:  88%|████████▊ | 35/40 [08:58<01:24, 16.81s/it]\u001b[A\n",
      "PhenotypicFeature:  90%|█████████ | 36/40 [09:11<01:03, 15.91s/it]\u001b[A\n",
      "PhenotypicFeature:  92%|█████████▎| 37/40 [09:28<00:48, 16.21s/it]\u001b[A\n",
      "PhenotypicFeature:  95%|█████████▌| 38/40 [09:40<00:29, 14.92s/it]\u001b[A\n",
      "PhenotypicFeature:  98%|█████████▊| 39/40 [09:53<00:14, 14.33s/it]\u001b[A\n",
      "PhenotypicFeature: 100%|██████████| 40/40 [10:09<00:00, 14.87s/it]\u001b[A\n",
      "PhenotypicFeature: 41it [10:19, 15.11s/it]                        \u001b[A\n",
      "outer:  93%|█████████▎| 13/14 [17:47<02:42, 162.95s/it]\n",
      "Protein:   0%|          | 0/124 [00:00<?, ?it/s]\u001b[A\n",
      "Protein:   1%|          | 1/124 [00:08<17:20,  8.46s/it]\u001b[A\n",
      "Protein:   2%|▏         | 2/124 [00:16<16:15,  8.00s/it]\u001b[A\n",
      "Protein:   2%|▏         | 3/124 [00:26<18:25,  9.14s/it]\u001b[A\n",
      "Protein:   3%|▎         | 4/124 [00:38<20:14, 10.12s/it]\u001b[A\n",
      "Protein:   4%|▍         | 5/124 [00:52<22:52, 11.53s/it]\u001b[A\n",
      "Protein:   5%|▍         | 6/124 [01:02<21:51, 11.12s/it]\u001b[A\n",
      "Protein:   6%|▌         | 7/124 [01:10<19:55, 10.22s/it]\u001b[A\n",
      "Protein:   6%|▋         | 8/124 [01:26<22:43, 11.75s/it]\u001b[A\n",
      "Protein:   7%|▋         | 9/124 [01:34<20:18, 10.60s/it]\u001b[A\n",
      "Protein:   8%|▊         | 10/124 [01:43<19:39, 10.35s/it]\u001b[A\n",
      "Protein:   9%|▉         | 11/124 [01:54<19:32, 10.38s/it]\u001b[A\n",
      "Protein:  10%|▉         | 12/124 [02:03<18:46, 10.06s/it]\u001b[A\n",
      "Protein:  10%|█         | 13/124 [02:15<19:20, 10.46s/it]\u001b[A"
     ]
    },
    {
     "name": "stdout",
     "output_type": "stream",
     "text": [
      "Failed query\n"
     ]
    },
    {
     "name": "stderr",
     "output_type": "stream",
     "text": [
      "\n",
      "Protein:  11%|█▏        | 14/124 [02:26<19:32, 10.65s/it]\u001b[A\n",
      "Protein:  12%|█▏        | 15/124 [02:38<20:28, 11.27s/it]\u001b[A\n",
      "Protein:  13%|█▎        | 16/124 [02:56<23:53, 13.27s/it]\u001b[A\n",
      "Protein:  14%|█▎        | 17/124 [03:05<21:30, 12.06s/it]\u001b[A\n",
      "Protein:  15%|█▍        | 18/124 [03:16<20:35, 11.65s/it]\u001b[A\n",
      "Protein:  15%|█▌        | 19/124 [03:24<18:19, 10.47s/it]\u001b[A\n",
      "Protein:  16%|█▌        | 20/124 [03:32<16:41,  9.63s/it]\u001b[A\n",
      "Protein:  17%|█▋        | 21/124 [03:41<16:21,  9.53s/it]\u001b[A\n",
      "Protein:  18%|█▊        | 22/124 [03:49<15:38,  9.20s/it]\u001b[A\n",
      "Protein:  19%|█▊        | 23/124 [03:59<15:40,  9.31s/it]\u001b[A\n",
      "Protein:  19%|█▉        | 24/124 [04:12<17:15, 10.36s/it]\u001b[A\n",
      "Protein:  20%|██        | 25/124 [04:21<16:27,  9.97s/it]\u001b[A\n",
      "Protein:  21%|██        | 26/124 [04:31<16:17,  9.97s/it]\u001b[A\n",
      "Protein:  22%|██▏       | 27/124 [04:40<15:35,  9.64s/it]\u001b[A\n",
      "Protein:  23%|██▎       | 28/124 [04:50<15:51,  9.92s/it]\u001b[A\n",
      "Protein:  23%|██▎       | 29/124 [05:04<17:46, 11.22s/it]\u001b[A\n",
      "Protein:  24%|██▍       | 30/124 [05:16<17:37, 11.25s/it]\u001b[A\n",
      "Protein:  25%|██▌       | 31/124 [05:24<15:56, 10.29s/it]\u001b[A\n",
      "Protein:  26%|██▌       | 32/124 [05:34<15:58, 10.42s/it]\u001b[A\n",
      "Protein:  27%|██▋       | 33/124 [05:46<16:16, 10.73s/it]\u001b[A\n",
      "Protein:  27%|██▋       | 34/124 [06:00<17:28, 11.65s/it]\u001b[A\n",
      "Protein:  28%|██▊       | 35/124 [06:08<15:50, 10.68s/it]\u001b[A\n",
      "Protein:  29%|██▉       | 36/124 [06:16<14:27,  9.86s/it]\u001b[A\n",
      "Protein:  30%|██▉       | 37/124 [06:25<13:48,  9.52s/it]\u001b[A\n",
      "Protein:  31%|███       | 38/124 [06:42<17:02, 11.89s/it]\u001b[A\n",
      "Protein:  31%|███▏      | 39/124 [06:52<15:56, 11.25s/it]\u001b[A\n",
      "Protein:  32%|███▏      | 40/124 [06:59<14:02, 10.03s/it]\u001b[A\n",
      "Protein:  33%|███▎      | 41/124 [07:07<13:08,  9.50s/it]\u001b[A\n",
      "Protein:  34%|███▍      | 42/124 [07:16<12:42,  9.30s/it]\u001b[A\n",
      "Protein:  35%|███▍      | 43/124 [07:26<12:47,  9.48s/it]\u001b[A\n",
      "Protein:  35%|███▌      | 44/124 [07:34<12:02,  9.03s/it]\u001b[A\n",
      "Protein:  36%|███▋      | 45/124 [07:45<12:38,  9.60s/it]\u001b[A\n",
      "Protein:  37%|███▋      | 46/124 [07:57<13:20, 10.27s/it]\u001b[A\n",
      "Protein:  38%|███▊      | 47/124 [08:06<12:34,  9.80s/it]\u001b[A\n",
      "Protein:  39%|███▊      | 48/124 [08:18<13:14, 10.45s/it]\u001b[A\n",
      "Protein:  40%|███▉      | 49/124 [08:25<11:51,  9.49s/it]\u001b[A\n",
      "Protein:  40%|████      | 50/124 [08:37<12:51, 10.43s/it]\u001b[A\n",
      "Protein:  41%|████      | 51/124 [08:47<12:23, 10.18s/it]\u001b[A\n",
      "Protein:  42%|████▏     | 52/124 [08:57<11:58,  9.98s/it]\u001b[A\n",
      "Protein:  43%|████▎     | 53/124 [09:09<12:31, 10.59s/it]\u001b[A\n",
      "Protein:  44%|████▎     | 54/124 [09:17<11:31,  9.88s/it]\u001b[A\n",
      "Protein:  44%|████▍     | 55/124 [09:27<11:21,  9.88s/it]\u001b[A\n",
      "Protein:  45%|████▌     | 56/124 [09:35<10:39,  9.40s/it]\u001b[A\n",
      "Protein:  46%|████▌     | 57/124 [09:44<10:16,  9.21s/it]\u001b[A\n",
      "Protein:  47%|████▋     | 58/124 [09:55<10:41,  9.73s/it]\u001b[A\n",
      "Protein:  48%|████▊     | 59/124 [10:04<10:29,  9.68s/it]\u001b[A\n",
      "Protein:  48%|████▊     | 60/124 [10:15<10:45, 10.08s/it]\u001b[A\n",
      "Protein:  49%|████▉     | 61/124 [10:23<09:59,  9.51s/it]\u001b[A\n",
      "Protein:  50%|█████     | 62/124 [10:32<09:30,  9.21s/it]\u001b[A\n",
      "Protein:  51%|█████     | 63/124 [10:40<08:57,  8.80s/it]\u001b[A\n",
      "Protein:  52%|█████▏    | 64/124 [10:47<08:23,  8.39s/it]\u001b[A\n",
      "Protein:  52%|█████▏    | 65/124 [10:58<08:50,  9.00s/it]\u001b[A\n",
      "Protein:  53%|█████▎    | 66/124 [11:05<08:11,  8.47s/it]\u001b[A\n",
      "Protein:  54%|█████▍    | 67/124 [11:13<07:49,  8.24s/it]\u001b[A\n",
      "Protein:  55%|█████▍    | 68/124 [11:25<08:53,  9.53s/it]\u001b[A\n",
      "Protein:  56%|█████▌    | 69/124 [11:36<09:02,  9.86s/it]\u001b[A\n",
      "Protein:  56%|█████▋    | 70/124 [11:47<09:06, 10.13s/it]\u001b[A\n",
      "Protein:  57%|█████▋    | 71/124 [11:58<09:22, 10.61s/it]\u001b[A\n",
      "Protein:  58%|█████▊    | 72/124 [12:12<09:59, 11.53s/it]\u001b[A"
     ]
    },
    {
     "name": "stdout",
     "output_type": "stream",
     "text": [
      "Failed query\n"
     ]
    },
    {
     "name": "stderr",
     "output_type": "stream",
     "text": [
      "\n",
      "Protein:  59%|█████▉    | 73/124 [12:21<09:17, 10.93s/it]\u001b[A\n",
      "Protein:  60%|█████▉    | 74/124 [12:30<08:30, 10.20s/it]\u001b[A\n",
      "Protein:  60%|██████    | 75/124 [12:42<08:43, 10.68s/it]\u001b[A\n",
      "Protein:  61%|██████▏   | 76/124 [12:51<08:18, 10.38s/it]\u001b[A\n",
      "Protein:  62%|██████▏   | 77/124 [13:07<09:25, 12.04s/it]\u001b[A\n",
      "Protein:  63%|██████▎   | 78/124 [13:17<08:43, 11.38s/it]\u001b[A\n",
      "Protein:  64%|██████▎   | 79/124 [13:25<07:44, 10.32s/it]\u001b[A\n",
      "Protein:  65%|██████▍   | 80/124 [13:38<08:12, 11.19s/it]\u001b[A\n",
      "Protein:  65%|██████▌   | 81/124 [14:02<10:47, 15.05s/it]\u001b[A\n",
      "Protein:  66%|██████▌   | 82/124 [14:13<09:30, 13.59s/it]\u001b[A\n",
      "Protein:  67%|██████▋   | 83/124 [14:21<08:16, 12.12s/it]\u001b[A\n",
      "Protein:  68%|██████▊   | 84/124 [14:29<07:16, 10.91s/it]\u001b[A\n",
      "Protein:  69%|██████▊   | 85/124 [14:38<06:44, 10.36s/it]\u001b[A\n",
      "Protein:  69%|██████▉   | 86/124 [14:51<06:54, 10.90s/it]\u001b[A\n",
      "Protein:  70%|███████   | 87/124 [15:04<07:13, 11.72s/it]\u001b[A\n",
      "Protein:  71%|███████   | 88/124 [15:17<07:13, 12.04s/it]\u001b[A\n",
      "Protein:  72%|███████▏  | 89/124 [15:30<07:08, 12.26s/it]\u001b[A\n",
      "Protein:  73%|███████▎  | 90/124 [15:40<06:33, 11.58s/it]\u001b[A\n",
      "Protein:  73%|███████▎  | 91/124 [15:51<06:20, 11.52s/it]\u001b[A\n",
      "Protein:  74%|███████▍  | 92/124 [16:00<05:42, 10.70s/it]\u001b[A\n",
      "Protein:  75%|███████▌  | 93/124 [16:09<05:20, 10.35s/it]\u001b[A\n",
      "Protein:  76%|███████▌  | 94/124 [16:25<05:57, 11.91s/it]\u001b[A\n",
      "Protein:  77%|███████▋  | 95/124 [16:37<05:43, 11.84s/it]\u001b[A\n",
      "Protein:  77%|███████▋  | 96/124 [16:51<05:49, 12.48s/it]\u001b[A\n",
      "Protein:  78%|███████▊  | 97/124 [17:04<05:42, 12.67s/it]\u001b[A\n",
      "Protein:  79%|███████▉  | 98/124 [17:12<04:54, 11.34s/it]\u001b[A\n",
      "Protein:  80%|███████▉  | 99/124 [17:23<04:44, 11.36s/it]\u001b[A\n",
      "Protein:  81%|████████  | 100/124 [17:31<04:08, 10.37s/it]\u001b[A\n",
      "Protein:  81%|████████▏ | 101/124 [17:40<03:45,  9.80s/it]\u001b[A\n",
      "Protein:  82%|████████▏ | 102/124 [17:53<04:00, 10.92s/it]\u001b[A\n",
      "Protein:  83%|████████▎ | 103/124 [18:03<03:38, 10.40s/it]\u001b[A\n",
      "Protein:  84%|████████▍ | 104/124 [18:10<03:09,  9.46s/it]\u001b[A\n",
      "Protein:  85%|████████▍ | 105/124 [18:20<03:02,  9.61s/it]\u001b[A\n",
      "Protein:  85%|████████▌ | 106/124 [18:30<02:55,  9.73s/it]\u001b[A\n",
      "Protein:  86%|████████▋ | 107/124 [18:44<03:07, 11.02s/it]\u001b[A\n",
      "Protein:  87%|████████▋ | 108/124 [18:52<02:44, 10.25s/it]\u001b[A\n",
      "Protein:  88%|████████▊ | 109/124 [19:02<02:29, 10.00s/it]\u001b[A\n",
      "Protein:  89%|████████▊ | 110/124 [19:11<02:16,  9.73s/it]\u001b[A\n",
      "Protein:  90%|████████▉ | 111/124 [19:18<01:57,  9.05s/it]\u001b[A\n",
      "Protein:  90%|█████████ | 112/124 [19:28<01:50,  9.25s/it]\u001b[A\n",
      "Protein:  91%|█████████ | 113/124 [19:37<01:40,  9.12s/it]\u001b[A\n",
      "Protein:  92%|█████████▏| 114/124 [19:50<01:43, 10.39s/it]\u001b[A\n",
      "Protein:  93%|█████████▎| 115/124 [19:58<01:26,  9.57s/it]\u001b[A\n",
      "Protein:  94%|█████████▎| 116/124 [20:05<01:11,  8.91s/it]\u001b[A\n",
      "Protein:  94%|█████████▍| 117/124 [20:25<01:25, 12.25s/it]\u001b[A\n",
      "Protein:  95%|█████████▌| 118/124 [20:34<01:06, 11.05s/it]\u001b[A\n",
      "Protein:  96%|█████████▌| 119/124 [20:42<00:52, 10.41s/it]\u001b[A\n",
      "Protein:  97%|█████████▋| 120/124 [20:53<00:41, 10.43s/it]\u001b[A\n",
      "Protein:  98%|█████████▊| 121/124 [21:05<00:32, 10.78s/it]\u001b[A\n",
      "Protein:  98%|█████████▊| 122/124 [21:14<00:20, 10.39s/it]\u001b[A\n",
      "Protein:  99%|█████████▉| 123/124 [21:23<00:10, 10.08s/it]\u001b[A\n",
      "Protein: 100%|██████████| 124/124 [21:36<00:00, 10.95s/it]\u001b[A\n",
      "Protein: 125it [21:42, 10.42s/it]                         \u001b[A\n",
      "outer: 100%|██████████| 14/14 [39:30<00:00, 169.30s/it]\n"
     ]
    }
   ],
   "source": [
    "success = []\n",
    "new_results = []\n",
    "\n",
    "\n",
    "for k, v in tqdm(remain_queries.items(), desc='outer', total=len(all_queries)):\n",
    "    query_data['message']['query_graph']['nodes']['n1']['category'] = q_mn_map[k]\n",
    "\n",
    "    for n in tqdm(chunk_list(v, 10), desc=k, total=len(v)//10):\n",
    "\n",
    "        try:\n",
    "            query_data['message']['query_graph']['nodes']['n0']['id'] = n\n",
    "            r = requests.post(URL, json=query_data)\n",
    "            all_results.append(process_bte_result(r))\n",
    "            all_id_mappings.append(get_response_ids(r))\n",
    "            success.extend(n)\n",
    "        except:\n",
    "            time.sleep(10) #sleep on a failure... sometimes the API restarts and\n",
    "                           # Hundereds of queries can fail in that time perioed\n",
    "            print(\"Failed query\")\n",
    "            fail.extend(n)"
   ]
  },
  {
   "cell_type": "code",
   "execution_count": 84,
   "metadata": {},
   "outputs": [],
   "source": [
    "pd.concat(all_results+new_results).drop_duplicates().to_csv(out_dir.joinpath('BTE_TRAPI_result.csv'), index=False)\n",
    "pd.concat(all_id_mappings).drop_duplicates().to_csv(out_dir.joinpath('BTE_id_maps.csv'), index=False)\n",
    "pd.Series(list(prev_success)+success, name='dmdb_identifier').to_csv(out_dir.joinpath('successfully_queried.csv'), index=False)"
   ]
  },
  {
   "cell_type": "code",
   "execution_count": 83,
   "metadata": {},
   "outputs": [
    {
     "data": {
      "text/plain": [
       "1186984"
      ]
     },
     "execution_count": 83,
     "metadata": {},
     "output_type": "execute_result"
    }
   ],
   "source": [
    "len(pd.concat(all_results+new_results))"
   ]
  },
  {
   "cell_type": "code",
   "execution_count": 65,
   "metadata": {},
   "outputs": [
    {
     "data": {
      "text/plain": [
       "3519"
      ]
     },
     "execution_count": 65,
     "metadata": {},
     "output_type": "execute_result"
    }
   ],
   "source": [
    "len(list(prev_success)+success)"
   ]
  },
  {
   "cell_type": "code",
   "execution_count": 85,
   "metadata": {},
   "outputs": [
    {
     "data": {
      "text/plain": [
       "957669"
      ]
     },
     "execution_count": 85,
     "metadata": {},
     "output_type": "execute_result"
    }
   ],
   "source": [
    "len(pd.concat(all_results).drop_duplicates())"
   ]
  },
  {
   "cell_type": "code",
   "execution_count": 86,
   "metadata": {},
   "outputs": [
    {
     "data": {
      "text/plain": [
       "494905"
      ]
     },
     "execution_count": 86,
     "metadata": {},
     "output_type": "execute_result"
    }
   ],
   "source": [
    "len(pd.concat(all_id_mappings).drop_duplicates())"
   ]
  }
 ],
 "metadata": {
  "kernelspec": {
   "display_name": "Python 3 (ipykernel)",
   "language": "python",
   "name": "python3"
  },
  "language_info": {
   "codemirror_mode": {
    "name": "ipython",
    "version": 3
   },
   "file_extension": ".py",
   "mimetype": "text/x-python",
   "name": "python",
   "nbconvert_exporter": "python",
   "pygments_lexer": "ipython3",
   "version": "3.9.7"
  }
 },
 "nbformat": 4,
 "nbformat_minor": 4
}
