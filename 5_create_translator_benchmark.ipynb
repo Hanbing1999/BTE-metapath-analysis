{
 "cells": [
  {
   "cell_type": "markdown",
   "metadata": {},
   "source": [
    "# Create Translator benchmark\n",
    "\n",
    "Addresses https://github.com/TranslatorSRI/Benchmarks/issues/1"
   ]
  },
  {
   "cell_type": "code",
   "execution_count": 1,
   "metadata": {},
   "outputs": [
    {
     "name": "stderr",
     "output_type": "stream",
     "text": [
      "/home/asu/env/DMDB_analysis/lib/python3.8/site-packages/data_tools/df_processing.py:4: TqdmExperimentalWarning: Using `tqdm.autonotebook.tqdm` in notebook mode. Use `tqdm.tqdm` instead to force console mode (e.g. in jupyter console)\n",
      "  from tqdm.autonotebook import tqdm\n"
     ]
    }
   ],
   "source": [
    "import networkx as nx\n",
    "import pandas as pd\n",
    "import yaml\n",
    "\n",
    "from collections import defaultdict\n",
    "from data_tools.files import download\n",
    "from pathlib import Path"
   ]
  },
  {
   "cell_type": "code",
   "execution_count": 2,
   "metadata": {},
   "outputs": [],
   "source": [
    "# Make the output folders\n",
    "this_name = '5_create_translator_benchmark'\n",
    "out_dir = Path('../2_pipeline').joinpath(this_name, 'out').resolve()\n",
    "out_dir.mkdir(parents=True, exist_ok=True)\n",
    "\n",
    "data_dir = Path('../0_data/external').resolve()\n",
    "data_dir.mkdir(parents=True, exist_ok=True)"
   ]
  },
  {
   "cell_type": "code",
   "execution_count": 3,
   "metadata": {},
   "outputs": [
    {
     "name": "stdout",
     "output_type": "stream",
     "text": [
      "File indication_paths.yaml exits. Skipping...\n"
     ]
    }
   ],
   "source": [
    "DMDB_URL = 'https://raw.githubusercontent.com/SuLab/DrugMechDB/main/indication_paths.yaml'\n",
    "download(DMDB_URL, data_dir.joinpath('indication_paths.yaml'), redownload=False)"
   ]
  },
  {
   "cell_type": "code",
   "execution_count": 4,
   "metadata": {},
   "outputs": [],
   "source": [
    "with open(data_dir.joinpath('indication_paths.yaml'), 'r') as fh:\n",
    "        ind = yaml.safe_load(fh)"
   ]
  },
  {
   "cell_type": "code",
   "execution_count": 5,
   "metadata": {},
   "outputs": [],
   "source": [
    "### functions copied from 1_basic_dmdb_analysis.ipynb\n",
    "\n",
    "def path_to_tup(path):\n",
    "    return (path['graph']['drugbank'], path['graph']['disease_mesh'])\n",
    "\n",
    "def path_to_G(path):\n",
    "    return nx.node_link_graph(path)                                                                                        \n",
    "\n",
    "def get_all_paths(path):\n",
    "    source_id = path['links'][0]['source']                                                                              \n",
    "    target_ids = list(set([l['target'] for l in path['links']]) - set([l['source'] for l in path['links']]))\n",
    "    G = path_to_G(path)\n",
    "    this_paths = list(chain(*[list(nx.all_simple_paths(G, source_id, target_id)) for target_id in target_ids]))         \n",
    "    return this_paths\n",
    "\n",
    "def get_id_to_type(G):\n",
    "    id_to_type = {}\n",
    "    for n in G.nodes.data():\n",
    "        id_to_type[n[0]] = n[1]['label']\n",
    "    return id_to_type\n",
    "\n",
    "def get_id_to_name(G):\n",
    "    id_to_name = {}\n",
    "    for n in G.nodes.data():\n",
    "        id_to_name[n[0]] = n[1]['name']\n",
    "    return id_to_name\n",
    "\n",
    "def add_metaedges(G):\n",
    "    id_to_type = get_id_to_type(G)\n",
    "    for e in G.edges:\n",
    "        G.edges[e]['metaedge'] = id_to_type[e[0]] + ' - ' + e[2] + ' - ' + id_to_type[e[1]]\n",
    "    return G\n",
    "\n",
    "def add_meanode_pairs(G):\n",
    "    id_to_type = get_id_to_type(G)\n",
    "    for e in G.edges:\n",
    "        G.edges[e]['mn_pair'] = id_to_type[e[0]] + ' - ' + id_to_type[e[1]]\n",
    "    return G\n",
    "\n",
    "def get_targets(G):\n",
    "    drug = list(G.edges)[0][0]\n",
    "    targets = []\n",
    "    for e in G.edges:\n",
    "        if e[0] == drug:\n",
    "            targets.append(e[1])\n",
    "    return targets\n",
    "\n",
    "def get_target_metaedges(G):\n",
    "    drug = list(G.edges)[0][0]\n",
    "    target_mes = []\n",
    "    if 'metaedge' not in G.edges[list(G.edges)[0]]:\n",
    "        G = add_metaedges(G)\n",
    "    \n",
    "    for e in G.edges:\n",
    "        if e[0] == drug:\n",
    "            target_mes.append(G.edges[e]['metaedge'])\n",
    "    return target_mes"
   ]
  },
  {
   "cell_type": "code",
   "execution_count": 6,
   "metadata": {},
   "outputs": [],
   "source": [
    "target_metapath = ['Drug', 'Protein','BiologicalProcess','Disease']\n",
    "df = pd.DataFrame(columns=target_metapath)\n",
    "\n",
    "for i, p in enumerate(ind):\n",
    "    G = path_to_G(p)\n",
    "    metapath = [n[1]['label'] for n in G.nodes.data()]\n",
    "    if metapath != target_metapath:\n",
    "        continue\n",
    "    new_record = {}\n",
    "    for idx in range(len(target_metapath)):\n",
    "        new_record[target_metapath[idx]] = list(G.nodes)[idx]\n",
    "    \n",
    "    df = df.append([new_record])  \n"
   ]
  },
  {
   "cell_type": "code",
   "execution_count": 7,
   "metadata": {},
   "outputs": [
    {
     "data": {
      "text/html": [
       "<div>\n",
       "<style scoped>\n",
       "    .dataframe tbody tr th:only-of-type {\n",
       "        vertical-align: middle;\n",
       "    }\n",
       "\n",
       "    .dataframe tbody tr th {\n",
       "        vertical-align: top;\n",
       "    }\n",
       "\n",
       "    .dataframe thead th {\n",
       "        text-align: right;\n",
       "    }\n",
       "</style>\n",
       "<table border=\"1\" class=\"dataframe\">\n",
       "  <thead>\n",
       "    <tr style=\"text-align: right;\">\n",
       "      <th></th>\n",
       "      <th>Drug</th>\n",
       "      <th>Protein</th>\n",
       "      <th>BiologicalProcess</th>\n",
       "      <th>Disease</th>\n",
       "    </tr>\n",
       "  </thead>\n",
       "  <tbody>\n",
       "    <tr>\n",
       "      <th>0</th>\n",
       "      <td>MESH:D000865</td>\n",
       "      <td>UniProt:P35367</td>\n",
       "      <td>GO:0034776</td>\n",
       "      <td>MESH:D012223</td>\n",
       "    </tr>\n",
       "    <tr>\n",
       "      <th>0</th>\n",
       "      <td>MESH:C004649</td>\n",
       "      <td>UniProt:P35367</td>\n",
       "      <td>GO:0034776</td>\n",
       "      <td>MESH:D003233</td>\n",
       "    </tr>\n",
       "    <tr>\n",
       "      <th>0</th>\n",
       "      <td>MESH:D005640</td>\n",
       "      <td>UniProt:P23945</td>\n",
       "      <td>GO:0030728</td>\n",
       "      <td>MESH:D016649</td>\n",
       "    </tr>\n",
       "    <tr>\n",
       "      <th>0</th>\n",
       "      <td>MESH:C415771</td>\n",
       "      <td>UniProt:P48357</td>\n",
       "      <td>GO:0060612</td>\n",
       "      <td>MESH:D008060</td>\n",
       "    </tr>\n",
       "    <tr>\n",
       "      <th>0</th>\n",
       "      <td>MESH:D017336</td>\n",
       "      <td>UniProt:P35367</td>\n",
       "      <td>GO:0034776</td>\n",
       "      <td>MESH:D065631</td>\n",
       "    </tr>\n",
       "    <tr>\n",
       "      <th>...</th>\n",
       "      <td>...</td>\n",
       "      <td>...</td>\n",
       "      <td>...</td>\n",
       "      <td>...</td>\n",
       "    </tr>\n",
       "    <tr>\n",
       "      <th>0</th>\n",
       "      <td>MESH:C411345</td>\n",
       "      <td>UniProt:P00742</td>\n",
       "      <td>GO:0072378</td>\n",
       "      <td>MESH:D011655</td>\n",
       "    </tr>\n",
       "    <tr>\n",
       "      <th>0</th>\n",
       "      <td>MESH:C586847</td>\n",
       "      <td>UniProt:Q9UM73</td>\n",
       "      <td>GO:0008283</td>\n",
       "      <td>MESH:D002289</td>\n",
       "    </tr>\n",
       "    <tr>\n",
       "      <th>0</th>\n",
       "      <td>MESH:C030814</td>\n",
       "      <td>UniProt:P38435</td>\n",
       "      <td>GO:0007596</td>\n",
       "      <td>MESH:D006475</td>\n",
       "    </tr>\n",
       "    <tr>\n",
       "      <th>0</th>\n",
       "      <td>MESH:C000589393</td>\n",
       "      <td>UniProt:P16234</td>\n",
       "      <td>GO:0008283</td>\n",
       "      <td>MESH:D012509</td>\n",
       "    </tr>\n",
       "    <tr>\n",
       "      <th>0</th>\n",
       "      <td>DB:DB01175</td>\n",
       "      <td>UniProt:P31645</td>\n",
       "      <td>GO:0051610</td>\n",
       "      <td>MESH:D003865</td>\n",
       "    </tr>\n",
       "  </tbody>\n",
       "</table>\n",
       "<p>78 rows × 4 columns</p>\n",
       "</div>"
      ],
      "text/plain": [
       "               Drug         Protein BiologicalProcess       Disease\n",
       "0      MESH:D000865  UniProt:P35367        GO:0034776  MESH:D012223\n",
       "0      MESH:C004649  UniProt:P35367        GO:0034776  MESH:D003233\n",
       "0      MESH:D005640  UniProt:P23945        GO:0030728  MESH:D016649\n",
       "0      MESH:C415771  UniProt:P48357        GO:0060612  MESH:D008060\n",
       "0      MESH:D017336  UniProt:P35367        GO:0034776  MESH:D065631\n",
       "..              ...             ...               ...           ...\n",
       "0      MESH:C411345  UniProt:P00742        GO:0072378  MESH:D011655\n",
       "0      MESH:C586847  UniProt:Q9UM73        GO:0008283  MESH:D002289\n",
       "0      MESH:C030814  UniProt:P38435        GO:0007596  MESH:D006475\n",
       "0   MESH:C000589393  UniProt:P16234        GO:0008283  MESH:D012509\n",
       "0        DB:DB01175  UniProt:P31645        GO:0051610  MESH:D003865\n",
       "\n",
       "[78 rows x 4 columns]"
      ]
     },
     "execution_count": 7,
     "metadata": {},
     "output_type": "execute_result"
    }
   ],
   "source": [
    "df\n"
   ]
  },
  {
   "cell_type": "code",
   "execution_count": 8,
   "metadata": {},
   "outputs": [],
   "source": [
    "df.to_csv(out_dir.joinpath('translator_benchmark.txt'),index=None,sep=\"\\t\")"
   ]
  }
 ],
 "metadata": {
  "kernelspec": {
   "display_name": "DMDB_analysis",
   "language": "python",
   "name": "dmdb_analysis"
  },
  "language_info": {
   "codemirror_mode": {
    "name": "ipython",
    "version": 3
   },
   "file_extension": ".py",
   "mimetype": "text/x-python",
   "name": "python",
   "nbconvert_exporter": "python",
   "pygments_lexer": "ipython3",
   "version": "3.8.10"
  }
 },
 "nbformat": 4,
 "nbformat_minor": 4
}
